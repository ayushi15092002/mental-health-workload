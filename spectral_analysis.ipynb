{
  "nbformat": 4,
  "nbformat_minor": 0,
  "metadata": {
    "colab": {
      "provenance": [],
      "authorship_tag": "ABX9TyPMwCgl3d34hiCZyP5LlDNr",
      "include_colab_link": true
    },
    "kernelspec": {
      "name": "python3",
      "display_name": "Python 3"
    },
    "language_info": {
      "name": "python"
    }
  },
  "cells": [
    {
      "cell_type": "markdown",
      "metadata": {
        "id": "view-in-github",
        "colab_type": "text"
      },
      "source": [
        "<a href=\"https://colab.research.google.com/github/ayushi15092002/mental-health-workload/blob/main/spectral_analysis.ipynb\" target=\"_parent\"><img src=\"https://colab.research.google.com/assets/colab-badge.svg\" alt=\"Open In Colab\"/></a>"
      ]
    },
    {
      "cell_type": "code",
      "source": [
        "# Load the Drive helper and mount\n",
        "from google.colab import drive\n",
        "\n",
        "# This will prompt for authorization.\n",
        "drive.mount('/content/drive')"
      ],
      "metadata": {
        "colab": {
          "base_uri": "https://localhost:8080/"
        },
        "id": "LsVk6gRl9DaD",
        "outputId": "f6699caf-ab4d-4741-8fa7-2aa794647971"
      },
      "execution_count": 9,
      "outputs": [
        {
          "output_type": "stream",
          "name": "stdout",
          "text": [
            "Mounted at /content/drive\n"
          ]
        }
      ]
    },
    {
      "cell_type": "code",
      "source": [
        "pip install mne --upgrade"
      ],
      "metadata": {
        "id": "awBwoWaL9LoZ"
      },
      "execution_count": null,
      "outputs": []
    },
    {
      "cell_type": "code",
      "source": [
        "pip install signal-processing"
      ],
      "metadata": {
        "id": "KtWBseV99PUS"
      },
      "execution_count": null,
      "outputs": []
    },
    {
      "cell_type": "code",
      "source": [
        "pip install basic"
      ],
      "metadata": {
        "id": "CqCfjf759QDt"
      },
      "execution_count": null,
      "outputs": []
    },
    {
      "cell_type": "code",
      "source": [
        "pip install sklearn.cross_validation"
      ],
      "metadata": {
        "id": "CRzjlyA7HSzW"
      },
      "execution_count": null,
      "outputs": []
    },
    {
      "cell_type": "code",
      "source": [
        "pip install matplotlib --upgrade"
      ],
      "metadata": {
        "id": "6WNuKCvKHY5r"
      },
      "execution_count": null,
      "outputs": []
    },
    {
      "cell_type": "code",
      "execution_count": 19,
      "metadata": {
        "id": "tbeugm8Jhijj"
      },
      "outputs": [],
      "source": [
        "import os, mne\n",
        "import pandas as pd\n",
        "import seaborn as sns\n",
        "import matplotlib.pyplot as plt\n",
        "from signal_processing import *\n",
        "# from basic import *\n",
        "from scipy.signal import welch\n",
        "from scipy.integrate import simps\n",
        "from mne.time_frequency import psd_array_multitaper "
      ]
    },
    {
      "cell_type": "code",
      "source": [
        "b_names = ['Delta','Theta','Alpha','Beta']\n",
        "b_freqs = [[1,3.9],[4,7.9],[8,12],[12.1,30]]\n",
        "brain_regions = {'Left frontal':['AF3','F7','F3'],\n",
        "                 'Right frontal':['AF4','F8','F4'],\n",
        "                 'Left posterior':['CP5','P7','P3'],\n",
        "                 'Right posterior':['CP6','P8','P4'],\n",
        "                 'Midline frontal':['Fz'],\n",
        "                 'Midline central':['Cz'],\n",
        "                 'Midline posterior':['Pz']}"
      ],
      "metadata": {
        "id": "idL3qz3HELQ1"
      },
      "execution_count": 11,
      "outputs": []
    },
    {
      "cell_type": "code",
      "source": [
        "clean_data_dir = \"/content/drive/My Drive/drdo/cleanData\"\n",
        "read_datasetA(clean_data_dir)"
      ],
      "metadata": {
        "colab": {
          "base_uri": "https://localhost:8080/",
          "height": 1000
        },
        "id": "uQnehcT39sOZ",
        "outputId": "f9a5e9d2-8b08-43e5-8b66-d8f7db10f423"
      },
      "execution_count": 50,
      "outputs": [
        {
          "output_type": "stream",
          "name": "stderr",
          "text": [
            "<ipython-input-47-31e9fb321698>:3: RuntimeWarning: This filename (/content/drive/My Drive/drdo/cleanData/VP004/nback1.fif) does not conform to MNE naming conventions. All epochs files should end with -epo.fif, -epo.fif.gz, _epo.fif or _epo.fif.gz\n",
            "  epochs = mne.read_epochs(fname=file_path,verbose=False)\n"
          ]
        },
        {
          "output_type": "stream",
          "name": "stdout",
          "text": [
            "epochs >>>>>>>>>>>>>>>>>>>>>>\n"
          ]
        },
        {
          "output_type": "stream",
          "name": "stderr",
          "text": [
            "<string>:4: FutureWarning: NOTE: psd_welch() is a deprecated function. Function ``psd_welch()`` is deprecated; for Raw/Epochs/Evoked instances use ``spectrum = instance.compute_psd(method=\"welch\")`` instead, followed by ``spectrum.get_data(return_freqs=True)``.\n"
          ]
        },
        {
          "output_type": "stream",
          "name": "stdout",
          "text": [
            "psds >>>>>>>>>>>>>>>>>>>>>\n",
            "[[[2.21533204e+01 8.17893364e+00 4.18525992e+00 ... 3.34371885e-02\n",
            "   3.35939472e-02 2.79535276e-02]\n",
            "  [5.74676290e+01 2.15683497e+01 9.35461897e+00 ... 5.86498932e-02\n",
            "   4.83976108e-02 5.22858887e-02]\n",
            "  [3.72700890e+01 1.27231550e+01 8.61695997e+00 ... 3.65750321e-02\n",
            "   3.76784318e-02 2.80222834e-02]\n",
            "  ...\n",
            "  [3.09564570e+01 5.98726613e+00 2.61181401e+00 ... 4.70442177e-02\n",
            "   4.25175900e-02 3.67901615e-02]\n",
            "  [3.70916065e+01 7.77589947e+00 2.93303777e+00 ... 7.02982885e-02\n",
            "   5.43431505e-02 5.24598424e-02]\n",
            "  [2.96591031e+01 8.15341179e+00 3.86076101e+00 ... 7.53632700e-02\n",
            "   6.56445619e-02 6.48993302e-02]]\n",
            "\n",
            " [[1.06377257e+02 2.43088146e+01 8.47119961e+00 ... 2.68157034e-02\n",
            "   2.59269249e-02 2.35686387e-02]\n",
            "  [1.60600682e+02 5.22295626e+01 1.39299385e+01 ... 4.13753798e-02\n",
            "   3.74785609e-02 3.59111651e-02]\n",
            "  [1.62919954e+02 2.62421027e+01 1.25035404e+01 ... 2.86875341e-02\n",
            "   2.59121170e-02 2.30468788e-02]\n",
            "  ...\n",
            "  [5.86408870e+01 9.54305468e+00 3.22868769e+00 ... 4.98690786e-02\n",
            "   4.78049861e-02 4.12617563e-02]\n",
            "  [5.41190788e+01 6.75490712e+00 2.60963249e+00 ... 4.95833537e-02\n",
            "   5.12065608e-02 6.03547751e-02]\n",
            "  [7.08414242e+01 6.81080514e+00 3.48916526e+00 ... 5.74810251e-02\n",
            "   7.10653195e-02 7.99828894e-02]]\n",
            "\n",
            " [[1.08966576e+02 2.73957291e+01 1.00638214e+01 ... 2.63637288e-02\n",
            "   2.49960222e-02 2.39335836e-02]\n",
            "  [1.53877675e+02 5.62108084e+01 1.70893838e+01 ... 4.41902288e-02\n",
            "   3.85390101e-02 3.78642886e-02]\n",
            "  [1.59286004e+02 2.72494369e+01 1.26626819e+01 ... 2.81247596e-02\n",
            "   2.42028544e-02 2.52171556e-02]\n",
            "  ...\n",
            "  [5.70322035e+01 9.58201911e+00 3.36663410e+00 ... 4.79632025e-02\n",
            "   4.79442006e-02 4.30632144e-02]\n",
            "  [5.29467538e+01 6.48120398e+00 2.73346633e+00 ... 5.09477584e-02\n",
            "   5.34737611e-02 6.22113163e-02]\n",
            "  [7.12718398e+01 6.88345020e+00 3.30904484e+00 ... 5.85619863e-02\n",
            "   6.99385060e-02 7.81808612e-02]]\n",
            "\n",
            " ...\n",
            "\n",
            " [[3.74872643e+01 8.83764055e+00 4.16233096e+00 ... 3.00011524e-02\n",
            "   1.91769941e-02 1.79616823e-02]\n",
            "  [2.77514349e+01 1.00655330e+01 5.69813189e+00 ... 4.70623200e-02\n",
            "   5.65437348e-02 4.72802472e-02]\n",
            "  [5.29703442e+01 1.29540039e+01 8.31171960e+00 ... 3.73838934e-02\n",
            "   2.95169719e-02 3.08848309e-02]\n",
            "  ...\n",
            "  [3.11295732e+01 4.66612119e+00 2.09548969e+00 ... 4.44601902e-02\n",
            "   3.66721030e-02 4.98552876e-02]\n",
            "  [4.11476231e+01 5.43494984e+00 2.31977289e+00 ... 6.90583216e-02\n",
            "   5.40896778e-02 5.47242740e-02]\n",
            "  [4.83577869e+01 6.75740512e+00 2.34746365e+00 ... 6.79907198e-02\n",
            "   5.64704582e-02 5.78997533e-02]]\n",
            "\n",
            " [[3.61259994e+01 8.96336892e+00 3.67926485e+00 ... 2.95689238e-02\n",
            "   2.12568541e-02 1.89949966e-02]\n",
            "  [2.83106576e+01 1.06987074e+01 5.21618405e+00 ... 4.85461621e-02\n",
            "   5.81719990e-02 4.79671770e-02]\n",
            "  [5.12825892e+01 1.35289114e+01 8.12266713e+00 ... 3.60987167e-02\n",
            "   2.99943045e-02 3.14802518e-02]\n",
            "  ...\n",
            "  [3.10700608e+01 5.51994693e+00 2.11701106e+00 ... 4.59101994e-02\n",
            "   3.51690497e-02 4.53721253e-02]\n",
            "  [4.14673116e+01 5.99432502e+00 2.15033109e+00 ... 7.53594994e-02\n",
            "   5.32682729e-02 5.10741710e-02]\n",
            "  [4.37314560e+01 6.80006757e+00 2.25504983e+00 ... 7.25205374e-02\n",
            "   5.65755351e-02 5.74742270e-02]]\n",
            "\n",
            " [[4.56412168e+01 8.96203570e+00 3.39562799e+00 ... 2.86916309e-02\n",
            "   2.16077301e-02 1.91423169e-02]\n",
            "  [3.00685805e+01 1.03176091e+01 4.83834401e+00 ... 4.90822192e-02\n",
            "   5.70117247e-02 4.73729573e-02]\n",
            "  [5.67345508e+01 1.39961897e+01 7.99196033e+00 ... 3.43379477e-02\n",
            "   2.96706827e-02 3.18582929e-02]\n",
            "  ...\n",
            "  [3.74866392e+01 5.92336365e+00 2.09074229e+00 ... 4.59329919e-02\n",
            "   3.49936119e-02 4.55994258e-02]\n",
            "  [5.52424395e+01 7.25563375e+00 2.17451625e+00 ... 7.12547814e-02\n",
            "   5.39615391e-02 5.03259594e-02]\n",
            "  [5.46000840e+01 8.22559578e+00 2.66569653e+00 ... 6.81047654e-02\n",
            "   5.86993831e-02 5.90384505e-02]]]\n",
            "freqs >>>>>>>>>>>>>>>>>>>>>>>>>>\n",
            "[ 1.   1.5  2.   2.5  3.   3.5  4.   4.5  5.   5.5  6.   6.5  7.   7.5\n",
            "  8.   8.5  9.   9.5 10.  10.5 11.  11.5 12.  12.5 13.  13.5 14.  14.5\n",
            " 15.  15.5 16.  16.5 17.  17.5 18.  18.5 19.  19.5 20.  20.5 21.  21.5\n",
            " 22.  22.5 23.  23.5 24.  24.5 25.  25.5 26.  26.5 27.  27.5 28.  28.5\n",
            " 29.  29.5 30. ]\n"
          ]
        },
        {
          "output_type": "stream",
          "name": "stderr",
          "text": [
            "<ipython-input-39-19f0ae049237>:120: FutureWarning: The \"vmin\" and \"vmax\" parameters are deprecated and will be removed in version 1.3. Use the \"vlim\" parameter instead.\n",
            "  im,cm = mne.viz.plot_topomap(psd_band_mean_ch_p1,epochs.info,axes=ax1,vmin=vmin,vmax=vmax,show=False)\n"
          ]
        },
        {
          "output_type": "error",
          "ename": "ValueError",
          "evalue": "ignored",
          "traceback": [
            "\u001b[0;31m---------------------------------------------------------------------------\u001b[0m",
            "\u001b[0;31mValueError\u001b[0m                                Traceback (most recent call last)",
            "\u001b[0;32m<ipython-input-50-0448c92d3547>\u001b[0m in \u001b[0;36m<module>\u001b[0;34m\u001b[0m\n\u001b[1;32m      1\u001b[0m \u001b[0mclean_data_dir\u001b[0m \u001b[0;34m=\u001b[0m \u001b[0;34m\"/content/drive/My Drive/drdo/cleanData\"\u001b[0m\u001b[0;34m\u001b[0m\u001b[0;34m\u001b[0m\u001b[0m\n\u001b[0;32m----> 2\u001b[0;31m \u001b[0mread_datasetA\u001b[0m\u001b[0;34m(\u001b[0m\u001b[0mclean_data_dir\u001b[0m\u001b[0;34m)\u001b[0m\u001b[0;34m\u001b[0m\u001b[0;34m\u001b[0m\u001b[0m\n\u001b[0m",
            "\u001b[0;32m<ipython-input-48-a896a05a9021>\u001b[0m in \u001b[0;36mread_datasetA\u001b[0;34m(subjectPath)\u001b[0m\n\u001b[1;32m      6\u001b[0m         \u001b[0;32mfor\u001b[0m \u001b[0mfolder_name\u001b[0m \u001b[0;32min\u001b[0m \u001b[0mdirs\u001b[0m\u001b[0;34m:\u001b[0m\u001b[0;34m\u001b[0m\u001b[0;34m\u001b[0m\u001b[0m\n\u001b[1;32m      7\u001b[0m           \u001b[0mpath_file_fif1\u001b[0m \u001b[0;34m=\u001b[0m \u001b[0msubjectPath\u001b[0m \u001b[0;34m+\u001b[0m \u001b[0;34m'/'\u001b[0m \u001b[0;34m+\u001b[0m \u001b[0mfolder_name\u001b[0m \u001b[0;34m+\u001b[0m \u001b[0;34m'/nback1.fif'\u001b[0m\u001b[0;34m\u001b[0m\u001b[0;34m\u001b[0m\u001b[0m\n\u001b[0;32m----> 8\u001b[0;31m           \u001b[0mspectral_analysis_A\u001b[0m\u001b[0;34m(\u001b[0m\u001b[0mpath_file_fif1\u001b[0m\u001b[0;34m,\u001b[0m \u001b[0mfolder_name\u001b[0m\u001b[0;34m,\u001b[0m\u001b[0;34m'nback1'\u001b[0m\u001b[0;34m)\u001b[0m\u001b[0;34m\u001b[0m\u001b[0;34m\u001b[0m\u001b[0m\n\u001b[0m\u001b[1;32m      9\u001b[0m \u001b[0;34m\u001b[0m\u001b[0m\n\u001b[1;32m     10\u001b[0m           \u001b[0mpath_file_fif2\u001b[0m \u001b[0;34m=\u001b[0m \u001b[0msubjectPath\u001b[0m \u001b[0;34m+\u001b[0m \u001b[0;34m'/'\u001b[0m \u001b[0;34m+\u001b[0m \u001b[0mfolder_name\u001b[0m \u001b[0;34m+\u001b[0m \u001b[0;34m'/nback2.fif'\u001b[0m\u001b[0;34m\u001b[0m\u001b[0;34m\u001b[0m\u001b[0m\n",
            "\u001b[0;32m<ipython-input-47-31e9fb321698>\u001b[0m in \u001b[0;36mspectral_analysis_A\u001b[0;34m(file_path, subject_name, sesssion_name)\u001b[0m\n\u001b[1;32m     12\u001b[0m \u001b[0;34m\u001b[0m\u001b[0m\n\u001b[1;32m     13\u001b[0m   \u001b[0;31m# Total PSD of chosen frequency range (for later relative PSD calculation)\u001b[0m\u001b[0;34m\u001b[0m\u001b[0;34m\u001b[0m\u001b[0;34m\u001b[0m\u001b[0m\n\u001b[0;32m---> 14\u001b[0;31m   \u001b[0mpsd_ch_allbands\u001b[0m \u001b[0;34m=\u001b[0m \u001b[0mbandpower_per_channel\u001b[0m\u001b[0;34m(\u001b[0m\u001b[0mpsds\u001b[0m\u001b[0;34m,\u001b[0m\u001b[0mfreqs\u001b[0m\u001b[0;34m,\u001b[0m\u001b[0;34m[\u001b[0m\u001b[0mb_freqs\u001b[0m\u001b[0;34m[\u001b[0m\u001b[0;36m0\u001b[0m\u001b[0;34m]\u001b[0m\u001b[0;34m[\u001b[0m\u001b[0;36m0\u001b[0m\u001b[0;34m]\u001b[0m\u001b[0;34m,\u001b[0m\u001b[0mb_freqs\u001b[0m\u001b[0;34m[\u001b[0m\u001b[0;34m-\u001b[0m\u001b[0;36m1\u001b[0m\u001b[0;34m]\u001b[0m\u001b[0;34m[\u001b[0m\u001b[0;34m-\u001b[0m\u001b[0;36m1\u001b[0m\u001b[0;34m]\u001b[0m\u001b[0;34m]\u001b[0m\u001b[0;34m,\u001b[0m\u001b[0;34m'All bands'\u001b[0m\u001b[0;34m,\u001b[0m\u001b[0msubject_name\u001b[0m\u001b[0;34m,\u001b[0m\u001b[0mepochs\u001b[0m\u001b[0;34m)\u001b[0m\u001b[0;34m\u001b[0m\u001b[0;34m\u001b[0m\u001b[0m\n\u001b[0m\u001b[1;32m     15\u001b[0m   \u001b[0mprint\u001b[0m\u001b[0;34m(\u001b[0m\u001b[0;34m\"psd_ch_allbands >>>>>>>>>>>>>>>>>>>>>>>>.\"\u001b[0m\u001b[0;34m)\u001b[0m\u001b[0;34m\u001b[0m\u001b[0;34m\u001b[0m\u001b[0m\n\u001b[1;32m     16\u001b[0m   \u001b[0mprint\u001b[0m\u001b[0;34m(\u001b[0m\u001b[0mpsd_ch_allbands\u001b[0m\u001b[0;34m)\u001b[0m\u001b[0;34m\u001b[0m\u001b[0;34m\u001b[0m\u001b[0m\n",
            "\u001b[0;32m<ipython-input-39-19f0ae049237>\u001b[0m in \u001b[0;36mbandpower_per_channel\u001b[0;34m(psds, freqs, band, b_name, subjectname, epochs, ln_normalization)\u001b[0m\n\u001b[1;32m    148\u001b[0m     \"\"\"\n\u001b[1;32m    149\u001b[0m     \u001b[0;31m# Calculate the MAD error (z-score) of the bandpower to be sure of the quality\u001b[0m\u001b[0;34m\u001b[0m\u001b[0;34m\u001b[0m\u001b[0;34m\u001b[0m\u001b[0m\n\u001b[0;32m--> 150\u001b[0;31m     \u001b[0mpsd_max_mad_error\u001b[0m \u001b[0;34m=\u001b[0m \u001b[0msiqnal_quality_check\u001b[0m\u001b[0;34m(\u001b[0m\u001b[0mpsds\u001b[0m\u001b[0;34m,\u001b[0m\u001b[0mfreqs\u001b[0m\u001b[0;34m,\u001b[0m\u001b[0mband\u001b[0m\u001b[0;34m,\u001b[0m\u001b[0mb_name\u001b[0m\u001b[0;34m,\u001b[0m\u001b[0msubjectname\u001b[0m\u001b[0;34m,\u001b[0m\u001b[0mepochs\u001b[0m\u001b[0;34m)\u001b[0m\u001b[0;34m\u001b[0m\u001b[0;34m\u001b[0m\u001b[0m\n\u001b[0m\u001b[1;32m    151\u001b[0m \u001b[0;34m\u001b[0m\u001b[0m\n\u001b[1;32m    152\u001b[0m     \u001b[0mlow\u001b[0m\u001b[0;34m,\u001b[0m \u001b[0mhigh\u001b[0m \u001b[0;34m=\u001b[0m \u001b[0mband\u001b[0m\u001b[0;34m\u001b[0m\u001b[0;34m\u001b[0m\u001b[0m\n",
            "\u001b[0;32m<ipython-input-39-19f0ae049237>\u001b[0m in \u001b[0;36msiqnal_quality_check\u001b[0;34m(psds, freqs, band, b_name, subjectname, epochs)\u001b[0m\n\u001b[1;32m    118\u001b[0m         \u001b[0mfig\u001b[0m\u001b[0;34m,\u001b[0m\u001b[0;34m(\u001b[0m\u001b[0max1\u001b[0m\u001b[0;34m,\u001b[0m\u001b[0max2\u001b[0m\u001b[0;34m)\u001b[0m \u001b[0;34m=\u001b[0m \u001b[0mplt\u001b[0m\u001b[0;34m.\u001b[0m\u001b[0msubplots\u001b[0m\u001b[0;34m(\u001b[0m\u001b[0mncols\u001b[0m\u001b[0;34m=\u001b[0m\u001b[0;36m2\u001b[0m\u001b[0;34m)\u001b[0m\u001b[0;34m\u001b[0m\u001b[0;34m\u001b[0m\u001b[0m\n\u001b[1;32m    119\u001b[0m         \u001b[0mfig\u001b[0m\u001b[0;34m.\u001b[0m\u001b[0msuptitle\u001b[0m\u001b[0;34m(\u001b[0m\u001b[0;34m\"MAD >= 2 ! Quality control for {} ({})\"\u001b[0m\u001b[0;34m.\u001b[0m\u001b[0mformat\u001b[0m\u001b[0;34m(\u001b[0m\u001b[0mb_name\u001b[0m\u001b[0;34m,\u001b[0m\u001b[0msubjectname\u001b[0m\u001b[0;34m)\u001b[0m\u001b[0;34m,\u001b[0m\u001b[0my\u001b[0m\u001b[0;34m=\u001b[0m\u001b[0;36m1.1\u001b[0m\u001b[0;34m,\u001b[0m\u001b[0mx\u001b[0m\u001b[0;34m=\u001b[0m\u001b[0;36m0.575\u001b[0m\u001b[0;34m)\u001b[0m\u001b[0;34m\u001b[0m\u001b[0;34m\u001b[0m\u001b[0m\n\u001b[0;32m--> 120\u001b[0;31m         \u001b[0mim\u001b[0m\u001b[0;34m,\u001b[0m\u001b[0mcm\u001b[0m \u001b[0;34m=\u001b[0m \u001b[0mmne\u001b[0m\u001b[0;34m.\u001b[0m\u001b[0mviz\u001b[0m\u001b[0;34m.\u001b[0m\u001b[0mplot_topomap\u001b[0m\u001b[0;34m(\u001b[0m\u001b[0mpsd_band_mean_ch_p1\u001b[0m\u001b[0;34m,\u001b[0m\u001b[0mepochs\u001b[0m\u001b[0;34m.\u001b[0m\u001b[0minfo\u001b[0m\u001b[0;34m,\u001b[0m\u001b[0maxes\u001b[0m\u001b[0;34m=\u001b[0m\u001b[0max1\u001b[0m\u001b[0;34m,\u001b[0m\u001b[0mvmin\u001b[0m\u001b[0;34m=\u001b[0m\u001b[0mvmin\u001b[0m\u001b[0;34m,\u001b[0m\u001b[0mvmax\u001b[0m\u001b[0;34m=\u001b[0m\u001b[0mvmax\u001b[0m\u001b[0;34m,\u001b[0m\u001b[0mshow\u001b[0m\u001b[0;34m=\u001b[0m\u001b[0;32mFalse\u001b[0m\u001b[0;34m)\u001b[0m\u001b[0;34m\u001b[0m\u001b[0;34m\u001b[0m\u001b[0m\n\u001b[0m\u001b[1;32m    121\u001b[0m         \u001b[0mim\u001b[0m\u001b[0;34m,\u001b[0m\u001b[0mcm\u001b[0m \u001b[0;34m=\u001b[0m \u001b[0mmne\u001b[0m\u001b[0;34m.\u001b[0m\u001b[0mviz\u001b[0m\u001b[0;34m.\u001b[0m\u001b[0mplot_topomap\u001b[0m\u001b[0;34m(\u001b[0m\u001b[0mpsd_band_mean_ch_p2\u001b[0m\u001b[0;34m,\u001b[0m\u001b[0mepochs\u001b[0m\u001b[0;34m.\u001b[0m\u001b[0minfo\u001b[0m\u001b[0;34m,\u001b[0m\u001b[0maxes\u001b[0m\u001b[0;34m=\u001b[0m\u001b[0max2\u001b[0m\u001b[0;34m,\u001b[0m\u001b[0mvmin\u001b[0m\u001b[0;34m=\u001b[0m\u001b[0mvmin\u001b[0m\u001b[0;34m,\u001b[0m\u001b[0mvmax\u001b[0m\u001b[0;34m=\u001b[0m\u001b[0mvmax\u001b[0m\u001b[0;34m,\u001b[0m\u001b[0mshow\u001b[0m\u001b[0;34m=\u001b[0m\u001b[0;32mFalse\u001b[0m\u001b[0;34m)\u001b[0m\u001b[0;34m\u001b[0m\u001b[0;34m\u001b[0m\u001b[0m\n\u001b[1;32m    122\u001b[0m         \u001b[0max1\u001b[0m\u001b[0;34m.\u001b[0m\u001b[0mset_title\u001b[0m\u001b[0;34m(\u001b[0m\u001b[0;34m\"Epochs 0-{}\\nAvg MAD error = {}\"\u001b[0m\u001b[0;34m.\u001b[0m\u001b[0mformat\u001b[0m\u001b[0;34m(\u001b[0m\u001b[0midx_mid_epoch\u001b[0m\u001b[0;34m-\u001b[0m\u001b[0;36m1\u001b[0m\u001b[0;34m,\u001b[0m\u001b[0mpsd_mad_error_avg\u001b[0m\u001b[0;34m[\u001b[0m\u001b[0;36m0\u001b[0m\u001b[0;34m]\u001b[0m\u001b[0;34m)\u001b[0m\u001b[0;34m)\u001b[0m\u001b[0;34m\u001b[0m\u001b[0;34m\u001b[0m\u001b[0m\n",
            "\u001b[0;32m/usr/local/lib/python3.7/dist-packages/mne/viz/topomap.py\u001b[0m in \u001b[0;36mplot_topomap\u001b[0;34m(data, pos, ch_type, sensors, show_names, names, mask, mask_params, contours, outlines, sphere, image_interp, extrapolate, border, res, size, cmap, vlim, vmin, vmax, cnorm, axes, show, onselect)\u001b[0m\n\u001b[1;32m    827\u001b[0m         \u001b[0moutlines\u001b[0m\u001b[0;34m=\u001b[0m\u001b[0moutlines\u001b[0m\u001b[0;34m,\u001b[0m \u001b[0mcontours\u001b[0m\u001b[0;34m=\u001b[0m\u001b[0mcontours\u001b[0m\u001b[0;34m,\u001b[0m \u001b[0mimage_interp\u001b[0m\u001b[0;34m=\u001b[0m\u001b[0mimage_interp\u001b[0m\u001b[0;34m,\u001b[0m\u001b[0;34m\u001b[0m\u001b[0;34m\u001b[0m\u001b[0m\n\u001b[1;32m    828\u001b[0m         \u001b[0mshow\u001b[0m\u001b[0;34m=\u001b[0m\u001b[0mshow\u001b[0m\u001b[0;34m,\u001b[0m \u001b[0monselect\u001b[0m\u001b[0;34m=\u001b[0m\u001b[0monselect\u001b[0m\u001b[0;34m,\u001b[0m \u001b[0mextrapolate\u001b[0m\u001b[0;34m=\u001b[0m\u001b[0mextrapolate\u001b[0m\u001b[0;34m,\u001b[0m \u001b[0msphere\u001b[0m\u001b[0;34m=\u001b[0m\u001b[0msphere\u001b[0m\u001b[0;34m,\u001b[0m\u001b[0;34m\u001b[0m\u001b[0;34m\u001b[0m\u001b[0m\n\u001b[0;32m--> 829\u001b[0;31m         border=border, ch_type=ch_type, cnorm=cnorm)[:2]\n\u001b[0m\u001b[1;32m    830\u001b[0m \u001b[0;34m\u001b[0m\u001b[0m\n\u001b[1;32m    831\u001b[0m \u001b[0;34m\u001b[0m\u001b[0m\n",
            "\u001b[0;32m/usr/local/lib/python3.7/dist-packages/mne/viz/topomap.py\u001b[0m in \u001b[0;36m_plot_topomap\u001b[0;34m(data, pos, axes, ch_type, sensors, names, mask, mask_params, contours, outlines, sphere, image_interp, extrapolate, border, res, cmap, vmin, vmax, cnorm, show, onselect)\u001b[0m\n\u001b[1;32m   1043\u001b[0m             \u001b[0mwarnings\u001b[0m\u001b[0;34m.\u001b[0m\u001b[0msimplefilter\u001b[0m\u001b[0;34m(\u001b[0m\u001b[0;34m'ignore'\u001b[0m\u001b[0;34m)\u001b[0m\u001b[0;34m\u001b[0m\u001b[0;34m\u001b[0m\u001b[0m\n\u001b[1;32m   1044\u001b[0m             cont = axes.contour(Xi, Yi, Zi, contours, colors='k',\n\u001b[0;32m-> 1045\u001b[0;31m                                 linewidths=linewidth / 2.)\n\u001b[0m\u001b[1;32m   1046\u001b[0m \u001b[0;34m\u001b[0m\u001b[0m\n\u001b[1;32m   1047\u001b[0m     \u001b[0;32mif\u001b[0m \u001b[0mpatch_\u001b[0m \u001b[0;32mis\u001b[0m \u001b[0;32mnot\u001b[0m \u001b[0;32mNone\u001b[0m\u001b[0;34m:\u001b[0m\u001b[0;34m\u001b[0m\u001b[0;34m\u001b[0m\u001b[0m\n",
            "\u001b[0;32m/usr/local/lib/python3.7/dist-packages/matplotlib/__init__.py\u001b[0m in \u001b[0;36minner\u001b[0;34m(ax, data, *args, **kwargs)\u001b[0m\n",
            "\u001b[0;32m/usr/local/lib/python3.7/dist-packages/matplotlib/axes/_axes.py\u001b[0m in \u001b[0;36mcontour\u001b[0;34m(self, *args, **kwargs)\u001b[0m\n\u001b[1;32m   6335\u001b[0m             \u001b[0mA\u001b[0m \u001b[0mlist\u001b[0m \u001b[0mof\u001b[0m \u001b[0mlevel\u001b[0m \u001b[0mvalues\u001b[0m\u001b[0;34m,\u001b[0m \u001b[0mthat\u001b[0m \u001b[0mshould\u001b[0m \u001b[0mbe\u001b[0m \u001b[0mlabeled\u001b[0m\u001b[0;34m.\u001b[0m \u001b[0mThe\u001b[0m \u001b[0mlist\u001b[0m \u001b[0mmust\u001b[0m \u001b[0mbe\u001b[0m\u001b[0;34m\u001b[0m\u001b[0;34m\u001b[0m\u001b[0m\n\u001b[1;32m   6336\u001b[0m             \u001b[0ma\u001b[0m \u001b[0msubset\u001b[0m \u001b[0mof\u001b[0m\u001b[0;31m \u001b[0m\u001b[0;31m`\u001b[0m\u001b[0;31m`\u001b[0m\u001b[0mCS\u001b[0m\u001b[0;34m.\u001b[0m\u001b[0mlevels\u001b[0m\u001b[0;31m`\u001b[0m\u001b[0;31m`\u001b[0m\u001b[0;34m.\u001b[0m \u001b[0mIf\u001b[0m \u001b[0;32mnot\u001b[0m \u001b[0mgiven\u001b[0m\u001b[0;34m,\u001b[0m \u001b[0mall\u001b[0m \u001b[0mlevels\u001b[0m \u001b[0mare\u001b[0m \u001b[0mlabeled\u001b[0m\u001b[0;34m.\u001b[0m\u001b[0;34m\u001b[0m\u001b[0;34m\u001b[0m\u001b[0m\n\u001b[0;32m-> 6337\u001b[0;31m \u001b[0;34m\u001b[0m\u001b[0m\n\u001b[0m\u001b[1;32m   6338\u001b[0m         \u001b[0;34m**\u001b[0m\u001b[0mkwargs\u001b[0m\u001b[0;34m\u001b[0m\u001b[0;34m\u001b[0m\u001b[0m\n\u001b[1;32m   6339\u001b[0m             \u001b[0mAll\u001b[0m \u001b[0mother\u001b[0m \u001b[0mparameters\u001b[0m \u001b[0mare\u001b[0m \u001b[0mdocumented\u001b[0m \u001b[0;32min\u001b[0m\u001b[0;31m \u001b[0m\u001b[0;31m`\u001b[0m\u001b[0;34m~\u001b[0m\u001b[0;34m.\u001b[0m\u001b[0mContourLabeler\u001b[0m\u001b[0;34m.\u001b[0m\u001b[0mclabel\u001b[0m\u001b[0;31m`\u001b[0m\u001b[0;34m.\u001b[0m\u001b[0;34m\u001b[0m\u001b[0;34m\u001b[0m\u001b[0m\n",
            "\u001b[0;32m/usr/local/lib/python3.7/dist-packages/matplotlib/contour.py\u001b[0m in \u001b[0;36m__init__\u001b[0;34m(self, ax, levels, filled, linewidths, linestyles, alpha, origin, extent, cmap, colors, norm, vmin, vmax, extend, antialiased, *args, **kwargs)\u001b[0m\n\u001b[1;32m    917\u001b[0m             \u001b[0mcol\u001b[0m\u001b[0;34m.\u001b[0m\u001b[0msticky_edges\u001b[0m\u001b[0;34m.\u001b[0m\u001b[0mx\u001b[0m\u001b[0;34m[\u001b[0m\u001b[0;34m:\u001b[0m\u001b[0;34m]\u001b[0m \u001b[0;34m=\u001b[0m \u001b[0;34m[\u001b[0m\u001b[0mself\u001b[0m\u001b[0;34m.\u001b[0m\u001b[0m_mins\u001b[0m\u001b[0;34m[\u001b[0m\u001b[0;36m0\u001b[0m\u001b[0;34m]\u001b[0m\u001b[0;34m,\u001b[0m \u001b[0mself\u001b[0m\u001b[0;34m.\u001b[0m\u001b[0m_maxs\u001b[0m\u001b[0;34m[\u001b[0m\u001b[0;36m0\u001b[0m\u001b[0;34m]\u001b[0m\u001b[0;34m]\u001b[0m\u001b[0;34m\u001b[0m\u001b[0;34m\u001b[0m\u001b[0m\n\u001b[1;32m    918\u001b[0m             \u001b[0mcol\u001b[0m\u001b[0;34m.\u001b[0m\u001b[0msticky_edges\u001b[0m\u001b[0;34m.\u001b[0m\u001b[0my\u001b[0m\u001b[0;34m[\u001b[0m\u001b[0;34m:\u001b[0m\u001b[0;34m]\u001b[0m \u001b[0;34m=\u001b[0m \u001b[0;34m[\u001b[0m\u001b[0mself\u001b[0m\u001b[0;34m.\u001b[0m\u001b[0m_mins\u001b[0m\u001b[0;34m[\u001b[0m\u001b[0;36m1\u001b[0m\u001b[0;34m]\u001b[0m\u001b[0;34m,\u001b[0m \u001b[0mself\u001b[0m\u001b[0;34m.\u001b[0m\u001b[0m_maxs\u001b[0m\u001b[0;34m[\u001b[0m\u001b[0;36m1\u001b[0m\u001b[0;34m]\u001b[0m\u001b[0;34m]\u001b[0m\u001b[0;34m\u001b[0m\u001b[0;34m\u001b[0m\u001b[0m\n\u001b[0;32m--> 919\u001b[0;31m         \u001b[0mself\u001b[0m\u001b[0;34m.\u001b[0m\u001b[0maxes\u001b[0m\u001b[0;34m.\u001b[0m\u001b[0mupdate_datalim\u001b[0m\u001b[0;34m(\u001b[0m\u001b[0;34m[\u001b[0m\u001b[0mself\u001b[0m\u001b[0;34m.\u001b[0m\u001b[0m_mins\u001b[0m\u001b[0;34m,\u001b[0m \u001b[0mself\u001b[0m\u001b[0;34m.\u001b[0m\u001b[0m_maxs\u001b[0m\u001b[0;34m]\u001b[0m\u001b[0;34m)\u001b[0m\u001b[0;34m\u001b[0m\u001b[0;34m\u001b[0m\u001b[0m\n\u001b[0m\u001b[1;32m    920\u001b[0m         \u001b[0mself\u001b[0m\u001b[0;34m.\u001b[0m\u001b[0maxes\u001b[0m\u001b[0;34m.\u001b[0m\u001b[0mautoscale_view\u001b[0m\u001b[0;34m(\u001b[0m\u001b[0mtight\u001b[0m\u001b[0;34m=\u001b[0m\u001b[0;32mTrue\u001b[0m\u001b[0;34m)\u001b[0m\u001b[0;34m\u001b[0m\u001b[0;34m\u001b[0m\u001b[0m\n\u001b[1;32m    921\u001b[0m \u001b[0;34m\u001b[0m\u001b[0m\n",
            "\u001b[0;32m/usr/local/lib/python3.7/dist-packages/matplotlib/collections.py\u001b[0m in \u001b[0;36m__init__\u001b[0;34m(self, segments, linewidths, colors, antialiaseds, linestyles, offsets, transOffset, norm, cmap, pickradius, zorder, facecolors, **kwargs)\u001b[0m\n\u001b[1;32m   1357\u001b[0m         \u001b[0;31m# updating self._transforms.\u001b[0m\u001b[0;34m\u001b[0m\u001b[0;34m\u001b[0m\u001b[0;34m\u001b[0m\u001b[0m\n\u001b[1;32m   1358\u001b[0m         \u001b[0mCollection\u001b[0m\u001b[0;34m.\u001b[0m\u001b[0mdraw\u001b[0m\u001b[0;34m(\u001b[0m\u001b[0mself\u001b[0m\u001b[0;34m,\u001b[0m \u001b[0mrenderer\u001b[0m\u001b[0;34m)\u001b[0m\u001b[0;34m\u001b[0m\u001b[0;34m\u001b[0m\u001b[0m\n\u001b[0;32m-> 1359\u001b[0;31m \u001b[0;34m\u001b[0m\u001b[0m\n\u001b[0m\u001b[1;32m   1360\u001b[0m \u001b[0;34m\u001b[0m\u001b[0m\n\u001b[1;32m   1361\u001b[0m \u001b[0;32mclass\u001b[0m \u001b[0mStarPolygonCollection\u001b[0m\u001b[0;34m(\u001b[0m\u001b[0mRegularPolyCollection\u001b[0m\u001b[0;34m)\u001b[0m\u001b[0;34m:\u001b[0m\u001b[0;34m\u001b[0m\u001b[0;34m\u001b[0m\u001b[0m\n",
            "\u001b[0;32m/usr/local/lib/python3.7/dist-packages/matplotlib/collections.py\u001b[0m in \u001b[0;36mset_segments\u001b[0;34m(self, segments)\u001b[0m\n\u001b[1;32m   1372\u001b[0m     r\"\"\"\n\u001b[1;32m   1373\u001b[0m     \u001b[0mRepresents\u001b[0m \u001b[0ma\u001b[0m \u001b[0msequence\u001b[0m \u001b[0mof\u001b[0m\u001b[0;31m \u001b[0m\u001b[0;31m`\u001b[0m\u001b[0;34m.\u001b[0m\u001b[0mLine2D\u001b[0m\u001b[0;31m`\u001b[0m\u001b[0;31m\\\u001b[0m\u001b[0ms\u001b[0m \u001b[0mthat\u001b[0m \u001b[0mshould\u001b[0m \u001b[0mbe\u001b[0m \u001b[0mdrawn\u001b[0m \u001b[0mtogether\u001b[0m\u001b[0;34m.\u001b[0m\u001b[0;34m\u001b[0m\u001b[0;34m\u001b[0m\u001b[0m\n\u001b[0;32m-> 1374\u001b[0;31m \u001b[0;34m\u001b[0m\u001b[0m\n\u001b[0m\u001b[1;32m   1375\u001b[0m     \u001b[0mThis\u001b[0m \u001b[0;32mclass\u001b[0m \u001b[0mextends\u001b[0m\u001b[0;31m \u001b[0m\u001b[0;31m`\u001b[0m\u001b[0;34m.\u001b[0m\u001b[0mCollection\u001b[0m\u001b[0;31m`\u001b[0m \u001b[0mto\u001b[0m \u001b[0mrepresent\u001b[0m \u001b[0ma\u001b[0m \u001b[0msequence\u001b[0m \u001b[0mof\u001b[0m\u001b[0;34m\u001b[0m\u001b[0;34m\u001b[0m\u001b[0m\n\u001b[1;32m   1376\u001b[0m     \u001b[0;31m`\u001b[0m\u001b[0;34m.\u001b[0m\u001b[0mLine2D\u001b[0m\u001b[0;31m`\u001b[0m\u001b[0;31m\\\u001b[0m\u001b[0ms\u001b[0m \u001b[0minstead\u001b[0m \u001b[0mof\u001b[0m \u001b[0mjust\u001b[0m \u001b[0ma\u001b[0m \u001b[0msequence\u001b[0m \u001b[0mof\u001b[0m\u001b[0;31m \u001b[0m\u001b[0;31m`\u001b[0m\u001b[0;34m.\u001b[0m\u001b[0mPatch\u001b[0m\u001b[0;31m`\u001b[0m\u001b[0;31m\\\u001b[0m\u001b[0ms\u001b[0m\u001b[0;34m.\u001b[0m\u001b[0;34m\u001b[0m\u001b[0;34m\u001b[0m\u001b[0m\n",
            "\u001b[0;32m/usr/local/lib/python3.7/dist-packages/matplotlib/collections.py\u001b[0m in \u001b[0;36m<listcomp>\u001b[0;34m(.0)\u001b[0m\n\u001b[1;32m   1372\u001b[0m     r\"\"\"\n\u001b[1;32m   1373\u001b[0m     \u001b[0mRepresents\u001b[0m \u001b[0ma\u001b[0m \u001b[0msequence\u001b[0m \u001b[0mof\u001b[0m\u001b[0;31m \u001b[0m\u001b[0;31m`\u001b[0m\u001b[0;34m.\u001b[0m\u001b[0mLine2D\u001b[0m\u001b[0;31m`\u001b[0m\u001b[0;31m\\\u001b[0m\u001b[0ms\u001b[0m \u001b[0mthat\u001b[0m \u001b[0mshould\u001b[0m \u001b[0mbe\u001b[0m \u001b[0mdrawn\u001b[0m \u001b[0mtogether\u001b[0m\u001b[0;34m.\u001b[0m\u001b[0;34m\u001b[0m\u001b[0;34m\u001b[0m\u001b[0m\n\u001b[0;32m-> 1374\u001b[0;31m \u001b[0;34m\u001b[0m\u001b[0m\n\u001b[0m\u001b[1;32m   1375\u001b[0m     \u001b[0mThis\u001b[0m \u001b[0;32mclass\u001b[0m \u001b[0mextends\u001b[0m\u001b[0;31m \u001b[0m\u001b[0;31m`\u001b[0m\u001b[0;34m.\u001b[0m\u001b[0mCollection\u001b[0m\u001b[0;31m`\u001b[0m \u001b[0mto\u001b[0m \u001b[0mrepresent\u001b[0m \u001b[0ma\u001b[0m \u001b[0msequence\u001b[0m \u001b[0mof\u001b[0m\u001b[0;34m\u001b[0m\u001b[0;34m\u001b[0m\u001b[0m\n\u001b[1;32m   1376\u001b[0m     \u001b[0;31m`\u001b[0m\u001b[0;34m.\u001b[0m\u001b[0mLine2D\u001b[0m\u001b[0;31m`\u001b[0m\u001b[0;31m\\\u001b[0m\u001b[0ms\u001b[0m \u001b[0minstead\u001b[0m \u001b[0mof\u001b[0m \u001b[0mjust\u001b[0m \u001b[0ma\u001b[0m \u001b[0msequence\u001b[0m \u001b[0mof\u001b[0m\u001b[0;31m \u001b[0m\u001b[0;31m`\u001b[0m\u001b[0;34m.\u001b[0m\u001b[0mPatch\u001b[0m\u001b[0;31m`\u001b[0m\u001b[0;31m\\\u001b[0m\u001b[0ms\u001b[0m\u001b[0;34m.\u001b[0m\u001b[0;34m\u001b[0m\u001b[0;34m\u001b[0m\u001b[0m\n",
            "\u001b[0;32m/usr/local/lib/python3.7/dist-packages/matplotlib/path.py\u001b[0m in \u001b[0;36m__init__\u001b[0;34m(self, vertices, codes, _interpolation_steps, closed, readonly)\u001b[0m\n\u001b[1;32m    128\u001b[0m         \"\"\"\n\u001b[1;32m    129\u001b[0m         \u001b[0mvertices\u001b[0m \u001b[0;34m=\u001b[0m \u001b[0m_to_unmasked_float_array\u001b[0m\u001b[0;34m(\u001b[0m\u001b[0mvertices\u001b[0m\u001b[0;34m)\u001b[0m\u001b[0;34m\u001b[0m\u001b[0;34m\u001b[0m\u001b[0m\n\u001b[0;32m--> 130\u001b[0;31m         \u001b[0m_api\u001b[0m\u001b[0;34m.\u001b[0m\u001b[0mcheck_shape\u001b[0m\u001b[0;34m(\u001b[0m\u001b[0;34m(\u001b[0m\u001b[0;32mNone\u001b[0m\u001b[0;34m,\u001b[0m \u001b[0;36m2\u001b[0m\u001b[0;34m)\u001b[0m\u001b[0;34m,\u001b[0m \u001b[0mvertices\u001b[0m\u001b[0;34m=\u001b[0m\u001b[0mvertices\u001b[0m\u001b[0;34m)\u001b[0m\u001b[0;34m\u001b[0m\u001b[0;34m\u001b[0m\u001b[0m\n\u001b[0m\u001b[1;32m    131\u001b[0m \u001b[0;34m\u001b[0m\u001b[0m\n\u001b[1;32m    132\u001b[0m         \u001b[0;32mif\u001b[0m \u001b[0mcodes\u001b[0m \u001b[0;32mis\u001b[0m \u001b[0;32mnot\u001b[0m \u001b[0;32mNone\u001b[0m\u001b[0;34m:\u001b[0m\u001b[0;34m\u001b[0m\u001b[0;34m\u001b[0m\u001b[0m\n",
            "\u001b[0;31mValueError\u001b[0m: 'vertices' must be a 2D list or array with shape Nx2"
          ]
        },
        {
          "output_type": "error",
          "ename": "ImportError",
          "evalue": "ignored",
          "traceback": [
            "\u001b[0;31m---------------------------------------------------------------------------\u001b[0m",
            "\u001b[0;31mImportError\u001b[0m                               Traceback (most recent call last)",
            "\u001b[0;32m/usr/local/lib/python3.7/dist-packages/IPython/core/formatters.py\u001b[0m in \u001b[0;36m__call__\u001b[0;34m(self, obj)\u001b[0m\n\u001b[1;32m    339\u001b[0m                 \u001b[0;32mpass\u001b[0m\u001b[0;34m\u001b[0m\u001b[0;34m\u001b[0m\u001b[0m\n\u001b[1;32m    340\u001b[0m             \u001b[0;32melse\u001b[0m\u001b[0;34m:\u001b[0m\u001b[0;34m\u001b[0m\u001b[0;34m\u001b[0m\u001b[0m\n\u001b[0;32m--> 341\u001b[0;31m                 \u001b[0;32mreturn\u001b[0m \u001b[0mprinter\u001b[0m\u001b[0;34m(\u001b[0m\u001b[0mobj\u001b[0m\u001b[0;34m)\u001b[0m\u001b[0;34m\u001b[0m\u001b[0;34m\u001b[0m\u001b[0m\n\u001b[0m\u001b[1;32m    342\u001b[0m             \u001b[0;31m# Finally look for special method names\u001b[0m\u001b[0;34m\u001b[0m\u001b[0;34m\u001b[0m\u001b[0;34m\u001b[0m\u001b[0m\n\u001b[1;32m    343\u001b[0m             \u001b[0mmethod\u001b[0m \u001b[0;34m=\u001b[0m \u001b[0mget_real_method\u001b[0m\u001b[0;34m(\u001b[0m\u001b[0mobj\u001b[0m\u001b[0;34m,\u001b[0m \u001b[0mself\u001b[0m\u001b[0;34m.\u001b[0m\u001b[0mprint_method\u001b[0m\u001b[0;34m)\u001b[0m\u001b[0;34m\u001b[0m\u001b[0;34m\u001b[0m\u001b[0m\n",
            "\u001b[0;32m/usr/local/lib/python3.7/dist-packages/IPython/core/pylabtools.py\u001b[0m in \u001b[0;36m<lambda>\u001b[0;34m(fig)\u001b[0m\n\u001b[1;32m    242\u001b[0m \u001b[0;34m\u001b[0m\u001b[0m\n\u001b[1;32m    243\u001b[0m     \u001b[0;32mif\u001b[0m \u001b[0;34m'png'\u001b[0m \u001b[0;32min\u001b[0m \u001b[0mformats\u001b[0m\u001b[0;34m:\u001b[0m\u001b[0;34m\u001b[0m\u001b[0;34m\u001b[0m\u001b[0m\n\u001b[0;32m--> 244\u001b[0;31m         \u001b[0mpng_formatter\u001b[0m\u001b[0;34m.\u001b[0m\u001b[0mfor_type\u001b[0m\u001b[0;34m(\u001b[0m\u001b[0mFigure\u001b[0m\u001b[0;34m,\u001b[0m \u001b[0;32mlambda\u001b[0m \u001b[0mfig\u001b[0m\u001b[0;34m:\u001b[0m \u001b[0mprint_figure\u001b[0m\u001b[0;34m(\u001b[0m\u001b[0mfig\u001b[0m\u001b[0;34m,\u001b[0m \u001b[0;34m'png'\u001b[0m\u001b[0;34m,\u001b[0m \u001b[0;34m**\u001b[0m\u001b[0mkwargs\u001b[0m\u001b[0;34m)\u001b[0m\u001b[0;34m)\u001b[0m\u001b[0;34m\u001b[0m\u001b[0;34m\u001b[0m\u001b[0m\n\u001b[0m\u001b[1;32m    245\u001b[0m     \u001b[0;32mif\u001b[0m \u001b[0;34m'retina'\u001b[0m \u001b[0;32min\u001b[0m \u001b[0mformats\u001b[0m \u001b[0;32mor\u001b[0m \u001b[0;34m'png2x'\u001b[0m \u001b[0;32min\u001b[0m \u001b[0mformats\u001b[0m\u001b[0;34m:\u001b[0m\u001b[0;34m\u001b[0m\u001b[0;34m\u001b[0m\u001b[0m\n\u001b[1;32m    246\u001b[0m         \u001b[0mpng_formatter\u001b[0m\u001b[0;34m.\u001b[0m\u001b[0mfor_type\u001b[0m\u001b[0;34m(\u001b[0m\u001b[0mFigure\u001b[0m\u001b[0;34m,\u001b[0m \u001b[0;32mlambda\u001b[0m \u001b[0mfig\u001b[0m\u001b[0;34m:\u001b[0m \u001b[0mretina_figure\u001b[0m\u001b[0;34m(\u001b[0m\u001b[0mfig\u001b[0m\u001b[0;34m,\u001b[0m \u001b[0;34m**\u001b[0m\u001b[0mkwargs\u001b[0m\u001b[0;34m)\u001b[0m\u001b[0;34m)\u001b[0m\u001b[0;34m\u001b[0m\u001b[0;34m\u001b[0m\u001b[0m\n",
            "\u001b[0;32m/usr/local/lib/python3.7/dist-packages/IPython/core/pylabtools.py\u001b[0m in \u001b[0;36mprint_figure\u001b[0;34m(fig, fmt, bbox_inches, **kwargs)\u001b[0m\n\u001b[1;32m    126\u001b[0m \u001b[0;34m\u001b[0m\u001b[0m\n\u001b[1;32m    127\u001b[0m     \u001b[0mbytes_io\u001b[0m \u001b[0;34m=\u001b[0m \u001b[0mBytesIO\u001b[0m\u001b[0;34m(\u001b[0m\u001b[0;34m)\u001b[0m\u001b[0;34m\u001b[0m\u001b[0;34m\u001b[0m\u001b[0m\n\u001b[0;32m--> 128\u001b[0;31m     \u001b[0mfig\u001b[0m\u001b[0;34m.\u001b[0m\u001b[0mcanvas\u001b[0m\u001b[0;34m.\u001b[0m\u001b[0mprint_figure\u001b[0m\u001b[0;34m(\u001b[0m\u001b[0mbytes_io\u001b[0m\u001b[0;34m,\u001b[0m \u001b[0;34m**\u001b[0m\u001b[0mkw\u001b[0m\u001b[0;34m)\u001b[0m\u001b[0;34m\u001b[0m\u001b[0;34m\u001b[0m\u001b[0m\n\u001b[0m\u001b[1;32m    129\u001b[0m     \u001b[0mdata\u001b[0m \u001b[0;34m=\u001b[0m \u001b[0mbytes_io\u001b[0m\u001b[0;34m.\u001b[0m\u001b[0mgetvalue\u001b[0m\u001b[0;34m(\u001b[0m\u001b[0;34m)\u001b[0m\u001b[0;34m\u001b[0m\u001b[0;34m\u001b[0m\u001b[0m\n\u001b[1;32m    130\u001b[0m     \u001b[0;32mif\u001b[0m \u001b[0mfmt\u001b[0m \u001b[0;34m==\u001b[0m \u001b[0;34m'svg'\u001b[0m\u001b[0;34m:\u001b[0m\u001b[0;34m\u001b[0m\u001b[0;34m\u001b[0m\u001b[0m\n",
            "\u001b[0;32m/usr/local/lib/python3.7/dist-packages/matplotlib/backend_bases.py\u001b[0m in \u001b[0;36mprint_figure\u001b[0;34m(self, filename, dpi, facecolor, edgecolor, orientation, format, bbox_inches, **kwargs)\u001b[0m\n\u001b[1;32m   2092\u001b[0m         \u001b[0mratio\u001b[0m \u001b[0;34m:\u001b[0m \u001b[0mfloat\u001b[0m\u001b[0;34m\u001b[0m\u001b[0;34m\u001b[0m\u001b[0m\n\u001b[1;32m   2093\u001b[0m             \u001b[0mThe\u001b[0m \u001b[0mratio\u001b[0m \u001b[0mof\u001b[0m \u001b[0mlogical\u001b[0m \u001b[0mto\u001b[0m \u001b[0mphysical\u001b[0m \u001b[0mpixels\u001b[0m \u001b[0mused\u001b[0m \u001b[0;32mfor\u001b[0m \u001b[0mthe\u001b[0m \u001b[0mcanvas\u001b[0m\u001b[0;34m.\u001b[0m\u001b[0;34m\u001b[0m\u001b[0;34m\u001b[0m\u001b[0m\n\u001b[0;32m-> 2094\u001b[0;31m \u001b[0;34m\u001b[0m\u001b[0m\n\u001b[0m\u001b[1;32m   2095\u001b[0m         \u001b[0mReturns\u001b[0m\u001b[0;34m\u001b[0m\u001b[0;34m\u001b[0m\u001b[0m\n\u001b[1;32m   2096\u001b[0m         \u001b[0;34m-\u001b[0m\u001b[0;34m-\u001b[0m\u001b[0;34m-\u001b[0m\u001b[0;34m-\u001b[0m\u001b[0;34m-\u001b[0m\u001b[0;34m-\u001b[0m\u001b[0;34m-\u001b[0m\u001b[0;34m\u001b[0m\u001b[0;34m\u001b[0m\u001b[0m\n",
            "\u001b[0;32m/usr/local/lib/python3.7/dist-packages/matplotlib/backend_bases.py\u001b[0m in \u001b[0;36m_get_renderer\u001b[0;34m(figure, print_method)\u001b[0m\n\u001b[1;32m   1558\u001b[0m     \u001b[0mfigure\u001b[0m\u001b[0;34m.\u001b[0m\u001b[0mdraw_without_rendering\u001b[0m\u001b[0;34m(\u001b[0m\u001b[0;34m)\u001b[0m\u001b[0;34m\u001b[0m\u001b[0;34m\u001b[0m\u001b[0m\n\u001b[1;32m   1559\u001b[0m \u001b[0;34m\u001b[0m\u001b[0m\n\u001b[0;32m-> 1560\u001b[0;31m \u001b[0;34m\u001b[0m\u001b[0m\n\u001b[0m\u001b[1;32m   1561\u001b[0m \u001b[0;32mdef\u001b[0m \u001b[0m_is_non_interactive_terminal_ipython\u001b[0m\u001b[0;34m(\u001b[0m\u001b[0mip\u001b[0m\u001b[0;34m)\u001b[0m\u001b[0;34m:\u001b[0m\u001b[0;34m\u001b[0m\u001b[0;34m\u001b[0m\u001b[0m\n\u001b[1;32m   1562\u001b[0m     \"\"\"\n",
            "\u001b[0;32m/usr/local/lib/python3.7/dist-packages/matplotlib/backends/backend_agg.py\u001b[0m in \u001b[0;36mprint_png\u001b[0;34m(self, filename_or_obj, metadata, pil_kwargs, *args, **kwargs)\u001b[0m\n\u001b[1;32m    503\u001b[0m             \u001b[0mMetadata\u001b[0m \u001b[0;32min\u001b[0m \u001b[0mthe\u001b[0m \u001b[0mPNG\u001b[0m \u001b[0mfile\u001b[0m \u001b[0;32mas\u001b[0m \u001b[0mkey\u001b[0m\u001b[0;34m-\u001b[0m\u001b[0mvalue\u001b[0m \u001b[0mpairs\u001b[0m \u001b[0mof\u001b[0m \u001b[0mbytes\u001b[0m \u001b[0;32mor\u001b[0m \u001b[0mlatin\u001b[0m\u001b[0;34m-\u001b[0m\u001b[0;36m1\u001b[0m\u001b[0;34m\u001b[0m\u001b[0;34m\u001b[0m\u001b[0m\n\u001b[1;32m    504\u001b[0m             \u001b[0mencodable\u001b[0m \u001b[0mstrings\u001b[0m\u001b[0;34m.\u001b[0m\u001b[0;34m\u001b[0m\u001b[0;34m\u001b[0m\u001b[0m\n\u001b[0;32m--> 505\u001b[0;31m             \u001b[0mAccording\u001b[0m \u001b[0mto\u001b[0m \u001b[0mthe\u001b[0m \u001b[0mPNG\u001b[0m \u001b[0mspecification\u001b[0m\u001b[0;34m,\u001b[0m \u001b[0mkeys\u001b[0m \u001b[0mmust\u001b[0m \u001b[0mbe\u001b[0m \u001b[0mshorter\u001b[0m \u001b[0mthan\u001b[0m \u001b[0;36m79\u001b[0m\u001b[0;34m\u001b[0m\u001b[0;34m\u001b[0m\u001b[0m\n\u001b[0m\u001b[1;32m    506\u001b[0m             \u001b[0mchars\u001b[0m\u001b[0;34m.\u001b[0m\u001b[0;34m\u001b[0m\u001b[0;34m\u001b[0m\u001b[0m\n\u001b[1;32m    507\u001b[0m \u001b[0;34m\u001b[0m\u001b[0m\n",
            "\u001b[0;31mImportError\u001b[0m: cannot import name '_png' from 'matplotlib' (/usr/local/lib/python3.7/dist-packages/matplotlib/__init__.py)"
          ]
        },
        {
          "output_type": "display_data",
          "data": {
            "text/plain": [
              "<Figure size 432x288 with 1 Axes>"
            ]
          },
          "metadata": {}
        },
        {
          "output_type": "error",
          "ename": "ImportError",
          "evalue": "ignored",
          "traceback": [
            "\u001b[0;31m---------------------------------------------------------------------------\u001b[0m",
            "\u001b[0;31mImportError\u001b[0m                               Traceback (most recent call last)",
            "\u001b[0;32m/usr/local/lib/python3.7/dist-packages/IPython/core/formatters.py\u001b[0m in \u001b[0;36m__call__\u001b[0;34m(self, obj)\u001b[0m\n\u001b[1;32m    339\u001b[0m                 \u001b[0;32mpass\u001b[0m\u001b[0;34m\u001b[0m\u001b[0;34m\u001b[0m\u001b[0m\n\u001b[1;32m    340\u001b[0m             \u001b[0;32melse\u001b[0m\u001b[0;34m:\u001b[0m\u001b[0;34m\u001b[0m\u001b[0;34m\u001b[0m\u001b[0m\n\u001b[0;32m--> 341\u001b[0;31m                 \u001b[0;32mreturn\u001b[0m \u001b[0mprinter\u001b[0m\u001b[0;34m(\u001b[0m\u001b[0mobj\u001b[0m\u001b[0;34m)\u001b[0m\u001b[0;34m\u001b[0m\u001b[0;34m\u001b[0m\u001b[0m\n\u001b[0m\u001b[1;32m    342\u001b[0m             \u001b[0;31m# Finally look for special method names\u001b[0m\u001b[0;34m\u001b[0m\u001b[0;34m\u001b[0m\u001b[0;34m\u001b[0m\u001b[0m\n\u001b[1;32m    343\u001b[0m             \u001b[0mmethod\u001b[0m \u001b[0;34m=\u001b[0m \u001b[0mget_real_method\u001b[0m\u001b[0;34m(\u001b[0m\u001b[0mobj\u001b[0m\u001b[0;34m,\u001b[0m \u001b[0mself\u001b[0m\u001b[0;34m.\u001b[0m\u001b[0mprint_method\u001b[0m\u001b[0;34m)\u001b[0m\u001b[0;34m\u001b[0m\u001b[0;34m\u001b[0m\u001b[0m\n",
            "\u001b[0;32m/usr/local/lib/python3.7/dist-packages/IPython/core/pylabtools.py\u001b[0m in \u001b[0;36m<lambda>\u001b[0;34m(fig)\u001b[0m\n\u001b[1;32m    242\u001b[0m \u001b[0;34m\u001b[0m\u001b[0m\n\u001b[1;32m    243\u001b[0m     \u001b[0;32mif\u001b[0m \u001b[0;34m'png'\u001b[0m \u001b[0;32min\u001b[0m \u001b[0mformats\u001b[0m\u001b[0;34m:\u001b[0m\u001b[0;34m\u001b[0m\u001b[0;34m\u001b[0m\u001b[0m\n\u001b[0;32m--> 244\u001b[0;31m         \u001b[0mpng_formatter\u001b[0m\u001b[0;34m.\u001b[0m\u001b[0mfor_type\u001b[0m\u001b[0;34m(\u001b[0m\u001b[0mFigure\u001b[0m\u001b[0;34m,\u001b[0m \u001b[0;32mlambda\u001b[0m \u001b[0mfig\u001b[0m\u001b[0;34m:\u001b[0m \u001b[0mprint_figure\u001b[0m\u001b[0;34m(\u001b[0m\u001b[0mfig\u001b[0m\u001b[0;34m,\u001b[0m \u001b[0;34m'png'\u001b[0m\u001b[0;34m,\u001b[0m \u001b[0;34m**\u001b[0m\u001b[0mkwargs\u001b[0m\u001b[0;34m)\u001b[0m\u001b[0;34m)\u001b[0m\u001b[0;34m\u001b[0m\u001b[0;34m\u001b[0m\u001b[0m\n\u001b[0m\u001b[1;32m    245\u001b[0m     \u001b[0;32mif\u001b[0m \u001b[0;34m'retina'\u001b[0m \u001b[0;32min\u001b[0m \u001b[0mformats\u001b[0m \u001b[0;32mor\u001b[0m \u001b[0;34m'png2x'\u001b[0m \u001b[0;32min\u001b[0m \u001b[0mformats\u001b[0m\u001b[0;34m:\u001b[0m\u001b[0;34m\u001b[0m\u001b[0;34m\u001b[0m\u001b[0m\n\u001b[1;32m    246\u001b[0m         \u001b[0mpng_formatter\u001b[0m\u001b[0;34m.\u001b[0m\u001b[0mfor_type\u001b[0m\u001b[0;34m(\u001b[0m\u001b[0mFigure\u001b[0m\u001b[0;34m,\u001b[0m \u001b[0;32mlambda\u001b[0m \u001b[0mfig\u001b[0m\u001b[0;34m:\u001b[0m \u001b[0mretina_figure\u001b[0m\u001b[0;34m(\u001b[0m\u001b[0mfig\u001b[0m\u001b[0;34m,\u001b[0m \u001b[0;34m**\u001b[0m\u001b[0mkwargs\u001b[0m\u001b[0;34m)\u001b[0m\u001b[0;34m)\u001b[0m\u001b[0;34m\u001b[0m\u001b[0;34m\u001b[0m\u001b[0m\n",
            "\u001b[0;32m/usr/local/lib/python3.7/dist-packages/IPython/core/pylabtools.py\u001b[0m in \u001b[0;36mprint_figure\u001b[0;34m(fig, fmt, bbox_inches, **kwargs)\u001b[0m\n\u001b[1;32m    126\u001b[0m \u001b[0;34m\u001b[0m\u001b[0m\n\u001b[1;32m    127\u001b[0m     \u001b[0mbytes_io\u001b[0m \u001b[0;34m=\u001b[0m \u001b[0mBytesIO\u001b[0m\u001b[0;34m(\u001b[0m\u001b[0;34m)\u001b[0m\u001b[0;34m\u001b[0m\u001b[0;34m\u001b[0m\u001b[0m\n\u001b[0;32m--> 128\u001b[0;31m     \u001b[0mfig\u001b[0m\u001b[0;34m.\u001b[0m\u001b[0mcanvas\u001b[0m\u001b[0;34m.\u001b[0m\u001b[0mprint_figure\u001b[0m\u001b[0;34m(\u001b[0m\u001b[0mbytes_io\u001b[0m\u001b[0;34m,\u001b[0m \u001b[0;34m**\u001b[0m\u001b[0mkw\u001b[0m\u001b[0;34m)\u001b[0m\u001b[0;34m\u001b[0m\u001b[0;34m\u001b[0m\u001b[0m\n\u001b[0m\u001b[1;32m    129\u001b[0m     \u001b[0mdata\u001b[0m \u001b[0;34m=\u001b[0m \u001b[0mbytes_io\u001b[0m\u001b[0;34m.\u001b[0m\u001b[0mgetvalue\u001b[0m\u001b[0;34m(\u001b[0m\u001b[0;34m)\u001b[0m\u001b[0;34m\u001b[0m\u001b[0;34m\u001b[0m\u001b[0m\n\u001b[1;32m    130\u001b[0m     \u001b[0;32mif\u001b[0m \u001b[0mfmt\u001b[0m \u001b[0;34m==\u001b[0m \u001b[0;34m'svg'\u001b[0m\u001b[0;34m:\u001b[0m\u001b[0;34m\u001b[0m\u001b[0;34m\u001b[0m\u001b[0m\n",
            "\u001b[0;32m/usr/local/lib/python3.7/dist-packages/matplotlib/backend_bases.py\u001b[0m in \u001b[0;36mprint_figure\u001b[0;34m(self, filename, dpi, facecolor, edgecolor, orientation, format, bbox_inches, **kwargs)\u001b[0m\n\u001b[1;32m   2092\u001b[0m         \u001b[0mratio\u001b[0m \u001b[0;34m:\u001b[0m \u001b[0mfloat\u001b[0m\u001b[0;34m\u001b[0m\u001b[0;34m\u001b[0m\u001b[0m\n\u001b[1;32m   2093\u001b[0m             \u001b[0mThe\u001b[0m \u001b[0mratio\u001b[0m \u001b[0mof\u001b[0m \u001b[0mlogical\u001b[0m \u001b[0mto\u001b[0m \u001b[0mphysical\u001b[0m \u001b[0mpixels\u001b[0m \u001b[0mused\u001b[0m \u001b[0;32mfor\u001b[0m \u001b[0mthe\u001b[0m \u001b[0mcanvas\u001b[0m\u001b[0;34m.\u001b[0m\u001b[0;34m\u001b[0m\u001b[0;34m\u001b[0m\u001b[0m\n\u001b[0;32m-> 2094\u001b[0;31m \u001b[0;34m\u001b[0m\u001b[0m\n\u001b[0m\u001b[1;32m   2095\u001b[0m         \u001b[0mReturns\u001b[0m\u001b[0;34m\u001b[0m\u001b[0;34m\u001b[0m\u001b[0m\n\u001b[1;32m   2096\u001b[0m         \u001b[0;34m-\u001b[0m\u001b[0;34m-\u001b[0m\u001b[0;34m-\u001b[0m\u001b[0;34m-\u001b[0m\u001b[0;34m-\u001b[0m\u001b[0;34m-\u001b[0m\u001b[0;34m-\u001b[0m\u001b[0;34m\u001b[0m\u001b[0;34m\u001b[0m\u001b[0m\n",
            "\u001b[0;32m/usr/local/lib/python3.7/dist-packages/matplotlib/backend_bases.py\u001b[0m in \u001b[0;36m_get_renderer\u001b[0;34m(figure, print_method)\u001b[0m\n\u001b[1;32m   1558\u001b[0m     \u001b[0mfigure\u001b[0m\u001b[0;34m.\u001b[0m\u001b[0mdraw_without_rendering\u001b[0m\u001b[0;34m(\u001b[0m\u001b[0;34m)\u001b[0m\u001b[0;34m\u001b[0m\u001b[0;34m\u001b[0m\u001b[0m\n\u001b[1;32m   1559\u001b[0m \u001b[0;34m\u001b[0m\u001b[0m\n\u001b[0;32m-> 1560\u001b[0;31m \u001b[0;34m\u001b[0m\u001b[0m\n\u001b[0m\u001b[1;32m   1561\u001b[0m \u001b[0;32mdef\u001b[0m \u001b[0m_is_non_interactive_terminal_ipython\u001b[0m\u001b[0;34m(\u001b[0m\u001b[0mip\u001b[0m\u001b[0;34m)\u001b[0m\u001b[0;34m:\u001b[0m\u001b[0;34m\u001b[0m\u001b[0;34m\u001b[0m\u001b[0m\n\u001b[1;32m   1562\u001b[0m     \"\"\"\n",
            "\u001b[0;32m/usr/local/lib/python3.7/dist-packages/matplotlib/backends/backend_agg.py\u001b[0m in \u001b[0;36mprint_png\u001b[0;34m(self, filename_or_obj, metadata, pil_kwargs, *args, **kwargs)\u001b[0m\n\u001b[1;32m    503\u001b[0m             \u001b[0mMetadata\u001b[0m \u001b[0;32min\u001b[0m \u001b[0mthe\u001b[0m \u001b[0mPNG\u001b[0m \u001b[0mfile\u001b[0m \u001b[0;32mas\u001b[0m \u001b[0mkey\u001b[0m\u001b[0;34m-\u001b[0m\u001b[0mvalue\u001b[0m \u001b[0mpairs\u001b[0m \u001b[0mof\u001b[0m \u001b[0mbytes\u001b[0m \u001b[0;32mor\u001b[0m \u001b[0mlatin\u001b[0m\u001b[0;34m-\u001b[0m\u001b[0;36m1\u001b[0m\u001b[0;34m\u001b[0m\u001b[0;34m\u001b[0m\u001b[0m\n\u001b[1;32m    504\u001b[0m             \u001b[0mencodable\u001b[0m \u001b[0mstrings\u001b[0m\u001b[0;34m.\u001b[0m\u001b[0;34m\u001b[0m\u001b[0;34m\u001b[0m\u001b[0m\n\u001b[0;32m--> 505\u001b[0;31m             \u001b[0mAccording\u001b[0m \u001b[0mto\u001b[0m \u001b[0mthe\u001b[0m \u001b[0mPNG\u001b[0m \u001b[0mspecification\u001b[0m\u001b[0;34m,\u001b[0m \u001b[0mkeys\u001b[0m \u001b[0mmust\u001b[0m \u001b[0mbe\u001b[0m \u001b[0mshorter\u001b[0m \u001b[0mthan\u001b[0m \u001b[0;36m79\u001b[0m\u001b[0;34m\u001b[0m\u001b[0;34m\u001b[0m\u001b[0m\n\u001b[0m\u001b[1;32m    506\u001b[0m             \u001b[0mchars\u001b[0m\u001b[0;34m.\u001b[0m\u001b[0;34m\u001b[0m\u001b[0;34m\u001b[0m\u001b[0m\n\u001b[1;32m    507\u001b[0m \u001b[0;34m\u001b[0m\u001b[0m\n",
            "\u001b[0;31mImportError\u001b[0m: cannot import name '_png' from 'matplotlib' (/usr/local/lib/python3.7/dist-packages/matplotlib/__init__.py)"
          ]
        },
        {
          "output_type": "display_data",
          "data": {
            "text/plain": [
              "<Figure size 432x288 with 2 Axes>"
            ]
          },
          "metadata": {}
        }
      ]
    },
    {
      "cell_type": "code",
      "source": [
        "def read_datasetA(subjectPath):\n",
        "    \n",
        "    try:\n",
        "        root, dirs, files = next(os.walk(clean_data_dir))\n",
        "        \n",
        "        for folder_name in dirs:\n",
        "          path_file_fif1 = subjectPath + '/' + folder_name + '/nback1.fif'\n",
        "          spectral_analysis_A(path_file_fif1, folder_name,'nback1')\n",
        "\n",
        "          path_file_fif2 = subjectPath + '/' + folder_name + '/nback2.fif'\n",
        "          spectral_analysis_A(path_file_fif1, folder_name,'nback2')\n",
        "\n",
        "          path_file_fif3 = subjectPath + '/' + folder_name + '/nback3.fif'\n",
        "          spectral_analysis_A(path_file_fif1, folder_name,'nback3')\n",
        "            \n",
        "    except StopIteration:\n",
        "        pass\n",
        "        print(\"Error ocurred:\")\n",
        "        print(\"Directory with dataset does not found!\")\n",
        "        print(\"Program will be terminated\")\n",
        "        exit(1)\n"
      ],
      "metadata": {
        "id": "iqr4yRNVDmgz"
      },
      "execution_count": 48,
      "outputs": []
    },
    {
      "cell_type": "code",
      "source": [
        "\n",
        "\n",
        "def spectral_analysis_A(file_path, subject_name, sesssion_name):\n",
        "  # Read the clean data from the disk\n",
        "  epochs = mne.read_epochs(fname=file_path,verbose=False)\n",
        "  print('epochs >>>>>>>>>>>>>>>>>>>>>>')\n",
        "    \n",
        "  # Calculate Welch's power spectrum density (FFT)\n",
        "  [psds,freqs] = calculate_psd(epochs,subject_name,fminmax=[1,30],window='hamming',window_duration=2,window_overlap=0.5)\n",
        "  print(\"psds >>>>>>>>>>>>>>>>>>>>>\")\n",
        "  print(psds)\n",
        "  print(\"freqs >>>>>>>>>>>>>>>>>>>>>>>>>>\")\n",
        "  print(freqs)\n",
        "\n",
        "  # Total PSD of chosen frequency range (for later relative PSD calculation)\n",
        "  psd_ch_allbands = bandpower_per_channel(psds,freqs,[b_freqs[0][0],b_freqs[-1][-1]],'All bands',subject_name,epochs)\n",
        "  print(\"psd_ch_allbands >>>>>>>>>>>>>>>>>>>>>>>>.\")\n",
        "  print(psd_ch_allbands)\n",
        "  # Find power for all bands and add to dataframe including the previous subjects\n",
        "  vmin = float('inf')\n",
        "  vmax = 0\n",
        "  for j in range(len(b_names)):\n",
        "    # if i == 0:\n",
        "    #   globals()[\"df_psd_\"+b_names[j]] = pd.DataFrame()\n",
        "    #   globals()[\"df_rel_psd_\"+b_names[j]] = pd.DataFrame()\n",
        "        \n",
        "    # Devide the PSD to frequency band bins and calculate absolute and relative bandpowers\n",
        "    globals()[\"psd_ch_\"+b_names[j]] = bandpower_per_channel(psds,freqs,b_freqs[j],b_names[j],subject_name,epochs)\n",
        "    globals()[\"rel_psd_ch_\"+b_names[j]] = globals()[\"psd_ch_\"+b_names[j]] / psd_ch_allbands\n",
        "\n",
        "    # Convert the array to dataframe and concatenate it to dataframe including the previous subjects\n",
        "    globals()[\"temp_df_psd_\"+b_names[j]] = array_to_df(subject_name,epochs,globals()[\"psd_ch_\"+b_names[j]])\n",
        "    globals()[\"df_psd_\"+b_names[j]] = pd.concat([globals()[\"df_psd_\"+b_names[j]],globals()[\"temp_df_psd_\"+b_names[j]]])\n",
        "    globals()[\"temp_df_rel_psd_\"+b_names[j]] = array_to_df(subject_name,epochs,globals()[\"rel_psd_ch_\"+b_names[j]])\n",
        "    globals()[\"df_rel_psd_\"+b_names[j]] = pd.concat([globals()[\"df_rel_psd_\"+b_names[j]],globals()[\"temp_df_rel_psd_\"+b_names[j]]])\n",
        "\n",
        "    # Save the minimum and maximum PSD values as an integer for later colorbar use\n",
        "    vmin = min([vmin,min(globals()[\"psd_ch_\"+b_names[j]])])\n",
        "    vmax = max([vmax,max(globals()[\"psd_ch_\"+b_names[j]])])\n",
        "\n",
        "    # Plot topomaps for all bands\n",
        "    sns.set_style(\"white\",{'font.family': ['sans-serif']})\n",
        "    fig,axs = plt.subplots(nrows=1,ncols=len(b_names),figsize=(10,3))\n",
        "    fig.suptitle(\"Frequency topomaps ({})\".format(subject_name))\n",
        "    for topo in range(len(b_names)):\n",
        "        im,_ = mne.viz.plot_topomap(globals()[\"psd_ch_\"+b_names[topo]],epochs.info,axes=axs[topo],vmin=vmin,vmax=vmax,show=False)\n",
        "        axs[topo].set_title(b_names[topo]+'\\n'+str(b_freqs[topo]))\n",
        "    cbar_ax = fig.add_axes([0.95,0.35,0.04,0.4])\n",
        "    clb = fig.colorbar(im, cax=cbar_ax)\n",
        "    clb.ax.set_ylabel('uV\\u00b2/Hz')\n",
        "    # Calculate alpha asymmetry for three channel pairs\n",
        "    df_faa['Pre-frontal'] = calculate_asymmetry_ch(df_psd_Alpha,'Fp1','Fp2')\n",
        "    df_faa['Mid-frontal'] = calculate_asymmetry_ch(df_psd_Alpha,'F3','F4')\n",
        "    df_faa['Lateral-frontal'] = calculate_asymmetry_ch(df_psd_Alpha,'F7','F8')\n",
        "\n",
        "    # Pre-create results folders for spectral analysis data\n",
        "    create_results_folders(exp_folder=exp_folder,results_foldername=results_foldername)\n",
        "\n",
        "    # Export asymmetry data\n",
        "    df_faa.to_excel(r\"{}/Absolute PSD/{}_frontal_asymmetry.xlsx\".format(results_foldername,exp_condition))\n",
        "\n",
        "    # Export power spectra data for each band\n",
        "    for band in b_names:\n",
        "      export_psd_results(globals()[\"df_psd_\"+band],globals()[\"df_rel_psd_\"+band],exp_folder,exp_condition,band,brain_regions,results_foldername=results_foldername)\n",
        "\n"
      ],
      "metadata": {
        "id": "q0Bz8hFkDeTL"
      },
      "execution_count": 47,
      "outputs": []
    },
    {
      "cell_type": "code",
      "source": [
        "# ========== Packages ==========\n",
        "import mne\n",
        "import matplotlib.pyplot as plt\n",
        "import seaborn as sns\n",
        "import numpy as np\n",
        "from scipy import stats\n",
        "\n",
        "# ========== Functions ==========\n",
        "def calculate_psd(epochs,subjectname,fminmax=[1,100],window='hamming',window_duration=2,window_overlap=0.5,plot=True):\n",
        "    \"\"\"\n",
        "    Calculate power spectrum density with FFT/Welch's method and plot the result.\n",
        "    Parameters\n",
        "    ----------\n",
        "    epochs: Epochs-type (MNE-Python) EEG file\n",
        "    subjectname: A string for subject's name\n",
        "    fminmax (optional): The minimum and maximum frequency range for estimating Welch's PSD\n",
        "    window (optional): The window type for estimating Welch's PSD\n",
        "    window_duration (optional): An integer for the length of that window\n",
        "    window_overlap (optional): A float for the percentage of overlap between the windows\n",
        "    Returns\n",
        "    -------\n",
        "    psds: An array for power spectrum density values\n",
        "    freqs: An array for the corresponding frequencies\n",
        "    \"\"\"\n",
        "    # Calculate PSD with Welch's method\n",
        "    window_size = int(epochs.info['sfreq']*window_duration)\n",
        "    psds, freqs = mne.time_frequency.psd_welch(epochs,n_fft=window_size,verbose=False,\n",
        "                                               n_overlap=int(window_size*window_overlap),\n",
        "                                               fmin=fminmax[0],fmax=fminmax[1],window=window)\n",
        "\n",
        "    # Unit conversion from V^2/Hz to uV^2/Hz\n",
        "    psds = psds*1e12\n",
        "\n",
        "    if plot == True:\n",
        "        # Plot average PSD for all epochs and channels (only for plot)\n",
        "        psds_mean_all = psds.mean(axis=(0, 1))\n",
        "\n",
        "        sns.set_style(\"darkgrid\",{'font.family': ['sans-serif']})\n",
        "        plt.figure()\n",
        "        plt.plot(freqs,psds_mean_all)\n",
        "        plt.fill_between(freqs,psds_mean_all)\n",
        "        plt.xlabel('Frequency (Hz)')\n",
        "        plt.ylabel('PSD (uV\\u00b2/Hz)')\n",
        "        plt.title(\"PSD ({})\".format(subjectname))\n",
        "        plt.xlim(1,40)\n",
        "        plt.ylim(0,1.1*max(psds_mean_all))\n",
        "\n",
        "    return [psds,freqs]\n",
        "\n",
        "def siqnal_quality_check(psds,freqs,band,b_name,subjectname,epochs):\n",
        "    \"\"\"\n",
        "    Plot topographically PSD values and calculate median absolute deviation\n",
        "    for the first and second half of the signal for signal reliability control.\n",
        "    Parameters\n",
        "    ----------\n",
        "    psds: An array for power spectrum density values\n",
        "    freqs: An array for corresponding frequencies\n",
        "    band: A list of lower and higher frequency for the frequency band in interest\n",
        "    b_name: A string for frequency band in interest\n",
        "    subjectname: A string for subject's name\n",
        "    epochs: Epochs-type (MNE-Python) EEG file\n",
        "    Returns\n",
        "    -------\n",
        "    psd_max_mad_error: A float for max median absolute deviation for PSD values\n",
        "    \"\"\"\n",
        "    # Divide the epochs into two\n",
        "    idx_mid_epoch = round(len(psds[:,0,0])/2)\n",
        "    psds_p1 = psds[:idx_mid_epoch,:,:]\n",
        "    psds_p2 = psds[idx_mid_epoch:,:,:]\n",
        "\n",
        "    # Define the bandpower indices\n",
        "    low, high = band\n",
        "    idx_band = np.logical_and(freqs >= low, freqs <= high)\n",
        "\n",
        "    # Get only the bandpower values that we need for both parts\n",
        "    psd_band_ch_p1 = psds_p1[:,:,idx_band]\n",
        "    psd_band_mean_epochs_p1 = psd_band_ch_p1.mean(axis=(2))\n",
        "    psd_band_ch_p2 = psds_p2[:,:,idx_band]\n",
        "    psd_band_mean_epochs_p2 = psd_band_ch_p2.mean(axis=(2))\n",
        "\n",
        "    # Find Median Absolute Deviation along all the epochs for each channel\n",
        "    psd_band_mean_epochs = np.concatenate((psd_band_mean_epochs_p1, psd_band_mean_epochs_p2))\n",
        "    psd_median = np.median(psd_band_mean_epochs,axis=0)\n",
        "    psd_mad = stats.median_abs_deviation(psd_band_mean_epochs,axis=0)\n",
        "\n",
        "    # For each epoch in all channels, calculate the Z-score (MAD error) using median and MAD\n",
        "    psd_mad_error_epochs_per_ch_p1 = np.zeros(shape=psd_band_mean_epochs_p1.shape)\n",
        "    psd_mad_error_epochs_per_ch_p2 = np.zeros(shape=psd_band_mean_epochs_p2.shape)\n",
        "    for i in range(len(psds[0,:,0])):\n",
        "        psd_mad_error_epochs_per_ch_p1[:,i] = abs(psd_band_mean_epochs_p1[:,i] - psd_median[i])/psd_mad[i]\n",
        "        psd_mad_error_epochs_per_ch_p2[:,i] = abs(psd_band_mean_epochs_p2[:,i] - psd_median[i])/psd_mad[i]\n",
        "\n",
        "    # Average the Z-scores (MAD errors) for all epochs for the two parts -> get score for 19 channels\n",
        "    psd_mad_error_per_ch_p1 = np.mean(psd_mad_error_epochs_per_ch_p1,axis=0)\n",
        "    psd_mad_error_per_ch_p2 = np.mean(psd_mad_error_epochs_per_ch_p2,axis=0)\n",
        "\n",
        "    # Find the average Z-score (MAD error) for the whole scalp (all channels together) for the two parts\n",
        "    psd_mad_error_avg = [np.round(np.mean(psd_mad_error_per_ch_p1),3),\n",
        "                         np.round(np.mean(psd_mad_error_per_ch_p2),3)]\n",
        "    \n",
        "    # Get the maximum of the two (for outputting it later)\n",
        "    psd_max_mad_error = np.max(psd_mad_error_avg)\n",
        "\n",
        "    # Find the average PSD values for each channel for both parts\n",
        "    psds_all_channels_p1 = psds_p1.mean(axis=(0))\n",
        "    psd_band_ch_p1 = psds_all_channels_p1[:,idx_band]\n",
        "    psd_band_mean_ch_p1 = psd_band_ch_p1.mean(axis=(1))\n",
        "    psds_all_channels_p2 = psds_p2.mean(axis=(0))\n",
        "    psd_band_ch_p2 = psds_all_channels_p2[:,idx_band]\n",
        "    psd_band_mean_ch_p2 = psd_band_ch_p2.mean(axis=(1))\n",
        "    \n",
        "    # Visually display the bandpower for both parts for visual inspection\n",
        "    vmin = min([min(psd_band_mean_ch_p1),min(psd_band_mean_ch_p2)])\n",
        "    vmax = max([max(psd_band_mean_ch_p1),max(psd_band_mean_ch_p2)])\n",
        "\n",
        "    if psd_max_mad_error >= 2:\n",
        "        sns.set_style(\"white\",{'font.family': ['sans-serif']})\n",
        "        fig,(ax1,ax2) = plt.subplots(ncols=2)\n",
        "        fig.suptitle(\"MAD >= 2 ! Quality control for {} ({})\".format(b_name,subjectname),y=1.1,x=0.575)\n",
        "        im,cm = mne.viz.plot_topomap(psd_band_mean_ch_p1,epochs.info,axes=ax1,vmin=vmin,vmax=vmax,show=False)\n",
        "        im,cm = mne.viz.plot_topomap(psd_band_mean_ch_p2,epochs.info,axes=ax2,vmin=vmin,vmax=vmax,show=False)\n",
        "        ax1.set_title(\"Epochs 0-{}\\nAvg MAD error = {}\".format(idx_mid_epoch-1,psd_mad_error_avg[0]))\n",
        "        ax2.set_title(\"Epochs {}-{}\\nAvg MAD error = {}\".format(idx_mid_epoch,len(psds[:,0,0]),psd_mad_error_avg[1]))\n",
        "        ax_x_start = 0.95\n",
        "        ax_x_width = 0.04\n",
        "        ax_y_start = 0.1\n",
        "        ax_y_height = 0.9\n",
        "        cbar_ax = fig.add_axes([ax_x_start, ax_y_start, ax_x_width, ax_y_height])\n",
        "        clb = fig.colorbar(im, cax=cbar_ax)\n",
        "        clb.ax.set_ylabel('uV\\u00b2/Hz'); \n",
        "\n",
        "    return psd_max_mad_error\n",
        "\n",
        "def bandpower_per_channel(psds,freqs,band,b_name,subjectname,epochs,ln_normalization=False):\n",
        "    \"\"\"\n",
        "    Find frequency band power in interest for all the channels.\n",
        "    Parameters\n",
        "    ----------\n",
        "    psds: An array for power spectrum density values\n",
        "    freqs: An array for corresponding frequencies\n",
        "    band: A list of lower and higher frequency for the frequency band in interest\n",
        "    b_name: A string for frequency band in interest\n",
        "    subjectname: A string for subject's name\n",
        "    epochs: Epochs-type (MNE-Python) EEG file\n",
        "    Returns\n",
        "    -------\n",
        "    psd_band_mean_ch: An array for a frequency band power values for all the channels.\n",
        "    \"\"\"\n",
        "    # Calculate the MAD error (z-score) of the bandpower to be sure of the quality\n",
        "    psd_max_mad_error = siqnal_quality_check(psds,freqs,band,b_name,subjectname,epochs)\n",
        "    \n",
        "    low, high = band\n",
        "    psds_all_channels = psds.mean(axis=(0))\n",
        "    idx_band = np.logical_and(freqs >= low, freqs <= high)\n",
        "    psd_band_ch = psds_all_channels[:,idx_band]\n",
        "    psd_band_mean_ch = psd_band_ch.mean(axis=(1))\n",
        "\n",
        "    #print(band,'before norm',psd_band_mean_ch)\n",
        "    if ln_normalization == True:\n",
        "        psd_band_mean_ch = np.log(psd_band_mean_ch)\n",
        "\n",
        "    #print(band,'after norm',psd_band_mean_ch)\n",
        "    # # If the error is larger than 2, print it as a result (visual inspection)\n",
        "    # if psd_max_mad_error < 2:\n",
        "    #     print(subjectname,b_name,\"MAD error is OK:\",psd_max_mad_error)\n",
        "    # else:\n",
        "    #     print(subjectname,b_name,\"MAD error is NOT OK:\",psd_max_mad_error)\n",
        "\n",
        "    return psd_band_mean_ch\n",
        "\n",
        "def calculate_asymmetry_ch(df_psd_band,left_ch,right_ch):\n",
        "    \"\"\"\n",
        "    Calculate asymmetry between brain hemispheres.\n",
        "    Parameters\n",
        "    ----------\n",
        "    df_psd_band: A dataframe with PSD values (for each region/channel) per subject for one band\n",
        "    left_ch: A string for the left channel (or region)\n",
        "    right_ch: A string for the right channel (or region)\n",
        "    Returns\n",
        "    -------\n",
        "    df_asymmetry: A dataframe for calculated asymmetry for all the subjects\n",
        "    \"\"\"\n",
        "    df_asymmetry = (df_psd_band[left_ch] - df_psd_band[right_ch])/(df_psd_band[left_ch] + df_psd_band[right_ch])*100\n",
        "    return df_asymmetry"
      ],
      "metadata": {
        "id": "WI2tti8LOq35"
      },
      "execution_count": 39,
      "outputs": []
    }
  ]
}