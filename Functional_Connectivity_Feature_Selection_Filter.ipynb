{
  "cells": [
    {
      "cell_type": "markdown",
      "metadata": {
        "id": "view-in-github",
        "colab_type": "text"
      },
      "source": [
        "<a href=\"https://colab.research.google.com/github/ayushi15092002/mental-health-workload/blob/main/Functional_Connectivity_Feature_Selection_Filter.ipynb\" target=\"_parent\"><img src=\"https://colab.research.google.com/assets/colab-badge.svg\" alt=\"Open In Colab\"/></a>"
      ]
    },
    {
      "cell_type": "code",
      "source": [
        "# Load the Drive helper and mount\n",
        "from google.colab import drive\n",
        "\n",
        "# This will prompt for authorization.\n",
        "drive.mount('/content/drive')"
      ],
      "metadata": {
        "id": "QYY_UkU1vWXz",
        "colab": {
          "base_uri": "https://localhost:8080/"
        },
        "outputId": "2fe96d79-4c63-46d8-a01f-14eb0df36fed"
      },
      "execution_count": null,
      "outputs": [
        {
          "output_type": "stream",
          "name": "stdout",
          "text": [
            "Mounted at /content/drive\n"
          ]
        }
      ]
    },
    {
      "cell_type": "code",
      "execution_count": null,
      "metadata": {
        "collapsed": true,
        "id": "nMlEoXRJu2Ul"
      },
      "outputs": [],
      "source": [
        "import pandas as pd\n",
        "import numpy as np\n",
        "# import seaborn as sns\n",
        "# import matplotlib.pyplot as plt\n",
        "import os\n",
        "from sklearn.model_selection import train_test_split\n",
        "# plt.style.use('seaborn-colorblind')\n",
        "# %matplotlib inline\n",
        "# from feature_selection import filter_method as ft"
      ]
    },
    {
      "cell_type": "markdown",
      "metadata": {
        "id": "zEOYrFt_u2Up"
      },
      "source": [
        "## Load Dataset"
      ]
    },
    {
      "cell_type": "code",
      "execution_count": null,
      "metadata": {
        "collapsed": true,
        "id": "8jf4nQ0ru2Ur"
      },
      "outputs": [],
      "source": [
        "data = pd.read_excel(r'/content/drive/My Drive/drdo/features/min_max_fun_conn.xlsx')"
      ]
    },
    {
      "cell_type": "code",
      "execution_count": null,
      "metadata": {
        "id": "1MXP_za3u2Us",
        "outputId": "26ba6b9d-e672-441b-b361-eae8e71b5080",
        "colab": {
          "base_uri": "https://localhost:8080/",
          "height": 285
        }
      },
      "outputs": [
        {
          "output_type": "execute_result",
          "data": {
            "text/plain": [
              "   Coherence  Imaginary Coherence  Phase Locking Value  \\\n",
              "0        0.0             0.000000                  0.0   \n",
              "1        0.0             0.291424                  0.0   \n",
              "2        0.0             0.291424                  0.0   \n",
              "3        0.0             0.291424                  0.0   \n",
              "4        0.0             0.291424                  0.0   \n",
              "\n",
              "   corrected imaginary PLV  Pairwise Phase Consistency  Phase Lag Index (PLI)  \\\n",
              "0                      0.0                    0.000000                    0.0   \n",
              "1                      0.0                    0.000636                    0.0   \n",
              "2                      0.0                    0.000636                    0.0   \n",
              "3                      0.0                    0.000636                    0.0   \n",
              "4                      0.0                    0.000636                    0.0   \n",
              "\n",
              "   Directed Phase Lag Index (DPLI)  Weighted Phase Lag Index (WPLI)  \\\n",
              "0                              0.0                              0.0   \n",
              "1                              0.0                              0.0   \n",
              "2                              0.0                              0.0   \n",
              "3                              0.0                              0.0   \n",
              "4                              0.0                              0.0   \n",
              "\n",
              "   Debiased estimator of squared WPLI    y  \n",
              "0                            0.000000  1.0  \n",
              "1                            0.069174  1.0  \n",
              "2                            0.069174  1.0  \n",
              "3                            0.069174  1.0  \n",
              "4                            0.069174  1.0  "
            ],
            "text/html": [
              "\n",
              "  <div id=\"df-16b4afba-07f8-4594-88ad-95dffefb90ef\">\n",
              "    <div class=\"colab-df-container\">\n",
              "      <div>\n",
              "<style scoped>\n",
              "    .dataframe tbody tr th:only-of-type {\n",
              "        vertical-align: middle;\n",
              "    }\n",
              "\n",
              "    .dataframe tbody tr th {\n",
              "        vertical-align: top;\n",
              "    }\n",
              "\n",
              "    .dataframe thead th {\n",
              "        text-align: right;\n",
              "    }\n",
              "</style>\n",
              "<table border=\"1\" class=\"dataframe\">\n",
              "  <thead>\n",
              "    <tr style=\"text-align: right;\">\n",
              "      <th></th>\n",
              "      <th>Coherence</th>\n",
              "      <th>Imaginary Coherence</th>\n",
              "      <th>Phase Locking Value</th>\n",
              "      <th>corrected imaginary PLV</th>\n",
              "      <th>Pairwise Phase Consistency</th>\n",
              "      <th>Phase Lag Index (PLI)</th>\n",
              "      <th>Directed Phase Lag Index (DPLI)</th>\n",
              "      <th>Weighted Phase Lag Index (WPLI)</th>\n",
              "      <th>Debiased estimator of squared WPLI</th>\n",
              "      <th>y</th>\n",
              "    </tr>\n",
              "  </thead>\n",
              "  <tbody>\n",
              "    <tr>\n",
              "      <th>0</th>\n",
              "      <td>0.0</td>\n",
              "      <td>0.000000</td>\n",
              "      <td>0.0</td>\n",
              "      <td>0.0</td>\n",
              "      <td>0.000000</td>\n",
              "      <td>0.0</td>\n",
              "      <td>0.0</td>\n",
              "      <td>0.0</td>\n",
              "      <td>0.000000</td>\n",
              "      <td>1.0</td>\n",
              "    </tr>\n",
              "    <tr>\n",
              "      <th>1</th>\n",
              "      <td>0.0</td>\n",
              "      <td>0.291424</td>\n",
              "      <td>0.0</td>\n",
              "      <td>0.0</td>\n",
              "      <td>0.000636</td>\n",
              "      <td>0.0</td>\n",
              "      <td>0.0</td>\n",
              "      <td>0.0</td>\n",
              "      <td>0.069174</td>\n",
              "      <td>1.0</td>\n",
              "    </tr>\n",
              "    <tr>\n",
              "      <th>2</th>\n",
              "      <td>0.0</td>\n",
              "      <td>0.291424</td>\n",
              "      <td>0.0</td>\n",
              "      <td>0.0</td>\n",
              "      <td>0.000636</td>\n",
              "      <td>0.0</td>\n",
              "      <td>0.0</td>\n",
              "      <td>0.0</td>\n",
              "      <td>0.069174</td>\n",
              "      <td>1.0</td>\n",
              "    </tr>\n",
              "    <tr>\n",
              "      <th>3</th>\n",
              "      <td>0.0</td>\n",
              "      <td>0.291424</td>\n",
              "      <td>0.0</td>\n",
              "      <td>0.0</td>\n",
              "      <td>0.000636</td>\n",
              "      <td>0.0</td>\n",
              "      <td>0.0</td>\n",
              "      <td>0.0</td>\n",
              "      <td>0.069174</td>\n",
              "      <td>1.0</td>\n",
              "    </tr>\n",
              "    <tr>\n",
              "      <th>4</th>\n",
              "      <td>0.0</td>\n",
              "      <td>0.291424</td>\n",
              "      <td>0.0</td>\n",
              "      <td>0.0</td>\n",
              "      <td>0.000636</td>\n",
              "      <td>0.0</td>\n",
              "      <td>0.0</td>\n",
              "      <td>0.0</td>\n",
              "      <td>0.069174</td>\n",
              "      <td>1.0</td>\n",
              "    </tr>\n",
              "  </tbody>\n",
              "</table>\n",
              "</div>\n",
              "      <button class=\"colab-df-convert\" onclick=\"convertToInteractive('df-16b4afba-07f8-4594-88ad-95dffefb90ef')\"\n",
              "              title=\"Convert this dataframe to an interactive table.\"\n",
              "              style=\"display:none;\">\n",
              "        \n",
              "  <svg xmlns=\"http://www.w3.org/2000/svg\" height=\"24px\"viewBox=\"0 0 24 24\"\n",
              "       width=\"24px\">\n",
              "    <path d=\"M0 0h24v24H0V0z\" fill=\"none\"/>\n",
              "    <path d=\"M18.56 5.44l.94 2.06.94-2.06 2.06-.94-2.06-.94-.94-2.06-.94 2.06-2.06.94zm-11 1L8.5 8.5l.94-2.06 2.06-.94-2.06-.94L8.5 2.5l-.94 2.06-2.06.94zm10 10l.94 2.06.94-2.06 2.06-.94-2.06-.94-.94-2.06-.94 2.06-2.06.94z\"/><path d=\"M17.41 7.96l-1.37-1.37c-.4-.4-.92-.59-1.43-.59-.52 0-1.04.2-1.43.59L10.3 9.45l-7.72 7.72c-.78.78-.78 2.05 0 2.83L4 21.41c.39.39.9.59 1.41.59.51 0 1.02-.2 1.41-.59l7.78-7.78 2.81-2.81c.8-.78.8-2.07 0-2.86zM5.41 20L4 18.59l7.72-7.72 1.47 1.35L5.41 20z\"/>\n",
              "  </svg>\n",
              "      </button>\n",
              "      \n",
              "  <style>\n",
              "    .colab-df-container {\n",
              "      display:flex;\n",
              "      flex-wrap:wrap;\n",
              "      gap: 12px;\n",
              "    }\n",
              "\n",
              "    .colab-df-convert {\n",
              "      background-color: #E8F0FE;\n",
              "      border: none;\n",
              "      border-radius: 50%;\n",
              "      cursor: pointer;\n",
              "      display: none;\n",
              "      fill: #1967D2;\n",
              "      height: 32px;\n",
              "      padding: 0 0 0 0;\n",
              "      width: 32px;\n",
              "    }\n",
              "\n",
              "    .colab-df-convert:hover {\n",
              "      background-color: #E2EBFA;\n",
              "      box-shadow: 0px 1px 2px rgba(60, 64, 67, 0.3), 0px 1px 3px 1px rgba(60, 64, 67, 0.15);\n",
              "      fill: #174EA6;\n",
              "    }\n",
              "\n",
              "    [theme=dark] .colab-df-convert {\n",
              "      background-color: #3B4455;\n",
              "      fill: #D2E3FC;\n",
              "    }\n",
              "\n",
              "    [theme=dark] .colab-df-convert:hover {\n",
              "      background-color: #434B5C;\n",
              "      box-shadow: 0px 1px 3px 1px rgba(0, 0, 0, 0.15);\n",
              "      filter: drop-shadow(0px 1px 2px rgba(0, 0, 0, 0.3));\n",
              "      fill: #FFFFFF;\n",
              "    }\n",
              "  </style>\n",
              "\n",
              "      <script>\n",
              "        const buttonEl =\n",
              "          document.querySelector('#df-16b4afba-07f8-4594-88ad-95dffefb90ef button.colab-df-convert');\n",
              "        buttonEl.style.display =\n",
              "          google.colab.kernel.accessAllowed ? 'block' : 'none';\n",
              "\n",
              "        async function convertToInteractive(key) {\n",
              "          const element = document.querySelector('#df-16b4afba-07f8-4594-88ad-95dffefb90ef');\n",
              "          const dataTable =\n",
              "            await google.colab.kernel.invokeFunction('convertToInteractive',\n",
              "                                                     [key], {});\n",
              "          if (!dataTable) return;\n",
              "\n",
              "          const docLinkHtml = 'Like what you see? Visit the ' +\n",
              "            '<a target=\"_blank\" href=https://colab.research.google.com/notebooks/data_table.ipynb>data table notebook</a>'\n",
              "            + ' to learn more about interactive tables.';\n",
              "          element.innerHTML = '';\n",
              "          dataTable['output_type'] = 'display_data';\n",
              "          await google.colab.output.renderOutput(dataTable, element);\n",
              "          const docLink = document.createElement('div');\n",
              "          docLink.innerHTML = docLinkHtml;\n",
              "          element.appendChild(docLink);\n",
              "        }\n",
              "      </script>\n",
              "    </div>\n",
              "  </div>\n",
              "  "
            ]
          },
          "metadata": {},
          "execution_count": 23
        }
      ],
      "source": [
        "data.head(5)"
      ]
    },
    {
      "cell_type": "code",
      "execution_count": null,
      "metadata": {
        "id": "oXhcJ_yFu2Uu",
        "outputId": "cadedf55-ab9e-42d3-bd46-7648bb65b3a1",
        "colab": {
          "base_uri": "https://localhost:8080/"
        }
      },
      "outputs": [
        {
          "output_type": "execute_result",
          "data": {
            "text/plain": [
              "((1880, 9), (471, 9))"
            ]
          },
          "metadata": {},
          "execution_count": 24
        }
      ],
      "source": [
        "X_train, X_test, y_train, y_test = train_test_split(data.drop(labels=['y'], axis=1), \n",
        "                                                    data.y, test_size=0.2,\n",
        "                                                    random_state=0)\n",
        "X_train.shape, X_test.shape"
      ]
    },
    {
      "cell_type": "markdown",
      "metadata": {
        "id": "LgSdEn4eu2Uv"
      },
      "source": [
        "## Variance method\n",
        "removing features that show the same value for the majority/all of the observations (constant/quasi-constant features)"
      ]
    },
    {
      "cell_type": "code",
      "execution_count": null,
      "metadata": {
        "id": "F3S_1l29u2Uv",
        "outputId": "6b6d1b2e-b1be-42b7-a06d-8be64814a0de",
        "colab": {
          "base_uri": "https://localhost:8080/"
        }
      },
      "outputs": [
        {
          "output_type": "stream",
          "name": "stdout",
          "text": [
            "0  variables are found to be almost constant\n"
          ]
        },
        {
          "output_type": "stream",
          "name": "stderr",
          "text": [
            "<ipython-input-6-f737976788eb>:28: DeprecationWarning: `np.float` is a deprecated alias for the builtin `float`. To silence this warning, use `float` by itself. Doing this will not modify any behavior and is safe. If you specifically wanted the numpy scalar type, use `np.float64` here.\n",
            "Deprecated in NumPy 1.20; for more details and guidance: https://numpy.org/devdocs/release/1.20.0-notes.html#deprecations\n",
            "  predominant = (data_copy[feature].value_counts() / np.float(\n"
          ]
        }
      ],
      "source": [
        "# the original dataset has no constant variable\n",
        "quasi_constant_feature = constant_feature_detect(data=X_train,threshold=0.9)"
      ]
    },
    {
      "cell_type": "code",
      "execution_count": null,
      "metadata": {
        "id": "9tmxde11u2Uw",
        "outputId": "1ea3cfde-84f7-438c-cdbd-57dbb9fbe4b1",
        "colab": {
          "base_uri": "https://localhost:8080/",
          "height": 502
        }
      },
      "outputs": [
        {
          "output_type": "error",
          "ename": "KeyError",
          "evalue": "ignored",
          "traceback": [
            "\u001b[0;31m---------------------------------------------------------------------------\u001b[0m",
            "\u001b[0;31mKeyError\u001b[0m                                  Traceback (most recent call last)",
            "\u001b[0;32m/usr/local/lib/python3.8/dist-packages/pandas/core/indexes/base.py\u001b[0m in \u001b[0;36mget_loc\u001b[0;34m(self, key, method, tolerance)\u001b[0m\n\u001b[1;32m   3360\u001b[0m             \u001b[0;32mtry\u001b[0m\u001b[0;34m:\u001b[0m\u001b[0;34m\u001b[0m\u001b[0;34m\u001b[0m\u001b[0m\n\u001b[0;32m-> 3361\u001b[0;31m                 \u001b[0;32mreturn\u001b[0m \u001b[0mself\u001b[0m\u001b[0;34m.\u001b[0m\u001b[0m_engine\u001b[0m\u001b[0;34m.\u001b[0m\u001b[0mget_loc\u001b[0m\u001b[0;34m(\u001b[0m\u001b[0mcasted_key\u001b[0m\u001b[0;34m)\u001b[0m\u001b[0;34m\u001b[0m\u001b[0;34m\u001b[0m\u001b[0m\n\u001b[0m\u001b[1;32m   3362\u001b[0m             \u001b[0;32mexcept\u001b[0m \u001b[0mKeyError\u001b[0m \u001b[0;32mas\u001b[0m \u001b[0merr\u001b[0m\u001b[0;34m:\u001b[0m\u001b[0;34m\u001b[0m\u001b[0;34m\u001b[0m\u001b[0m\n",
            "\u001b[0;32m/usr/local/lib/python3.8/dist-packages/pandas/_libs/index.pyx\u001b[0m in \u001b[0;36mpandas._libs.index.IndexEngine.get_loc\u001b[0;34m()\u001b[0m\n",
            "\u001b[0;32m/usr/local/lib/python3.8/dist-packages/pandas/_libs/index.pyx\u001b[0m in \u001b[0;36mpandas._libs.index.IndexEngine.get_loc\u001b[0;34m()\u001b[0m\n",
            "\u001b[0;32mpandas/_libs/hashtable_class_helper.pxi\u001b[0m in \u001b[0;36mpandas._libs.hashtable.PyObjectHashTable.get_item\u001b[0;34m()\u001b[0m\n",
            "\u001b[0;32mpandas/_libs/hashtable_class_helper.pxi\u001b[0m in \u001b[0;36mpandas._libs.hashtable.PyObjectHashTable.get_item\u001b[0;34m()\u001b[0m\n",
            "\u001b[0;31mKeyError\u001b[0m: 'worst smoothness'",
            "\nThe above exception was the direct cause of the following exception:\n",
            "\u001b[0;31mKeyError\u001b[0m                                  Traceback (most recent call last)",
            "\u001b[0;32m<ipython-input-8-85fe201fcf49>\u001b[0m in \u001b[0;36m<module>\u001b[0;34m\u001b[0m\n\u001b[1;32m      1\u001b[0m \u001b[0;31m# lets create a duumy variable that help us do the demonstration\u001b[0m\u001b[0;34m\u001b[0m\u001b[0;34m\u001b[0m\u001b[0;34m\u001b[0m\u001b[0m\n\u001b[0;32m----> 2\u001b[0;31m \u001b[0mX_train\u001b[0m\u001b[0;34m[\u001b[0m\u001b[0;34m'dummy'\u001b[0m\u001b[0;34m]\u001b[0m \u001b[0;34m=\u001b[0m \u001b[0mnp\u001b[0m\u001b[0;34m.\u001b[0m\u001b[0mfloor\u001b[0m\u001b[0;34m(\u001b[0m\u001b[0mX_train\u001b[0m\u001b[0;34m[\u001b[0m\u001b[0;34m'worst smoothness'\u001b[0m\u001b[0;34m]\u001b[0m\u001b[0;34m*\u001b[0m\u001b[0;36m10\u001b[0m\u001b[0;34m)\u001b[0m\u001b[0;34m\u001b[0m\u001b[0;34m\u001b[0m\u001b[0m\n\u001b[0m\u001b[1;32m      3\u001b[0m \u001b[0;31m# variable dummy has> 92% of the observations show one value, 1.0\u001b[0m\u001b[0;34m\u001b[0m\u001b[0;34m\u001b[0m\u001b[0;34m\u001b[0m\u001b[0m\n\u001b[1;32m      4\u001b[0m \u001b[0mX_train\u001b[0m\u001b[0;34m.\u001b[0m\u001b[0mdummy\u001b[0m\u001b[0;34m.\u001b[0m\u001b[0mvalue_counts\u001b[0m\u001b[0;34m(\u001b[0m\u001b[0;34m)\u001b[0m \u001b[0;34m/\u001b[0m \u001b[0mnp\u001b[0m\u001b[0;34m.\u001b[0m\u001b[0mfloat\u001b[0m\u001b[0;34m(\u001b[0m\u001b[0mlen\u001b[0m\u001b[0;34m(\u001b[0m\u001b[0mX_train\u001b[0m\u001b[0;34m)\u001b[0m\u001b[0;34m)\u001b[0m\u001b[0;34m\u001b[0m\u001b[0;34m\u001b[0m\u001b[0m\n",
            "\u001b[0;32m/usr/local/lib/python3.8/dist-packages/pandas/core/frame.py\u001b[0m in \u001b[0;36m__getitem__\u001b[0;34m(self, key)\u001b[0m\n\u001b[1;32m   3456\u001b[0m             \u001b[0;32mif\u001b[0m \u001b[0mself\u001b[0m\u001b[0;34m.\u001b[0m\u001b[0mcolumns\u001b[0m\u001b[0;34m.\u001b[0m\u001b[0mnlevels\u001b[0m \u001b[0;34m>\u001b[0m \u001b[0;36m1\u001b[0m\u001b[0;34m:\u001b[0m\u001b[0;34m\u001b[0m\u001b[0;34m\u001b[0m\u001b[0m\n\u001b[1;32m   3457\u001b[0m                 \u001b[0;32mreturn\u001b[0m \u001b[0mself\u001b[0m\u001b[0;34m.\u001b[0m\u001b[0m_getitem_multilevel\u001b[0m\u001b[0;34m(\u001b[0m\u001b[0mkey\u001b[0m\u001b[0;34m)\u001b[0m\u001b[0;34m\u001b[0m\u001b[0;34m\u001b[0m\u001b[0m\n\u001b[0;32m-> 3458\u001b[0;31m             \u001b[0mindexer\u001b[0m \u001b[0;34m=\u001b[0m \u001b[0mself\u001b[0m\u001b[0;34m.\u001b[0m\u001b[0mcolumns\u001b[0m\u001b[0;34m.\u001b[0m\u001b[0mget_loc\u001b[0m\u001b[0;34m(\u001b[0m\u001b[0mkey\u001b[0m\u001b[0;34m)\u001b[0m\u001b[0;34m\u001b[0m\u001b[0;34m\u001b[0m\u001b[0m\n\u001b[0m\u001b[1;32m   3459\u001b[0m             \u001b[0;32mif\u001b[0m \u001b[0mis_integer\u001b[0m\u001b[0;34m(\u001b[0m\u001b[0mindexer\u001b[0m\u001b[0;34m)\u001b[0m\u001b[0;34m:\u001b[0m\u001b[0;34m\u001b[0m\u001b[0;34m\u001b[0m\u001b[0m\n\u001b[1;32m   3460\u001b[0m                 \u001b[0mindexer\u001b[0m \u001b[0;34m=\u001b[0m \u001b[0;34m[\u001b[0m\u001b[0mindexer\u001b[0m\u001b[0;34m]\u001b[0m\u001b[0;34m\u001b[0m\u001b[0;34m\u001b[0m\u001b[0m\n",
            "\u001b[0;32m/usr/local/lib/python3.8/dist-packages/pandas/core/indexes/base.py\u001b[0m in \u001b[0;36mget_loc\u001b[0;34m(self, key, method, tolerance)\u001b[0m\n\u001b[1;32m   3361\u001b[0m                 \u001b[0;32mreturn\u001b[0m \u001b[0mself\u001b[0m\u001b[0;34m.\u001b[0m\u001b[0m_engine\u001b[0m\u001b[0;34m.\u001b[0m\u001b[0mget_loc\u001b[0m\u001b[0;34m(\u001b[0m\u001b[0mcasted_key\u001b[0m\u001b[0;34m)\u001b[0m\u001b[0;34m\u001b[0m\u001b[0;34m\u001b[0m\u001b[0m\n\u001b[1;32m   3362\u001b[0m             \u001b[0;32mexcept\u001b[0m \u001b[0mKeyError\u001b[0m \u001b[0;32mas\u001b[0m \u001b[0merr\u001b[0m\u001b[0;34m:\u001b[0m\u001b[0;34m\u001b[0m\u001b[0;34m\u001b[0m\u001b[0m\n\u001b[0;32m-> 3363\u001b[0;31m                 \u001b[0;32mraise\u001b[0m \u001b[0mKeyError\u001b[0m\u001b[0;34m(\u001b[0m\u001b[0mkey\u001b[0m\u001b[0;34m)\u001b[0m \u001b[0;32mfrom\u001b[0m \u001b[0merr\u001b[0m\u001b[0;34m\u001b[0m\u001b[0;34m\u001b[0m\u001b[0m\n\u001b[0m\u001b[1;32m   3364\u001b[0m \u001b[0;34m\u001b[0m\u001b[0m\n\u001b[1;32m   3365\u001b[0m         \u001b[0;32mif\u001b[0m \u001b[0mis_scalar\u001b[0m\u001b[0;34m(\u001b[0m\u001b[0mkey\u001b[0m\u001b[0;34m)\u001b[0m \u001b[0;32mand\u001b[0m \u001b[0misna\u001b[0m\u001b[0;34m(\u001b[0m\u001b[0mkey\u001b[0m\u001b[0;34m)\u001b[0m \u001b[0;32mand\u001b[0m \u001b[0;32mnot\u001b[0m \u001b[0mself\u001b[0m\u001b[0;34m.\u001b[0m\u001b[0mhasnans\u001b[0m\u001b[0;34m:\u001b[0m\u001b[0;34m\u001b[0m\u001b[0;34m\u001b[0m\u001b[0m\n",
            "\u001b[0;31mKeyError\u001b[0m: 'worst smoothness'"
          ]
        }
      ],
      "source": [
        "# lets create a duumy variable that help us do the demonstration\n",
        "X_train['dummy'] = np.floor(X_train['worst smoothness']*10)\n",
        "# variable dummy has> 92% of the observations show one value, 1.0\n",
        "X_train.dummy.value_counts() / np.float(len(X_train))"
      ]
    },
    {
      "cell_type": "code",
      "execution_count": null,
      "metadata": {
        "id": "0MQcvXA6u2Uw",
        "outputId": "f14b230b-67b8-4902-d9ff-e8f4dfdbfaae",
        "colab": {
          "base_uri": "https://localhost:8080/"
        }
      },
      "outputs": [
        {
          "output_type": "stream",
          "name": "stdout",
          "text": [
            "0  variables are found to be almost constant\n"
          ]
        },
        {
          "output_type": "stream",
          "name": "stderr",
          "text": [
            "<ipython-input-6-f737976788eb>:28: DeprecationWarning: `np.float` is a deprecated alias for the builtin `float`. To silence this warning, use `float` by itself. Doing this will not modify any behavior and is safe. If you specifically wanted the numpy scalar type, use `np.float64` here.\n",
            "Deprecated in NumPy 1.20; for more details and guidance: https://numpy.org/devdocs/release/1.20.0-notes.html#deprecations\n",
            "  predominant = (data_copy[feature].value_counts() / np.float(\n"
          ]
        },
        {
          "output_type": "execute_result",
          "data": {
            "text/plain": [
              "[]"
            ]
          },
          "metadata": {},
          "execution_count": 26
        }
      ],
      "source": [
        "quasi_constant_feature = constant_feature_detect(data=X_train,threshold=0.9)\n",
        "quasi_constant_feature"
      ]
    },
    {
      "cell_type": "code",
      "execution_count": null,
      "metadata": {
        "id": "p5DYVa5Qu2Ux",
        "outputId": "dc5c3271-f76e-404f-d9df-46faa13f0789",
        "colab": {
          "base_uri": "https://localhost:8080/"
        }
      },
      "outputs": [
        {
          "output_type": "stream",
          "name": "stdout",
          "text": [
            "(1880, 9)\n"
          ]
        }
      ],
      "source": [
        "# drop that variable\n",
        "X_train.drop(labels=quasi_constant_feature,axis=1,inplace=True)\n",
        "print(X_train.shape)"
      ]
    },
    {
      "cell_type": "markdown",
      "metadata": {
        "id": "uz4rxChku2Ux"
      },
      "source": [
        "## Correlation method\n",
        "remove features that are highly correlated with each other"
      ]
    },
    {
      "cell_type": "code",
      "execution_count": null,
      "metadata": {
        "id": "5aCPOI7Nu2Uy",
        "outputId": "2f8381af-3923-4eae-d645-338915ab6c2a",
        "colab": {
          "base_uri": "https://localhost:8080/"
        }
      },
      "outputs": [
        {
          "output_type": "stream",
          "name": "stdout",
          "text": [
            "    feature1                    feature2      corr\n",
            "0  Coherence         Phase Locking Value  0.979451\n",
            "2  Coherence  Pairwise Phase Consistency  0.976376 \n",
            "\n",
            "                feature1                         feature2      corr\n",
            "4  Phase Lag Index (PLI)          corrected imaginary PLV  0.967109\n",
            "7  Phase Lag Index (PLI)  Weighted Phase Lag Index (WPLI)  0.961898 \n",
            "\n"
          ]
        }
      ],
      "source": [
        "corr = corr_feature_detect(data=X_train,threshold=0.9)\n",
        "# print all the correlated feature groups!\n",
        "for i in corr:\n",
        "    print(i,'\\n')"
      ]
    },
    {
      "cell_type": "markdown",
      "metadata": {
        "id": "gcmhLAOau2Uy"
      },
      "source": [
        "then we can decide which ones to remove."
      ]
    },
    {
      "cell_type": "markdown",
      "metadata": {
        "id": "_ziKzr1ru2Uy"
      },
      "source": [
        "## Mutual Information Filter\n",
        "Mutual information measures how much information the presence/absence of a feature contributes to making the correct prediction on Y."
      ]
    },
    {
      "cell_type": "code",
      "execution_count": null,
      "metadata": {
        "id": "ujVyPIB_u2Uz",
        "outputId": "f52677f8-f4e9-46e7-ee88-1703b2bf8d4c",
        "colab": {
          "base_uri": "https://localhost:8080/"
        }
      },
      "outputs": [
        {
          "output_type": "stream",
          "name": "stdout",
          "text": [
            "Index(['Coherence', 'Phase Locking Value', 'Pairwise Phase Consistency'], dtype='object')\n"
          ]
        }
      ],
      "source": [
        "# select the top 3 features\n",
        "mi = mutual_info(X=X_train,y=y_train,select_k=3)\n",
        "print(mi)"
      ]
    },
    {
      "cell_type": "code",
      "execution_count": null,
      "metadata": {
        "id": "ZPxMLb2Xu2Uz",
        "outputId": "1e7d5623-fd02-43d1-fc42-c5928eef2c49",
        "colab": {
          "base_uri": "https://localhost:8080/"
        }
      },
      "outputs": [
        {
          "output_type": "stream",
          "name": "stdout",
          "text": [
            "Index(['Coherence', 'Phase Locking Value'], dtype='object')\n"
          ]
        }
      ],
      "source": [
        "# select the top 20% features\n",
        "mi = mutual_info(X=X_train,y=y_train,select_k=0.2)\n",
        "print(mi)"
      ]
    },
    {
      "cell_type": "markdown",
      "metadata": {
        "id": "Q9ClY0Jeu2U0"
      },
      "source": [
        "## Chi-Square Filter\n",
        "Compute chi-squared stats between each non-negative feature and class"
      ]
    },
    {
      "cell_type": "code",
      "execution_count": null,
      "metadata": {
        "id": "pPH2yubNu2U0",
        "outputId": "841755a8-7252-4bd2-949a-16422857812a",
        "colab": {
          "base_uri": "https://localhost:8080/"
        }
      },
      "outputs": [
        {
          "output_type": "stream",
          "name": "stdout",
          "text": [
            "Index(['Coherence', 'Phase Locking Value', 'Pairwise Phase Consistency'], dtype='object')\n"
          ]
        }
      ],
      "source": [
        "# select the top 3 features\n",
        "chi = chi_square_test(X=X_train,y=y_train,select_k=3)\n",
        "print(chi)"
      ]
    },
    {
      "cell_type": "code",
      "execution_count": null,
      "metadata": {
        "id": "fjeeBq5ru2U1",
        "outputId": "e1a665dd-431f-4d7e-cbad-91ea1a343d5f",
        "colab": {
          "base_uri": "https://localhost:8080/"
        }
      },
      "outputs": [
        {
          "output_type": "stream",
          "name": "stdout",
          "text": [
            "Index(['Phase Locking Value', 'Pairwise Phase Consistency'], dtype='object')\n"
          ]
        }
      ],
      "source": [
        "# select the top 20% features\n",
        "chi = chi_square_test(X=X_train,y=y_train,select_k=0.2)\n",
        "print(chi)"
      ]
    },
    {
      "cell_type": "markdown",
      "metadata": {
        "id": "iK-KRwNau2U1"
      },
      "source": [
        "## Univariate ROC-AUC or MSE\n",
        "builds one decision tree per feature, to predict the target, then make predictions and ranks the features according to the machine learning metric (roc-auc or mse)"
      ]
    },
    {
      "cell_type": "code",
      "execution_count": null,
      "metadata": {
        "id": "UAvzNk9Au2U1",
        "outputId": "56017e02-2434-4354-9b2e-47b0d9f0635e",
        "colab": {
          "base_uri": "https://localhost:8080/"
        }
      },
      "outputs": [
        {
          "output_type": "stream",
          "name": "stdout",
          "text": [
            "Directed Phase Lag Index (DPLI)       0.540426\n",
            "Phase Lag Index (PLI)                 0.525633\n",
            "Debiased estimator of squared WPLI    0.494720\n",
            "Pairwise Phase Consistency            0.488218\n",
            "Weighted Phase Lag Index (WPLI)       0.485711\n",
            "Imaginary Coherence                   0.485501\n",
            "Phase Locking Value                   0.485048\n",
            "Coherence                             0.477753\n",
            "corrected imaginary PLV               0.475820\n",
            "dtype: float64\n",
            "0 out of the 9 featues are kept\n",
            "Series([], dtype: float64)\n"
          ]
        }
      ],
      "source": [
        "uni_roc_auc = univariate_roc_auc(X_train=X_train,y_train=y_train,\n",
        "                                   X_test=X_test,y_test=y_test,threshold=0.8)\n",
        "print(uni_roc_auc)"
      ]
    },
    {
      "cell_type": "code",
      "execution_count": null,
      "metadata": {
        "id": "k4PA5yo1u2U2",
        "outputId": "87a7aa58-4819-460b-b518-38477992b198",
        "colab": {
          "base_uri": "https://localhost:8080/"
        }
      },
      "outputs": [
        {
          "output_type": "stream",
          "name": "stdout",
          "text": [
            "Weighted Phase Lag Index (WPLI)       1.089268\n",
            "Pairwise Phase Consistency            1.048903\n",
            "Coherence                             1.019205\n",
            "corrected imaginary PLV               1.008589\n",
            "Phase Locking Value                   0.987357\n",
            "Debiased estimator of squared WPLI    0.985209\n",
            "Imaginary Coherence                   0.980962\n",
            "Directed Phase Lag Index (DPLI)       0.979396\n",
            "Phase Lag Index (PLI)                 0.943715\n",
            "dtype: float64\n",
            "9 out of the 9 featues are kept\n",
            "Coherence                             1.019205\n",
            "Imaginary Coherence                   0.980962\n",
            "Phase Locking Value                   0.987357\n",
            "corrected imaginary PLV               1.008589\n",
            "Pairwise Phase Consistency            1.048903\n",
            "Phase Lag Index (PLI)                 0.943715\n",
            "Directed Phase Lag Index (DPLI)       0.979396\n",
            "Weighted Phase Lag Index (WPLI)       1.089268\n",
            "Debiased estimator of squared WPLI    0.985209\n",
            "dtype: float64\n"
          ]
        }
      ],
      "source": [
        "uni_mse = univariate_mse(X_train=X_train,y_train=y_train,\n",
        "                            X_test=X_test,y_test=y_test,threshold=0.4)\n",
        "print(uni_mse)"
      ]
    },
    {
      "cell_type": "code",
      "source": [
        "import pandas as pd\n",
        "import numpy as np\n",
        "#from sklearn.feature_selection import VarianceThreshold\n",
        "from sklearn.feature_selection import mutual_info_classif,chi2\n",
        "from sklearn.feature_selection import SelectKBest, SelectPercentile\n",
        "from sklearn.tree import DecisionTreeClassifier, DecisionTreeRegressor\n",
        "from sklearn.metrics import roc_auc_score, mean_squared_error\n",
        "\n",
        "# 2018.11.17 Created by Eamon.Zhang\n",
        "\n",
        "def constant_feature_detect(data,threshold=0.98):\n",
        "    \"\"\" detect features that show the same value for the \n",
        "    majority/all of the observations (constant/quasi-constant features)\n",
        "    \n",
        "    Parameters\n",
        "    ----------\n",
        "    data : pd.Dataframe\n",
        "    threshold : threshold to identify the variable as constant\n",
        "        \n",
        "    Returns\n",
        "    -------\n",
        "    list of variables names\n",
        "    \"\"\"\n",
        "    \n",
        "    data_copy = data.copy(deep=True)\n",
        "    quasi_constant_feature = []\n",
        "    for feature in data_copy.columns:\n",
        "        predominant = (data_copy[feature].value_counts() / np.float(\n",
        "                      len(data_copy))).sort_values(ascending=False).values[0]\n",
        "        if predominant >= threshold:\n",
        "            quasi_constant_feature.append(feature)\n",
        "    print(len(quasi_constant_feature),' variables are found to be almost constant')    \n",
        "    return quasi_constant_feature\n",
        "\n",
        "\n",
        "def corr_feature_detect(data,threshold=0.8):\n",
        "    \"\"\" detect highly-correlated features of a Dataframe\n",
        "    Parameters\n",
        "    ----------\n",
        "    data : pd.Dataframe\n",
        "    threshold : threshold to identify the variable correlated\n",
        "        \n",
        "    Returns\n",
        "    -------\n",
        "    pairs of correlated variables\n",
        "    \"\"\"\n",
        "    \n",
        "    corrmat = data.corr()\n",
        "    corrmat = corrmat.abs().unstack() # absolute value of corr coef\n",
        "    corrmat = corrmat.sort_values(ascending=False)\n",
        "    corrmat = corrmat[corrmat >= threshold]\n",
        "    corrmat = corrmat[corrmat < 1] # remove the digonal\n",
        "    corrmat = pd.DataFrame(corrmat).reset_index()\n",
        "    corrmat.columns = ['feature1', 'feature2', 'corr']\n",
        "   \n",
        "    grouped_feature_ls = []\n",
        "    correlated_groups = []\n",
        "    \n",
        "    for feature in corrmat.feature1.unique():\n",
        "        if feature not in grouped_feature_ls:\n",
        "    \n",
        "            # find all features correlated to a single feature\n",
        "            correlated_block = corrmat[corrmat.feature1 == feature]\n",
        "            grouped_feature_ls = grouped_feature_ls + list(\n",
        "                correlated_block.feature2.unique()) + [feature]\n",
        "    \n",
        "            # append the block of features to the list\n",
        "            correlated_groups.append(correlated_block)\n",
        "    return correlated_groups\n",
        "\n",
        "\n",
        "def mutual_info(X,y,select_k=10):\n",
        "    \n",
        "#    mi = mutual_info_classif(X,y)\n",
        "#    mi = pd.Series(mi)\n",
        "#    mi.index = X.columns\n",
        "#    mi.sort_values(ascending=False)\n",
        "    \n",
        "    if select_k >= 1:\n",
        "        sel_ = SelectKBest(mutual_info_classif, k=select_k).fit(X,y)\n",
        "        col = X.columns[sel_.get_support()]\n",
        "        \n",
        "    elif 0 < select_k < 1:\n",
        "        sel_ = SelectPercentile(mutual_info_classif, percentile=select_k*100).fit(X,y)\n",
        "        col = X.columns[sel_.get_support()]   \n",
        "        \n",
        "    else:\n",
        "        raise ValueError(\"select_k must be a positive number\")\n",
        "    \n",
        "    return col\n",
        "    \n",
        "\n",
        "# 2018.11.27 edit Chi-square test\n",
        "def chi_square_test(X,y,select_k=10):\n",
        "   \n",
        "    \"\"\"\n",
        "    Compute chi-squared stats between each non-negative feature and class.\n",
        "    This score should be used to evaluate categorical variables in a classification task\n",
        "    \"\"\"\n",
        "    if select_k >= 1:\n",
        "        sel_ = SelectKBest(chi2, k=select_k).fit(X,y)\n",
        "        col = X.columns[sel_.get_support()]\n",
        "    elif 0 < select_k < 1:\n",
        "        sel_ = SelectPercentile(chi2, percentile=select_k*100).fit(X,y)\n",
        "        col = X.columns[sel_.get_support()]   \n",
        "    else:\n",
        "        raise ValueError(\"select_k must be a positive number\")  \n",
        "    \n",
        "    return col\n",
        "    \n",
        "\n",
        "def univariate_roc_auc(X_train,y_train,X_test,y_test,threshold):\n",
        "   \n",
        "    \"\"\"\n",
        "    First, it builds one decision tree per feature, to predict the target\n",
        "    Second, it makes predictions using the decision tree and the mentioned feature\n",
        "    Third, it ranks the features according to the machine learning metric (roc-auc or mse)\n",
        "    It selects the highest ranked features\n",
        "    \"\"\"\n",
        "    roc_values = []\n",
        "    for feature in X_train.columns:\n",
        "        clf = DecisionTreeClassifier()\n",
        "        clf.fit(X_train[feature].to_frame(), y_train)\n",
        "        y_scored = clf.predict_proba(X_test[feature].to_frame())\n",
        "        roc_values.append(roc_auc_score(y_test, y_scored, multi_class = 'ovr', average = 'weighted'))\n",
        "    roc_values = pd.Series(roc_values)\n",
        "    roc_values.index = X_train.columns\n",
        "    print(roc_values.sort_values(ascending=False))\n",
        "    print(len(roc_values[roc_values > threshold]),'out of the %s featues are kept'% len(X_train.columns))\n",
        "    keep_col = roc_values[roc_values > threshold]\n",
        "    return keep_col\n",
        "        \n",
        "        \n",
        "def univariate_mse(X_train,y_train,X_test,y_test,threshold):\n",
        "   \n",
        "    \"\"\"\n",
        "    First, it builds one decision tree per feature, to predict the target\n",
        "    Second, it makes predictions using the decision tree and the mentioned feature\n",
        "    Third, it ranks the features according to the machine learning metric (roc-auc or mse)\n",
        "    It selects the highest ranked features\n",
        "    \"\"\"\n",
        "    mse_values = []\n",
        "    for feature in X_train.columns:\n",
        "        clf = DecisionTreeRegressor()\n",
        "        clf.fit(X_train[feature].to_frame(), y_train)\n",
        "        y_scored = clf.predict(X_test[feature].to_frame())\n",
        "        mse_values.append(mean_squared_error(y_test, y_scored))\n",
        "    mse_values = pd.Series(mse_values)\n",
        "    mse_values.index = X_train.columns\n",
        "    print(mse_values.sort_values(ascending=False))\n",
        "    print(len(mse_values[mse_values > threshold]),'out of the %s featues are kept'% len(X_train.columns))\n",
        "    keep_col = mse_values[mse_values > threshold]\n",
        "    return keep_col        "
      ],
      "metadata": {
        "id": "klbbE-VTrPjG"
      },
      "execution_count": null,
      "outputs": []
    },
    {
      "cell_type": "code",
      "source": [],
      "metadata": {
        "id": "Gdl7R1TBf1Eb"
      },
      "execution_count": null,
      "outputs": []
    }
  ],
  "metadata": {
    "kernelspec": {
      "display_name": "Python 3",
      "language": "python",
      "name": "python3"
    },
    "language_info": {
      "codemirror_mode": {
        "name": "ipython",
        "version": 3
      },
      "file_extension": ".py",
      "mimetype": "text/x-python",
      "name": "python",
      "nbconvert_exporter": "python",
      "pygments_lexer": "ipython3",
      "version": "3.6.1"
    },
    "colab": {
      "provenance": [],
      "include_colab_link": true
    }
  },
  "nbformat": 4,
  "nbformat_minor": 0
}