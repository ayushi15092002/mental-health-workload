{
  "cells": [
    {
      "cell_type": "markdown",
      "metadata": {
        "id": "view-in-github",
        "colab_type": "text"
      },
      "source": [
        "<a href=\"https://colab.research.google.com/github/ayushi15092002/mental-health-workload/blob/main/Feature_Selection_Embedded.ipynb\" target=\"_parent\"><img src=\"https://colab.research.google.com/assets/colab-badge.svg\" alt=\"Open In Colab\"/></a>"
      ]
    },
    {
      "cell_type": "code",
      "source": [
        "# Load the Drive helper and mount\n",
        "from google.colab import drive\n",
        "\n",
        "# This will prompt for authorization.\n",
        "drive.mount('/content/drive')"
      ],
      "metadata": {
        "colab": {
          "base_uri": "https://localhost:8080/"
        },
        "id": "211zaTBrvZFY",
        "outputId": "7ab003b0-6cf0-4cbd-e850-390577d20039"
      },
      "execution_count": null,
      "outputs": [
        {
          "output_type": "stream",
          "name": "stdout",
          "text": [
            "Mounted at /content/drive\n"
          ]
        }
      ]
    },
    {
      "cell_type": "code",
      "execution_count": null,
      "metadata": {
        "collapsed": true,
        "id": "aBnLWQaNu3dV"
      },
      "outputs": [],
      "source": [
        "import pandas as pd\n",
        "import numpy as np\n",
        "# import seaborn as sns\n",
        "# import matplotlib.pyplot as plt\n",
        "import os\n",
        "from sklearn.model_selection import train_test_split\n",
        "from sklearn.linear_model import Lasso, LogisticRegression\n",
        "from sklearn.preprocessing import RobustScaler\n",
        "from sklearn.feature_selection import SelectFromModel\n",
        "# from feature_selection import embedded_method\n",
        "# plt.style.use('seaborn-colorblind')\n",
        "# %matplotlib inline\n"
      ]
    },
    {
      "cell_type": "markdown",
      "metadata": {
        "id": "nirEcXqOu3dh"
      },
      "source": [
        "## Load Dataset"
      ]
    },
    {
      "cell_type": "code",
      "execution_count": null,
      "metadata": {
        "collapsed": true,
        "id": "xKAZBlDYu3dl"
      },
      "outputs": [],
      "source": [
        "data = pd.read_excel(r'/content/drive/My Drive/drdo/features/min_max_norm.xlsx')"
      ]
    },
    {
      "cell_type": "code",
      "execution_count": null,
      "metadata": {
        "id": "IKRHC0iVu3dn",
        "outputId": "03f2190b-2a8c-44df-daa9-54a70477e000",
        "colab": {
          "base_uri": "https://localhost:8080/",
          "height": 317
        }
      },
      "outputs": [
        {
          "output_type": "execute_result",
          "data": {
            "text/plain": [
              "   Coeffiecient_of_Variation  Mean_of_Vertex_to_Vertex_Slope  \\\n",
              "0                   0.534439                        0.614380   \n",
              "1                   0.534315                        0.649929   \n",
              "2                   0.534344                        0.583582   \n",
              "3                   0.542825                        0.572106   \n",
              "4                   0.534477                        0.629300   \n",
              "\n",
              "   Variance_of_Vertex_to_Vertex_Slope  Hjorth_Activity  Hjorth_Mobility  \\\n",
              "0                            0.096161         0.020099         0.555111   \n",
              "1                            0.068544         0.025495         0.455425   \n",
              "2                            0.112827         0.027777         0.494449   \n",
              "3                            0.097661         0.033724         0.452482   \n",
              "4                            0.097666         0.029060         0.475090   \n",
              "\n",
              "   Hjorth_Complexity  Kurtosis  2nd_Difference_Mean  2nd_Difference_Max  \\\n",
              "0           0.052773  0.159801             0.248315            0.320428   \n",
              "1           0.084819  0.133192             0.202098            0.254608   \n",
              "2           0.070979  0.099703             0.281429            0.347117   \n",
              "3           0.085299  0.141227             0.260114            0.302845   \n",
              "4           0.078828  0.121195             0.253848            0.293299   \n",
              "\n",
              "   Skewness  ...  28_Wavelet_Approximate_Std_Deviation  \\\n",
              "0  0.528456  ...                              0.103340   \n",
              "1  0.543443  ...                              0.146594   \n",
              "2  0.595850  ...                              0.081346   \n",
              "3  0.450263  ...                              0.141749   \n",
              "4  0.568707  ...                              0.119258   \n",
              "\n",
              "   28_Wavelet_Approximate_Energy  28_Wavelet_Detailed_Mean  \\\n",
              "0                       0.009270                  0.384685   \n",
              "1                       0.008348                  0.571264   \n",
              "2                       0.004189                  0.484646   \n",
              "3                       0.008017                  0.776456   \n",
              "4                       0.008177                  0.550035   \n",
              "\n",
              "   28_Wavelet_Detailed_Std _Deviation  28_Wavelet_Detailed_Energy  \\\n",
              "0                            0.344930                    0.171401   \n",
              "1                            0.323252                    0.155246   \n",
              "2                            0.452760                    0.262473   \n",
              "3                            0.437634                    0.248645   \n",
              "4                            0.382984                    0.201500   \n",
              "\n",
              "   28_Wavelet_Approximate_Entropy  28_Wavelet_Detailed_Entropy  \\\n",
              "0                        0.184330                     0.011559   \n",
              "1                        0.166751                     0.010475   \n",
              "2                        0.278811                     0.005396   \n",
              "3                        0.263571                     0.010023   \n",
              "4                        0.215768                     0.010123   \n",
              "\n",
              "   Hurst_Exponent  Permutation_Entropy    y  \n",
              "0        0.723232             0.818775  1.0  \n",
              "1        0.728989             0.812935  1.0  \n",
              "2        0.751985             0.878779  1.0  \n",
              "3        0.590368             0.849525  1.0  \n",
              "4        0.612329             0.855054  1.0  \n",
              "\n",
              "[5 rows x 247 columns]"
            ],
            "text/html": [
              "\n",
              "  <div id=\"df-c4e23ae7-7955-4d4a-a82d-cffa0783789f\">\n",
              "    <div class=\"colab-df-container\">\n",
              "      <div>\n",
              "<style scoped>\n",
              "    .dataframe tbody tr th:only-of-type {\n",
              "        vertical-align: middle;\n",
              "    }\n",
              "\n",
              "    .dataframe tbody tr th {\n",
              "        vertical-align: top;\n",
              "    }\n",
              "\n",
              "    .dataframe thead th {\n",
              "        text-align: right;\n",
              "    }\n",
              "</style>\n",
              "<table border=\"1\" class=\"dataframe\">\n",
              "  <thead>\n",
              "    <tr style=\"text-align: right;\">\n",
              "      <th></th>\n",
              "      <th>Coeffiecient_of_Variation</th>\n",
              "      <th>Mean_of_Vertex_to_Vertex_Slope</th>\n",
              "      <th>Variance_of_Vertex_to_Vertex_Slope</th>\n",
              "      <th>Hjorth_Activity</th>\n",
              "      <th>Hjorth_Mobility</th>\n",
              "      <th>Hjorth_Complexity</th>\n",
              "      <th>Kurtosis</th>\n",
              "      <th>2nd_Difference_Mean</th>\n",
              "      <th>2nd_Difference_Max</th>\n",
              "      <th>Skewness</th>\n",
              "      <th>...</th>\n",
              "      <th>28_Wavelet_Approximate_Std_Deviation</th>\n",
              "      <th>28_Wavelet_Approximate_Energy</th>\n",
              "      <th>28_Wavelet_Detailed_Mean</th>\n",
              "      <th>28_Wavelet_Detailed_Std _Deviation</th>\n",
              "      <th>28_Wavelet_Detailed_Energy</th>\n",
              "      <th>28_Wavelet_Approximate_Entropy</th>\n",
              "      <th>28_Wavelet_Detailed_Entropy</th>\n",
              "      <th>Hurst_Exponent</th>\n",
              "      <th>Permutation_Entropy</th>\n",
              "      <th>y</th>\n",
              "    </tr>\n",
              "  </thead>\n",
              "  <tbody>\n",
              "    <tr>\n",
              "      <th>0</th>\n",
              "      <td>0.534439</td>\n",
              "      <td>0.614380</td>\n",
              "      <td>0.096161</td>\n",
              "      <td>0.020099</td>\n",
              "      <td>0.555111</td>\n",
              "      <td>0.052773</td>\n",
              "      <td>0.159801</td>\n",
              "      <td>0.248315</td>\n",
              "      <td>0.320428</td>\n",
              "      <td>0.528456</td>\n",
              "      <td>...</td>\n",
              "      <td>0.103340</td>\n",
              "      <td>0.009270</td>\n",
              "      <td>0.384685</td>\n",
              "      <td>0.344930</td>\n",
              "      <td>0.171401</td>\n",
              "      <td>0.184330</td>\n",
              "      <td>0.011559</td>\n",
              "      <td>0.723232</td>\n",
              "      <td>0.818775</td>\n",
              "      <td>1.0</td>\n",
              "    </tr>\n",
              "    <tr>\n",
              "      <th>1</th>\n",
              "      <td>0.534315</td>\n",
              "      <td>0.649929</td>\n",
              "      <td>0.068544</td>\n",
              "      <td>0.025495</td>\n",
              "      <td>0.455425</td>\n",
              "      <td>0.084819</td>\n",
              "      <td>0.133192</td>\n",
              "      <td>0.202098</td>\n",
              "      <td>0.254608</td>\n",
              "      <td>0.543443</td>\n",
              "      <td>...</td>\n",
              "      <td>0.146594</td>\n",
              "      <td>0.008348</td>\n",
              "      <td>0.571264</td>\n",
              "      <td>0.323252</td>\n",
              "      <td>0.155246</td>\n",
              "      <td>0.166751</td>\n",
              "      <td>0.010475</td>\n",
              "      <td>0.728989</td>\n",
              "      <td>0.812935</td>\n",
              "      <td>1.0</td>\n",
              "    </tr>\n",
              "    <tr>\n",
              "      <th>2</th>\n",
              "      <td>0.534344</td>\n",
              "      <td>0.583582</td>\n",
              "      <td>0.112827</td>\n",
              "      <td>0.027777</td>\n",
              "      <td>0.494449</td>\n",
              "      <td>0.070979</td>\n",
              "      <td>0.099703</td>\n",
              "      <td>0.281429</td>\n",
              "      <td>0.347117</td>\n",
              "      <td>0.595850</td>\n",
              "      <td>...</td>\n",
              "      <td>0.081346</td>\n",
              "      <td>0.004189</td>\n",
              "      <td>0.484646</td>\n",
              "      <td>0.452760</td>\n",
              "      <td>0.262473</td>\n",
              "      <td>0.278811</td>\n",
              "      <td>0.005396</td>\n",
              "      <td>0.751985</td>\n",
              "      <td>0.878779</td>\n",
              "      <td>1.0</td>\n",
              "    </tr>\n",
              "    <tr>\n",
              "      <th>3</th>\n",
              "      <td>0.542825</td>\n",
              "      <td>0.572106</td>\n",
              "      <td>0.097661</td>\n",
              "      <td>0.033724</td>\n",
              "      <td>0.452482</td>\n",
              "      <td>0.085299</td>\n",
              "      <td>0.141227</td>\n",
              "      <td>0.260114</td>\n",
              "      <td>0.302845</td>\n",
              "      <td>0.450263</td>\n",
              "      <td>...</td>\n",
              "      <td>0.141749</td>\n",
              "      <td>0.008017</td>\n",
              "      <td>0.776456</td>\n",
              "      <td>0.437634</td>\n",
              "      <td>0.248645</td>\n",
              "      <td>0.263571</td>\n",
              "      <td>0.010023</td>\n",
              "      <td>0.590368</td>\n",
              "      <td>0.849525</td>\n",
              "      <td>1.0</td>\n",
              "    </tr>\n",
              "    <tr>\n",
              "      <th>4</th>\n",
              "      <td>0.534477</td>\n",
              "      <td>0.629300</td>\n",
              "      <td>0.097666</td>\n",
              "      <td>0.029060</td>\n",
              "      <td>0.475090</td>\n",
              "      <td>0.078828</td>\n",
              "      <td>0.121195</td>\n",
              "      <td>0.253848</td>\n",
              "      <td>0.293299</td>\n",
              "      <td>0.568707</td>\n",
              "      <td>...</td>\n",
              "      <td>0.119258</td>\n",
              "      <td>0.008177</td>\n",
              "      <td>0.550035</td>\n",
              "      <td>0.382984</td>\n",
              "      <td>0.201500</td>\n",
              "      <td>0.215768</td>\n",
              "      <td>0.010123</td>\n",
              "      <td>0.612329</td>\n",
              "      <td>0.855054</td>\n",
              "      <td>1.0</td>\n",
              "    </tr>\n",
              "  </tbody>\n",
              "</table>\n",
              "<p>5 rows × 247 columns</p>\n",
              "</div>\n",
              "      <button class=\"colab-df-convert\" onclick=\"convertToInteractive('df-c4e23ae7-7955-4d4a-a82d-cffa0783789f')\"\n",
              "              title=\"Convert this dataframe to an interactive table.\"\n",
              "              style=\"display:none;\">\n",
              "        \n",
              "  <svg xmlns=\"http://www.w3.org/2000/svg\" height=\"24px\"viewBox=\"0 0 24 24\"\n",
              "       width=\"24px\">\n",
              "    <path d=\"M0 0h24v24H0V0z\" fill=\"none\"/>\n",
              "    <path d=\"M18.56 5.44l.94 2.06.94-2.06 2.06-.94-2.06-.94-.94-2.06-.94 2.06-2.06.94zm-11 1L8.5 8.5l.94-2.06 2.06-.94-2.06-.94L8.5 2.5l-.94 2.06-2.06.94zm10 10l.94 2.06.94-2.06 2.06-.94-2.06-.94-.94-2.06-.94 2.06-2.06.94z\"/><path d=\"M17.41 7.96l-1.37-1.37c-.4-.4-.92-.59-1.43-.59-.52 0-1.04.2-1.43.59L10.3 9.45l-7.72 7.72c-.78.78-.78 2.05 0 2.83L4 21.41c.39.39.9.59 1.41.59.51 0 1.02-.2 1.41-.59l7.78-7.78 2.81-2.81c.8-.78.8-2.07 0-2.86zM5.41 20L4 18.59l7.72-7.72 1.47 1.35L5.41 20z\"/>\n",
              "  </svg>\n",
              "      </button>\n",
              "      \n",
              "  <style>\n",
              "    .colab-df-container {\n",
              "      display:flex;\n",
              "      flex-wrap:wrap;\n",
              "      gap: 12px;\n",
              "    }\n",
              "\n",
              "    .colab-df-convert {\n",
              "      background-color: #E8F0FE;\n",
              "      border: none;\n",
              "      border-radius: 50%;\n",
              "      cursor: pointer;\n",
              "      display: none;\n",
              "      fill: #1967D2;\n",
              "      height: 32px;\n",
              "      padding: 0 0 0 0;\n",
              "      width: 32px;\n",
              "    }\n",
              "\n",
              "    .colab-df-convert:hover {\n",
              "      background-color: #E2EBFA;\n",
              "      box-shadow: 0px 1px 2px rgba(60, 64, 67, 0.3), 0px 1px 3px 1px rgba(60, 64, 67, 0.15);\n",
              "      fill: #174EA6;\n",
              "    }\n",
              "\n",
              "    [theme=dark] .colab-df-convert {\n",
              "      background-color: #3B4455;\n",
              "      fill: #D2E3FC;\n",
              "    }\n",
              "\n",
              "    [theme=dark] .colab-df-convert:hover {\n",
              "      background-color: #434B5C;\n",
              "      box-shadow: 0px 1px 3px 1px rgba(0, 0, 0, 0.15);\n",
              "      filter: drop-shadow(0px 1px 2px rgba(0, 0, 0, 0.3));\n",
              "      fill: #FFFFFF;\n",
              "    }\n",
              "  </style>\n",
              "\n",
              "      <script>\n",
              "        const buttonEl =\n",
              "          document.querySelector('#df-c4e23ae7-7955-4d4a-a82d-cffa0783789f button.colab-df-convert');\n",
              "        buttonEl.style.display =\n",
              "          google.colab.kernel.accessAllowed ? 'block' : 'none';\n",
              "\n",
              "        async function convertToInteractive(key) {\n",
              "          const element = document.querySelector('#df-c4e23ae7-7955-4d4a-a82d-cffa0783789f');\n",
              "          const dataTable =\n",
              "            await google.colab.kernel.invokeFunction('convertToInteractive',\n",
              "                                                     [key], {});\n",
              "          if (!dataTable) return;\n",
              "\n",
              "          const docLinkHtml = 'Like what you see? Visit the ' +\n",
              "            '<a target=\"_blank\" href=https://colab.research.google.com/notebooks/data_table.ipynb>data table notebook</a>'\n",
              "            + ' to learn more about interactive tables.';\n",
              "          element.innerHTML = '';\n",
              "          dataTable['output_type'] = 'display_data';\n",
              "          await google.colab.output.renderOutput(dataTable, element);\n",
              "          const docLink = document.createElement('div');\n",
              "          docLink.innerHTML = docLinkHtml;\n",
              "          element.appendChild(docLink);\n",
              "        }\n",
              "      </script>\n",
              "    </div>\n",
              "  </div>\n",
              "  "
            ]
          },
          "metadata": {},
          "execution_count": 4
        }
      ],
      "source": [
        "data.head(5)"
      ]
    },
    {
      "cell_type": "code",
      "execution_count": null,
      "metadata": {
        "id": "ip_dTM8Pu3dr",
        "outputId": "7147e49f-7242-4ca8-88e8-302aecc5ece9",
        "colab": {
          "base_uri": "https://localhost:8080/"
        }
      },
      "outputs": [
        {
          "output_type": "execute_result",
          "data": {
            "text/plain": [
              "((9256, 246), (2314, 246))"
            ]
          },
          "metadata": {},
          "execution_count": 5
        }
      ],
      "source": [
        "X_train, X_test, y_train, y_test = train_test_split(data.drop(labels=['y'], axis=1), \n",
        "                                                    data.y, test_size=0.2,\n",
        "                                                    random_state=0)\n",
        "X_train.shape, X_test.shape"
      ]
    },
    {
      "cell_type": "markdown",
      "metadata": {
        "id": "ZnM3pTsDu3dt"
      },
      "source": [
        "## Lasso\n",
        "Regularization with Lasso.Lasso (L1) has the property that is able to shrink some of the coefficients to zero. Therefore, that feature can be removed from the model"
      ]
    },
    {
      "cell_type": "code",
      "execution_count": null,
      "metadata": {
        "id": "iVwRj7xZu3dv",
        "outputId": "705b6265-a3be-466b-cf68-19df73b42f3d",
        "colab": {
          "base_uri": "https://localhost:8080/"
        }
      },
      "outputs": [
        {
          "output_type": "execute_result",
          "data": {
            "text/plain": [
              "RobustScaler()"
            ]
          },
          "metadata": {},
          "execution_count": 6
        }
      ],
      "source": [
        "# linear models benefit from feature scaling\n",
        "\n",
        "scaler = RobustScaler()\n",
        "scaler.fit(X_train)"
      ]
    },
    {
      "cell_type": "code",
      "execution_count": null,
      "metadata": {
        "id": "LEI303rZu3dw",
        "outputId": "24157c67-28c5-4799-96a9-e91b1dcf4735",
        "colab": {
          "base_uri": "https://localhost:8080/"
        }
      },
      "outputs": [
        {
          "output_type": "stream",
          "name": "stderr",
          "text": [
            "/usr/local/lib/python3.8/dist-packages/sklearn/linear_model/_logistic.py:814: ConvergenceWarning: lbfgs failed to converge (status=1):\n",
            "STOP: TOTAL NO. of ITERATIONS REACHED LIMIT.\n",
            "\n",
            "Increase the number of iterations (max_iter) or scale the data as shown in:\n",
            "    https://scikit-learn.org/stable/modules/preprocessing.html\n",
            "Please also refer to the documentation for alternative solver options:\n",
            "    https://scikit-learn.org/stable/modules/linear_model.html#logistic-regression\n",
            "  n_iter_i = _check_optimize_result(\n"
          ]
        },
        {
          "output_type": "execute_result",
          "data": {
            "text/plain": [
              "SelectFromModel(estimator=LogisticRegression(C=1))"
            ]
          },
          "metadata": {},
          "execution_count": 7
        }
      ],
      "source": [
        "# fit the LR model\n",
        "sel_ = SelectFromModel(LogisticRegression(C=1, penalty='l2'))\n",
        "X = scaler.transform(X_train)\n",
        "sel_.fit(X, y_train)"
      ]
    },
    {
      "cell_type": "code",
      "execution_count": null,
      "metadata": {
        "id": "5RjkB_Msu3dx",
        "outputId": "4353ab33-5b35-48e0-db51-3ee114d7e7a9",
        "colab": {
          "base_uri": "https://localhost:8080/"
        }
      },
      "outputs": [
        {
          "output_type": "stream",
          "name": "stdout",
          "text": [
            "total features: 246\n",
            "selected features: 92\n",
            "features with coefficients shrank to zero: 0\n"
          ]
        }
      ],
      "source": [
        "# make a list with the selected features\n",
        "selected_feat = X_train.columns[(sel_.get_support())]\n",
        "\n",
        "print('total features: {}'.format((X_train.shape[1])))\n",
        "print('selected features: {}'.format(len(selected_feat)))\n",
        "print('features with coefficients shrank to zero: {}'.format(\n",
        "    np.sum(sel_.estimator_.coef_ == 0)))"
      ]
    },
    {
      "cell_type": "code",
      "execution_count": null,
      "metadata": {
        "id": "To9qWLzXu3dz",
        "outputId": "deb048d3-f684-4508-f057-df0d6098941a",
        "colab": {
          "base_uri": "https://localhost:8080/",
          "height": 321
        }
      },
      "outputs": [
        {
          "output_type": "error",
          "ename": "IndexError",
          "evalue": "ignored",
          "traceback": [
            "\u001b[0;31m---------------------------------------------------------------------------\u001b[0m",
            "\u001b[0;31mIndexError\u001b[0m                                Traceback (most recent call last)",
            "\u001b[0;32m<ipython-input-9-9930842d01b5>\u001b[0m in \u001b[0;36m<module>\u001b[0;34m\u001b[0m\n\u001b[1;32m      1\u001b[0m \u001b[0;31m# we can identify the removed features like this:\u001b[0m\u001b[0;34m\u001b[0m\u001b[0;34m\u001b[0m\u001b[0;34m\u001b[0m\u001b[0m\n\u001b[0;32m----> 2\u001b[0;31m \u001b[0mremoved_feats\u001b[0m \u001b[0;34m=\u001b[0m \u001b[0mX_train\u001b[0m\u001b[0;34m.\u001b[0m\u001b[0mcolumns\u001b[0m\u001b[0;34m[\u001b[0m\u001b[0;34m(\u001b[0m\u001b[0msel_\u001b[0m\u001b[0;34m.\u001b[0m\u001b[0mestimator_\u001b[0m\u001b[0;34m.\u001b[0m\u001b[0mcoef_\u001b[0m \u001b[0;34m==\u001b[0m \u001b[0;36m0\u001b[0m\u001b[0;34m)\u001b[0m\u001b[0;34m.\u001b[0m\u001b[0mravel\u001b[0m\u001b[0;34m(\u001b[0m\u001b[0;34m)\u001b[0m\u001b[0;34m.\u001b[0m\u001b[0mtolist\u001b[0m\u001b[0;34m(\u001b[0m\u001b[0;34m)\u001b[0m\u001b[0;34m]\u001b[0m\u001b[0;34m\u001b[0m\u001b[0;34m\u001b[0m\u001b[0m\n\u001b[0m\u001b[1;32m      3\u001b[0m \u001b[0mremoved_feats\u001b[0m\u001b[0;34m\u001b[0m\u001b[0;34m\u001b[0m\u001b[0m\n",
            "\u001b[0;32m/usr/local/lib/python3.8/dist-packages/pandas/core/indexes/base.py\u001b[0m in \u001b[0;36m__getitem__\u001b[0;34m(self, key)\u001b[0m\n\u001b[1;32m   4614\u001b[0m             \u001b[0mkey\u001b[0m \u001b[0;34m=\u001b[0m \u001b[0mnp\u001b[0m\u001b[0;34m.\u001b[0m\u001b[0masarray\u001b[0m\u001b[0;34m(\u001b[0m\u001b[0mkey\u001b[0m\u001b[0;34m,\u001b[0m \u001b[0mdtype\u001b[0m\u001b[0;34m=\u001b[0m\u001b[0mbool\u001b[0m\u001b[0;34m)\u001b[0m\u001b[0;34m\u001b[0m\u001b[0;34m\u001b[0m\u001b[0m\n\u001b[1;32m   4615\u001b[0m \u001b[0;34m\u001b[0m\u001b[0m\n\u001b[0;32m-> 4616\u001b[0;31m         \u001b[0mresult\u001b[0m \u001b[0;34m=\u001b[0m \u001b[0mgetitem\u001b[0m\u001b[0;34m(\u001b[0m\u001b[0mkey\u001b[0m\u001b[0;34m)\u001b[0m\u001b[0;34m\u001b[0m\u001b[0;34m\u001b[0m\u001b[0m\n\u001b[0m\u001b[1;32m   4617\u001b[0m         \u001b[0;32mif\u001b[0m \u001b[0;32mnot\u001b[0m \u001b[0mis_scalar\u001b[0m\u001b[0;34m(\u001b[0m\u001b[0mresult\u001b[0m\u001b[0;34m)\u001b[0m\u001b[0;34m:\u001b[0m\u001b[0;34m\u001b[0m\u001b[0;34m\u001b[0m\u001b[0m\n\u001b[1;32m   4618\u001b[0m             \u001b[0;31m# error: Argument 1 to \"ndim\" has incompatible type \"Union[ExtensionArray,\u001b[0m\u001b[0;34m\u001b[0m\u001b[0;34m\u001b[0m\u001b[0;34m\u001b[0m\u001b[0m\n",
            "\u001b[0;31mIndexError\u001b[0m: boolean index did not match indexed array along dimension 0; dimension is 246 but corresponding boolean dimension is 738"
          ]
        }
      ],
      "source": [
        "# we can identify the removed features like this:\n",
        "removed_feats = X_train.columns[(sel_.estimator_.coef_ == 0).ravel().tolist()]\n",
        "removed_feats"
      ]
    },
    {
      "cell_type": "code",
      "execution_count": null,
      "metadata": {
        "id": "5zF9Cg6Vu3d0",
        "outputId": "6424f901-c423-4850-c135-b6ce06d14bb0",
        "colab": {
          "base_uri": "https://localhost:8080/"
        }
      },
      "outputs": [
        {
          "output_type": "stream",
          "name": "stderr",
          "text": [
            "/usr/local/lib/python3.8/dist-packages/sklearn/base.py:443: UserWarning: X has feature names, but SelectFromModel was fitted without feature names\n",
            "  warnings.warn(\n",
            "/usr/local/lib/python3.8/dist-packages/sklearn/base.py:443: UserWarning: X has feature names, but SelectFromModel was fitted without feature names\n",
            "  warnings.warn(\n"
          ]
        },
        {
          "output_type": "execute_result",
          "data": {
            "text/plain": [
              "((9256, 92), (2314, 92))"
            ]
          },
          "metadata": {},
          "execution_count": 11
        }
      ],
      "source": [
        "# remove the features from the training and testing set\n",
        "\n",
        "X_train_selected = sel_.transform(X_train.fillna(0))\n",
        "X_test_selected = sel_.transform(X_test.fillna(0))\n",
        "\n",
        "X_train_selected.shape, X_test_selected.shape"
      ]
    },
    {
      "cell_type": "markdown",
      "metadata": {
        "id": "ldGM_6j7u3d1"
      },
      "source": [
        "## Random Forest Importance\n"
      ]
    },
    {
      "cell_type": "code",
      "execution_count": null,
      "metadata": {
        "id": "5y-j8faPu3d1",
        "outputId": "5b259c0d-4425-443c-a55e-c60ba1de0b43",
        "colab": {
          "base_uri": "https://localhost:8080/",
          "height": 1000
        }
      },
      "outputs": [
        {
          "output_type": "stream",
          "name": "stdout",
          "text": [
            "Feature ranking:\n",
            "1. feature no:16 feature name:Delta/Theta (0.015806)\n",
            "2. feature no:245 feature name:Permutation_Entropy (0.014126)\n",
            "3. feature no:13 feature name:FFT_Theta_MaxPower (0.009803)\n",
            "4. feature no:18 feature name:Theta/Alpha (0.009090)\n",
            "5. feature no:114 feature name:12_Wavelet_Approximate_Entropy (0.008595)\n",
            "6. feature no:84 feature name:9_Wavelet_Approximate_Mean (0.008399)\n",
            "7. feature no:185 feature name:21_Wavelet_Detailed_Energy (0.007884)\n",
            "8. feature no:184 feature name:21_Wavelet_Detailed_Std _Deviation (0.007374)\n",
            "9. feature no:178 feature name:20_Wavelet_Approximate_Entropy (0.007359)\n",
            "10. feature no:112 feature name:12_Wavelet_Detailed_Std _Deviation (0.007354)\n",
            "11. feature no:221 feature name:26_Wavelet_Approximate_Std_Deviation (0.007116)\n",
            "12. feature no:5 feature name:Hjorth_Complexity (0.006901)\n",
            "13. feature no:121 feature name:13_Wavelet_Detailed_Energy (0.006901)\n",
            "14. feature no:72 feature name:7_Wavelet_Detailed_Std _Deviation (0.006733)\n",
            "15. feature no:181 feature name:21_Wavelet_Approximate_Std_Deviation (0.006539)\n",
            "16. feature no:74 feature name:7_Wavelet_Approximate_Entropy (0.006334)\n",
            "17. feature no:242 feature name:28_Wavelet_Approximate_Entropy (0.006281)\n",
            "18. feature no:12 feature name:FFT_Delta_MaxPower (0.006158)\n",
            "19. feature no:34 feature name:2_Wavelet_Approximate_Entropy (0.006147)\n",
            "20. feature no:232 feature name:27_Wavelet_Detailed_Std _Deviation (0.006133)\n",
            "21. feature no:101 feature name:11_Wavelet_Approximate_Std_Deviation (0.006029)\n",
            "22. feature no:176 feature name:20_Wavelet_Detailed_Std _Deviation (0.005839)\n",
            "23. feature no:97 feature name:10_Wavelet_Detailed_Energy (0.005747)\n",
            "24. feature no:80 feature name:8_Wavelet_Detailed_Std _Deviation (0.005561)\n",
            "25. feature no:234 feature name:27_Wavelet_Approximate_Entropy (0.005557)\n",
            "26. feature no:186 feature name:21_Wavelet_Approximate_Entropy (0.005542)\n",
            "27. feature no:98 feature name:10_Wavelet_Approximate_Entropy (0.005482)\n",
            "28. feature no:182 feature name:21_Wavelet_Approximate_Energy (0.005461)\n",
            "29. feature no:152 feature name:17_Wavelet_Detailed_Std _Deviation (0.005452)\n",
            "30. feature no:241 feature name:28_Wavelet_Detailed_Energy (0.005450)\n",
            "31. feature no:240 feature name:28_Wavelet_Detailed_Std _Deviation (0.005339)\n",
            "32. feature no:46 feature name:4_Wavelet_Approximate_Energy (0.005323)\n",
            "33. feature no:69 feature name:7_Wavelet_Approximate_Std_Deviation (0.005280)\n",
            "34. feature no:244 feature name:Hurst_Exponent (0.005223)\n",
            "35. feature no:113 feature name:12_Wavelet_Detailed_Energy (0.005137)\n",
            "36. feature no:218 feature name:25_Wavelet_Approximate_Entropy (0.005090)\n",
            "37. feature no:73 feature name:7_Wavelet_Detailed_Energy (0.005084)\n",
            "38. feature no:6 feature name:Kurtosis (0.005077)\n",
            "39. feature no:10 feature name:1st_Difference_Mean (0.005077)\n",
            "40. feature no:81 feature name:8_Wavelet_Detailed_Energy (0.005055)\n",
            "41. feature no:82 feature name:8_Wavelet_Approximate_Entropy (0.005052)\n",
            "42. feature no:189 feature name:22_Wavelet_Approximate_Std_Deviation (0.005052)\n",
            "43. feature no:96 feature name:10_Wavelet_Detailed_Std _Deviation (0.005010)\n",
            "44. feature no:24 feature name:1_Wavelet_Detailed_Std_Deviation (0.004931)\n",
            "45. feature no:120 feature name:13_Wavelet_Detailed_Std _Deviation (0.004925)\n",
            "46. feature no:170 feature name:19_Wavelet_Approximate_Entropy (0.004924)\n",
            "47. feature no:177 feature name:20_Wavelet_Detailed_Energy (0.004886)\n",
            "48. feature no:217 feature name:25_Wavelet_Detailed_Energy (0.004871)\n",
            "49. feature no:149 feature name:17_Wavelet_Approximate_Std_Deviation (0.004820)\n",
            "50. feature no:160 feature name:18_Wavelet_Detailed_Std _Deviation (0.004753)\n",
            "51. feature no:51 feature name:4_Wavelet_Detailed_Entropy (0.004734)\n",
            "52. feature no:11 feature name:1st_Difference_Max (0.004698)\n",
            "53. feature no:33 feature name:2_Wavelet_Detailed_Energy (0.004677)\n",
            "54. feature no:56 feature name:5_Wavelet_Detailed_Std _Deviation (0.004676)\n",
            "55. feature no:144 feature name:16_Wavelet_Detailed_Std _Deviation (0.004635)\n",
            "56. feature no:154 feature name:17_Wavelet_Approximate_Entropy (0.004612)\n",
            "57. feature no:25 feature name:1_Wavelet_Detailed_Energy (0.004588)\n",
            "58. feature no:3 feature name:Hjorth_Activity (0.004581)\n",
            "59. feature no:26 feature name:1_Wavelet_Approximate_Entropy (0.004578)\n",
            "60. feature no:162 feature name:18_Wavelet_Approximate_Entropy (0.004541)\n",
            "61. feature no:237 feature name:28_Wavelet_Approximate_Std_Deviation (0.004533)\n",
            "62. feature no:122 feature name:13_Wavelet_Approximate_Entropy (0.004513)\n",
            "63. feature no:201 feature name:23_Wavelet_Detailed_Energy (0.004488)\n",
            "64. feature no:17 feature name:Delta/Alpha (0.004481)\n",
            "65. feature no:48 feature name:4_Wavelet_Detailed_Std _Deviation (0.004463)\n",
            "66. feature no:194 feature name:22_Wavelet_Approximate_Entropy (0.004450)\n",
            "67. feature no:197 feature name:23_Wavelet_Approximate_Std_Deviation (0.004449)\n",
            "68. feature no:59 feature name:5_Wavelet_Detailed_Entropy (0.004411)\n",
            "69. feature no:42 feature name:3_Wavelet_Approximate_Entropy (0.004409)\n",
            "70. feature no:141 feature name:16_Wavelet_Approximate_Std_Deviation (0.004404)\n",
            "71. feature no:133 feature name:15_Wavelet_Approximate_Std_Deviation (0.004401)\n",
            "72. feature no:9 feature name:Skewness (0.004399)\n",
            "73. feature no:57 feature name:5_Wavelet_Detailed_Energy (0.004371)\n",
            "74. feature no:192 feature name:22_Wavelet_Detailed_Std _Deviation (0.004354)\n",
            "75. feature no:204 feature name:24_Wavelet_Approximate_Mean (0.004345)\n",
            "76. feature no:233 feature name:27_Wavelet_Detailed_Energy (0.004341)\n",
            "77. feature no:53 feature name:5_Wavelet_Approximate_Std_Deviation (0.004337)\n",
            "78. feature no:146 feature name:16_Wavelet_Approximate_Entropy (0.004328)\n",
            "79. feature no:169 feature name:19_Wavelet_Detailed_Energy (0.004301)\n",
            "80. feature no:20 feature name:1_Wavelet_Approximate_Mean (0.004301)\n",
            "81. feature no:4 feature name:Hjorth_Mobility (0.004275)\n",
            "82. feature no:61 feature name:6_Wavelet_Approximate_Std_Deviation (0.004265)\n",
            "83. feature no:45 feature name:4_Wavelet_Approximate_Std_Deviation (0.004251)\n",
            "84. feature no:32 feature name:2_Wavelet_Detailed_Std _Deviation (0.004229)\n",
            "85. feature no:37 feature name:3_Wavelet_Approximate_Std_Deviation (0.004221)\n",
            "86. feature no:157 feature name:18_Wavelet_Approximate_Std_Deviation (0.004218)\n",
            "87. feature no:153 feature name:17_Wavelet_Detailed_Energy (0.004218)\n",
            "88. feature no:2 feature name:Variance_of_Vertex_to_Vertex_Slope (0.004210)\n",
            "89. feature no:138 feature name:15_Wavelet_Approximate_Entropy (0.004203)\n",
            "90. feature no:44 feature name:4_Wavelet_Approximate_Mean (0.004202)\n",
            "91. feature no:202 feature name:23_Wavelet_Approximate_Entropy (0.004155)\n",
            "92. feature no:65 feature name:6_Wavelet_Detailed_Energy (0.004145)\n",
            "93. feature no:117 feature name:13_Wavelet_Approximate_Std_Deviation (0.004130)\n",
            "94. feature no:15 feature name:FFT_Beta_MaxPower (0.004093)\n",
            "95. feature no:229 feature name:27_Wavelet_Approximate_Std_Deviation (0.004088)\n",
            "96. feature no:222 feature name:26_Wavelet_Approximate_Energy (0.004078)\n",
            "97. feature no:89 feature name:9_Wavelet_Detailed_Energy (0.004074)\n",
            "98. feature no:40 feature name:3_Wavelet_Detailed_Std _Deviation (0.004064)\n",
            "99. feature no:145 feature name:16_Wavelet_Detailed_Energy (0.004042)\n",
            "100. feature no:27 feature name:1_Wavelet_Detailed_Entropy (0.004027)\n",
            "101. feature no:216 feature name:25_Wavelet_Detailed_Std _Deviation (0.004023)\n",
            "102. feature no:106 feature name:11_Wavelet_Approximate_Entropy (0.004016)\n",
            "103. feature no:147 feature name:16_Wavelet_Detailed_Entropy (0.003991)\n",
            "104. feature no:193 feature name:22_Wavelet_Detailed_Energy (0.003967)\n",
            "105. feature no:105 feature name:11_Wavelet_Detailed_Energy (0.003965)\n",
            "106. feature no:137 feature name:15_Wavelet_Detailed_Energy (0.003960)\n",
            "107. feature no:165 feature name:19_Wavelet_Approximate_Std_Deviation (0.003946)\n",
            "108. feature no:161 feature name:18_Wavelet_Detailed_Energy (0.003943)\n",
            "109. feature no:123 feature name:13_Wavelet_Detailed_Entropy (0.003937)\n",
            "110. feature no:29 feature name:2_Wavelet_Approximate_Std_Deviation (0.003917)\n",
            "111. feature no:205 feature name:24_Wavelet_Approximate_Std_Deviation (0.003915)\n",
            "112. feature no:21 feature name:1_Wavelet_Approximate_Std_Deviation (0.003913)\n",
            "113. feature no:19 feature name:(Delta+Theta)/Alpha (0.003907)\n",
            "114. feature no:200 feature name:23_Wavelet_Detailed_Std _Deviation (0.003885)\n",
            "115. feature no:35 feature name:2_Wavelet_Detailed_Entropy (0.003863)\n",
            "116. feature no:238 feature name:28_Wavelet_Approximate_Energy (0.003831)\n",
            "117. feature no:129 feature name:14_Wavelet_Detailed_Energy (0.003796)\n",
            "118. feature no:180 feature name:21_Wavelet_Approximate_Mean (0.003785)\n",
            "119. feature no:172 feature name:20_Wavelet_Approximate_Mean (0.003767)\n",
            "120. feature no:102 feature name:11_Wavelet_Approximate_Energy (0.003736)\n",
            "121. feature no:213 feature name:25_Wavelet_Approximate_Std_Deviation (0.003732)\n",
            "122. feature no:219 feature name:25_Wavelet_Detailed_Entropy (0.003713)\n",
            "123. feature no:235 feature name:27_Wavelet_Detailed_Entropy (0.003711)\n",
            "124. feature no:166 feature name:19_Wavelet_Approximate_Energy (0.003700)\n",
            "125. feature no:78 feature name:8_Wavelet_Approximate_Energy (0.003679)\n",
            "126. feature no:93 feature name:10_Wavelet_Approximate_Std_Deviation (0.003648)\n",
            "127. feature no:125 feature name:14_Wavelet_Approximate_Std_Deviation (0.003646)\n",
            "128. feature no:156 feature name:18_Wavelet_Approximate_Mean (0.003639)\n",
            "129. feature no:134 feature name:15_Wavelet_Approximate_Energy (0.003634)\n",
            "130. feature no:209 feature name:24_Wavelet_Detailed_Energy (0.003634)\n",
            "131. feature no:224 feature name:26_Wavelet_Detailed_Std _Deviation (0.003619)\n",
            "132. feature no:198 feature name:23_Wavelet_Approximate_Energy (0.003618)\n",
            "133. feature no:68 feature name:7_Wavelet_Approximate_Mean (0.003612)\n",
            "134. feature no:188 feature name:22_Wavelet_Approximate_Mean (0.003608)\n",
            "135. feature no:227 feature name:26_Wavelet_Detailed_Entropy (0.003602)\n",
            "136. feature no:67 feature name:6_Wavelet_Detailed_Entropy (0.003595)\n",
            "137. feature no:100 feature name:11_Wavelet_Approximate_Mean (0.003594)\n",
            "138. feature no:115 feature name:12_Wavelet_Detailed_Entropy (0.003583)\n",
            "139. feature no:77 feature name:8_Wavelet_Approximate_Std_Deviation (0.003552)\n",
            "140. feature no:52 feature name:5_Wavelet_Approximate_Mean (0.003539)\n",
            "141. feature no:158 feature name:18_Wavelet_Approximate_Energy (0.003532)\n",
            "142. feature no:164 feature name:19_Wavelet_Approximate_Mean (0.003528)\n",
            "143. feature no:230 feature name:27_Wavelet_Approximate_Energy (0.003509)\n",
            "144. feature no:58 feature name:5_Wavelet_Approximate_Entropy (0.003507)\n",
            "145. feature no:108 feature name:12_Wavelet_Approximate_Mean (0.003505)\n",
            "146. feature no:49 feature name:4_Wavelet_Detailed_Energy (0.003483)\n",
            "147. feature no:99 feature name:10_Wavelet_Detailed_Entropy (0.003479)\n",
            "148. feature no:88 feature name:9_Wavelet_Detailed_Std _Deviation (0.003464)\n",
            "149. feature no:208 feature name:24_Wavelet_Detailed_Std _Deviation (0.003454)\n",
            "150. feature no:70 feature name:7_Wavelet_Approximate_Energy (0.003422)\n",
            "151. feature no:75 feature name:7_Wavelet_Detailed_Entropy (0.003420)\n",
            "152. feature no:60 feature name:6_Wavelet_Approximate_Mean (0.003391)\n",
            "153. feature no:41 feature name:3_Wavelet_Detailed_Energy (0.003370)\n",
            "154. feature no:92 feature name:10_Wavelet_Approximate_Mean (0.003357)\n",
            "155. feature no:155 feature name:17_Wavelet_Detailed_Entropy (0.003354)\n",
            "156. feature no:64 feature name:6_Wavelet_Detailed_Std _Deviation (0.003354)\n",
            "157. feature no:179 feature name:20_Wavelet_Detailed_Entropy (0.003345)\n",
            "158. feature no:175 feature name:20_Wavelet_Detailed_Mean (0.003336)\n",
            "159. feature no:109 feature name:12_Wavelet_Approximate_Std_Deviation (0.003335)\n",
            "160. feature no:168 feature name:19_Wavelet_Detailed_Std _Deviation (0.003322)\n",
            "161. feature no:136 feature name:15_Wavelet_Detailed_Std _Deviation (0.003313)\n",
            "162. feature no:54 feature name:5_Wavelet_Approximate_Energy (0.003298)\n",
            "163. feature no:38 feature name:3_Wavelet_Approximate_Energy (0.003291)\n",
            "164. feature no:14 feature name:FFT_Alpha_MaxPower (0.003281)\n",
            "165. feature no:132 feature name:15_Wavelet_Approximate_Mean (0.003278)\n",
            "166. feature no:50 feature name:4_Wavelet_Approximate_Entropy (0.003276)\n",
            "167. feature no:191 feature name:22_Wavelet_Detailed_Mean (0.003269)\n",
            "168. feature no:243 feature name:28_Wavelet_Detailed_Entropy (0.003260)\n",
            "169. feature no:91 feature name:9_Wavelet_Detailed_Entropy (0.003250)\n",
            "170. feature no:62 feature name:6_Wavelet_Approximate_Energy (0.003246)\n",
            "171. feature no:128 feature name:14_Wavelet_Detailed_Std _Deviation (0.003239)\n",
            "172. feature no:90 feature name:9_Wavelet_Approximate_Entropy (0.003236)\n",
            "173. feature no:163 feature name:18_Wavelet_Detailed_Entropy (0.003232)\n",
            "174. feature no:76 feature name:8_Wavelet_Approximate_Mean (0.003217)\n",
            "175. feature no:43 feature name:3_Wavelet_Detailed_Entropy (0.003210)\n",
            "176. feature no:111 feature name:12_Wavelet_Detailed_Mean (0.003208)\n",
            "177. feature no:148 feature name:17_Wavelet_Approximate_Mean (0.003200)\n",
            "178. feature no:151 feature name:17_Wavelet_Detailed_Mean (0.003185)\n",
            "179. feature no:210 feature name:24_Wavelet_Approximate_Entropy (0.003184)\n",
            "180. feature no:7 feature name:2nd_Difference_Mean (0.003175)\n",
            "181. feature no:171 feature name:19_Wavelet_Detailed_Entropy (0.003172)\n",
            "182. feature no:139 feature name:15_Wavelet_Detailed_Entropy (0.003166)\n",
            "183. feature no:211 feature name:24_Wavelet_Detailed_Entropy (0.003164)\n",
            "184. feature no:173 feature name:20_Wavelet_Approximate_Std_Deviation (0.003160)\n",
            "185. feature no:143 feature name:16_Wavelet_Detailed_Mean (0.003144)\n",
            "186. feature no:8 feature name:2nd_Difference_Max (0.003141)\n",
            "187. feature no:104 feature name:11_Wavelet_Detailed_Std _Deviation (0.003136)\n",
            "188. feature no:0 feature name:Coeffiecient_of_Variation (0.003089)\n",
            "189. feature no:228 feature name:27_Wavelet_Approximate_Mean (0.003077)\n",
            "190. feature no:167 feature name:19_Wavelet_Detailed_Mean (0.003045)\n",
            "191. feature no:150 feature name:17_Wavelet_Approximate_Energy (0.003041)\n",
            "192. feature no:126 feature name:14_Wavelet_Approximate_Energy (0.003038)\n",
            "193. feature no:226 feature name:26_Wavelet_Approximate_Entropy (0.003036)\n",
            "194. feature no:223 feature name:26_Wavelet_Detailed_Mean (0.003033)\n",
            "195. feature no:196 feature name:23_Wavelet_Approximate_Mean (0.003019)\n",
            "196. feature no:203 feature name:23_Wavelet_Detailed_Entropy (0.003018)\n",
            "197. feature no:212 feature name:25_Wavelet_Approximate_Mean (0.002986)\n",
            "198. feature no:110 feature name:12_Wavelet_Approximate_Energy (0.002980)\n",
            "199. feature no:87 feature name:9_Wavelet_Detailed_Mean (0.002975)\n",
            "200. feature no:85 feature name:9_Wavelet_Approximate_Std_Deviation (0.002963)\n",
            "201. feature no:94 feature name:10_Wavelet_Approximate_Energy (0.002957)\n",
            "202. feature no:30 feature name:2_Wavelet_Approximate_Energy (0.002949)\n",
            "203. feature no:231 feature name:27_Wavelet_Detailed_Mean (0.002946)\n",
            "204. feature no:130 feature name:14_Wavelet_Approximate_Entropy (0.002938)\n",
            "205. feature no:220 feature name:26_Wavelet_Approximate_Mean (0.002937)\n",
            "206. feature no:174 feature name:20_Wavelet_Approximate_Energy (0.002931)\n",
            "207. feature no:225 feature name:26_Wavelet_Detailed_Energy (0.002896)\n",
            "208. feature no:159 feature name:18_Wavelet_Detailed_Mean (0.002856)\n",
            "209. feature no:86 feature name:9_Wavelet_Approximate_Energy (0.002854)\n",
            "210. feature no:107 feature name:11_Wavelet_Detailed_Entropy (0.002852)\n",
            "211. feature no:190 feature name:22_Wavelet_Approximate_Energy (0.002847)\n",
            "212. feature no:71 feature name:7_Wavelet_Detailed_Mean (0.002844)\n",
            "213. feature no:1 feature name:Mean_of_Vertex_to_Vertex_Slope (0.002825)\n",
            "214. feature no:142 feature name:16_Wavelet_Approximate_Energy (0.002811)\n",
            "215. feature no:118 feature name:13_Wavelet_Approximate_Energy (0.002805)\n",
            "216. feature no:116 feature name:13_Wavelet_Approximate_Mean (0.002792)\n",
            "217. feature no:55 feature name:5_Wavelet_Detailed_Mean (0.002758)\n",
            "218. feature no:63 feature name:6_Wavelet_Detailed_Mean (0.002747)\n",
            "219. feature no:66 feature name:6_Wavelet_Approximate_Entropy (0.002659)\n",
            "220. feature no:83 feature name:8_Wavelet_Detailed_Entropy (0.002656)\n",
            "221. feature no:214 feature name:25_Wavelet_Approximate_Energy (0.002646)\n",
            "222. feature no:22 feature name:1_Wavelet_Approximate_Energy (0.002639)\n",
            "223. feature no:183 feature name:21_Wavelet_Detailed_Mean (0.002633)\n",
            "224. feature no:127 feature name:14_Wavelet_Detailed_Mean (0.002621)\n",
            "225. feature no:187 feature name:21_Wavelet_Detailed_Entropy (0.002557)\n",
            "226. feature no:47 feature name:4_Wavelet_Detailed_Mean (0.002547)\n",
            "227. feature no:23 feature name:1_Wavelet_Detailed_Mean (0.002522)\n",
            "228. feature no:140 feature name:16_Wavelet_Approximate_Mean (0.002518)\n",
            "229. feature no:95 feature name:10_Wavelet_Detailed_Mean (0.002491)\n",
            "230. feature no:28 feature name:2_Wavelet_Approximate_Mean (0.002481)\n",
            "231. feature no:236 feature name:28_Wavelet_Approximate_Mean (0.002479)\n",
            "232. feature no:199 feature name:23_Wavelet_Detailed_Mean (0.002466)\n",
            "233. feature no:206 feature name:24_Wavelet_Approximate_Energy (0.002464)\n",
            "234. feature no:36 feature name:3_Wavelet_Approximate_Mean (0.002444)\n",
            "235. feature no:31 feature name:2_Wavelet_Detailed_Mean (0.002374)\n",
            "236. feature no:79 feature name:8_Wavelet_Detailed_Mean (0.002344)\n",
            "237. feature no:239 feature name:28_Wavelet_Detailed_Mean (0.002341)\n",
            "238. feature no:39 feature name:3_Wavelet_Detailed_Mean (0.002329)\n",
            "239. feature no:131 feature name:14_Wavelet_Detailed_Entropy (0.002327)\n",
            "240. feature no:135 feature name:15_Wavelet_Detailed_Mean (0.002284)\n",
            "241. feature no:119 feature name:13_Wavelet_Detailed_Mean (0.002269)\n",
            "242. feature no:124 feature name:14_Wavelet_Approximate_Mean (0.002202)\n",
            "243. feature no:207 feature name:24_Wavelet_Detailed_Mean (0.002181)\n",
            "244. feature no:195 feature name:22_Wavelet_Detailed_Entropy (0.002140)\n",
            "245. feature no:215 feature name:25_Wavelet_Detailed_Mean (0.001904)\n",
            "246. feature no:103 feature name:11_Wavelet_Detailed_Mean (0.001878)\n"
          ]
        },
        {
          "output_type": "display_data",
          "data": {
            "text/plain": [
              "<Figure size 432x288 with 1 Axes>"
            ],
            "image/png": "[encoded data removed]"
          },
          "metadata": {
            "needs_background": "light"
          }
        }
      ],
      "source": [
        "model = rf_importance(X_train=X_train,y_train=y_train,\n",
        "                             max_depth=10,top_n=10)"
      ]
    },
    {
      "cell_type": "code",
      "execution_count": null,
      "metadata": {
        "id": "AIsMo9Vqu3d2",
        "outputId": "890c2812-06ed-4205-8229-98382db4c695",
        "colab": {
          "base_uri": "https://localhost:8080/"
        }
      },
      "outputs": [
        {
          "output_type": "execute_result",
          "data": {
            "text/plain": [
              "Index([], dtype='object')"
            ]
          },
          "metadata": {},
          "execution_count": 13
        }
      ],
      "source": [
        "# select features whose importance > threshold\n",
        "from sklearn.feature_selection import SelectFromModel\n",
        "\n",
        "# only 5 features have importance > 0.05\n",
        "feature_selection = SelectFromModel(model, threshold=0.05,prefit=True) \n",
        "selected_feat = X_train.columns[(feature_selection.get_support())]\n",
        "selected_feat"
      ]
    },
    {
      "cell_type": "code",
      "execution_count": null,
      "metadata": {
        "id": "E0a9w4RHu3d6",
        "outputId": "ee0a514a-17c6-40c9-d2aa-edea787d99f4",
        "colab": {
          "base_uri": "https://localhost:8080/"
        }
      },
      "outputs": [
        {
          "output_type": "execute_result",
          "data": {
            "text/plain": [
              "Index(['FFT_Theta_MaxPower', 'Delta/Theta', 'Theta/Alpha',\n",
              "       '9_Wavelet_Approximate_Mean', '12_Wavelet_Approximate_Entropy',\n",
              "       '21_Wavelet_Detailed_Energy', 'Permutation_Entropy'],\n",
              "      dtype='object')"
            ]
          },
          "metadata": {},
          "execution_count": 14
        }
      ],
      "source": [
        "# only 12 features have importance > 2 times median\n",
        "feature_selection2 = SelectFromModel(model, threshold='2*median',prefit=True) \n",
        "selected_feat2 = X_train.columns[(feature_selection2.get_support())]\n",
        "selected_feat2"
      ]
    },
    {
      "cell_type": "markdown",
      "metadata": {
        "id": "ZFiTG8xbu3d6"
      },
      "source": [
        "## Gradient Boosted Trees Importance"
      ]
    },
    {
      "cell_type": "code",
      "execution_count": null,
      "metadata": {
        "id": "VtG50YS9u3d7",
        "outputId": "cab29325-bf26-47dc-f2fa-f7cb18675b66",
        "colab": {
          "base_uri": "https://localhost:8080/",
          "height": 1000
        }
      },
      "outputs": [
        {
          "output_type": "stream",
          "name": "stdout",
          "text": [
            "Feature ranking:\n",
            "1. feature no:245 feature name:Permutation_Entropy (0.019901)\n",
            "2. feature no:16 feature name:Delta/Theta (0.016694)\n",
            "3. feature no:84 feature name:9_Wavelet_Approximate_Mean (0.010495)\n",
            "4. feature no:244 feature name:Hurst_Exponent (0.008448)\n",
            "5. feature no:13 feature name:FFT_Theta_MaxPower (0.008011)\n",
            "6. feature no:45 feature name:4_Wavelet_Approximate_Std_Deviation (0.007479)\n",
            "7. feature no:181 feature name:21_Wavelet_Approximate_Std_Deviation (0.007474)\n",
            "8. feature no:141 feature name:16_Wavelet_Approximate_Std_Deviation (0.007243)\n",
            "9. feature no:74 feature name:7_Wavelet_Approximate_Entropy (0.007231)\n",
            "10. feature no:237 feature name:28_Wavelet_Approximate_Std_Deviation (0.007198)\n",
            "11. feature no:12 feature name:FFT_Delta_MaxPower (0.007112)\n",
            "12. feature no:14 feature name:FFT_Alpha_MaxPower (0.007084)\n",
            "13. feature no:18 feature name:Theta/Alpha (0.006930)\n",
            "14. feature no:9 feature name:Skewness (0.006845)\n",
            "15. feature no:69 feature name:7_Wavelet_Approximate_Std_Deviation (0.006683)\n",
            "16. feature no:6 feature name:Kurtosis (0.006672)\n",
            "17. feature no:5 feature name:Hjorth_Complexity (0.006650)\n",
            "18. feature no:15 feature name:FFT_Beta_MaxPower (0.006547)\n",
            "19. feature no:189 feature name:22_Wavelet_Approximate_Std_Deviation (0.006413)\n",
            "20. feature no:98 feature name:10_Wavelet_Approximate_Entropy (0.006350)\n",
            "21. feature no:242 feature name:28_Wavelet_Approximate_Entropy (0.006346)\n",
            "22. feature no:10 feature name:1st_Difference_Mean (0.006157)\n",
            "23. feature no:157 feature name:18_Wavelet_Approximate_Std_Deviation (0.006001)\n",
            "24. feature no:1 feature name:Mean_of_Vertex_to_Vertex_Slope (0.005939)\n",
            "25. feature no:221 feature name:26_Wavelet_Approximate_Std_Deviation (0.005920)\n",
            "26. feature no:29 feature name:2_Wavelet_Approximate_Std_Deviation (0.005842)\n",
            "27. feature no:58 feature name:5_Wavelet_Approximate_Entropy (0.005802)\n",
            "28. feature no:52 feature name:5_Wavelet_Approximate_Mean (0.005760)\n",
            "29. feature no:93 feature name:10_Wavelet_Approximate_Std_Deviation (0.005700)\n",
            "30. feature no:72 feature name:7_Wavelet_Detailed_Std _Deviation (0.005685)\n",
            "31. feature no:132 feature name:15_Wavelet_Approximate_Mean (0.005677)\n",
            "32. feature no:186 feature name:21_Wavelet_Approximate_Entropy (0.005650)\n",
            "33. feature no:0 feature name:Coeffiecient_of_Variation (0.005639)\n",
            "34. feature no:205 feature name:24_Wavelet_Approximate_Std_Deviation (0.005576)\n",
            "35. feature no:117 feature name:13_Wavelet_Approximate_Std_Deviation (0.005481)\n",
            "36. feature no:97 feature name:10_Wavelet_Detailed_Energy (0.005419)\n",
            "37. feature no:76 feature name:8_Wavelet_Approximate_Mean (0.005409)\n",
            "38. feature no:159 feature name:18_Wavelet_Detailed_Mean (0.005395)\n",
            "39. feature no:173 feature name:20_Wavelet_Approximate_Std_Deviation (0.005390)\n",
            "40. feature no:60 feature name:6_Wavelet_Approximate_Mean (0.005382)\n",
            "41. feature no:21 feature name:1_Wavelet_Approximate_Std_Deviation (0.005356)\n",
            "42. feature no:37 feature name:3_Wavelet_Approximate_Std_Deviation (0.005352)\n",
            "43. feature no:133 feature name:15_Wavelet_Approximate_Std_Deviation (0.005329)\n",
            "44. feature no:61 feature name:6_Wavelet_Approximate_Std_Deviation (0.005327)\n",
            "45. feature no:165 feature name:19_Wavelet_Approximate_Std_Deviation (0.005271)\n",
            "46. feature no:148 feature name:17_Wavelet_Approximate_Mean (0.005217)\n",
            "47. feature no:114 feature name:12_Wavelet_Approximate_Entropy (0.005215)\n",
            "48. feature no:28 feature name:2_Wavelet_Approximate_Mean (0.005169)\n",
            "49. feature no:228 feature name:27_Wavelet_Approximate_Mean (0.005154)\n",
            "50. feature no:92 feature name:10_Wavelet_Approximate_Mean (0.005118)\n",
            "51. feature no:202 feature name:23_Wavelet_Approximate_Entropy (0.005092)\n",
            "52. feature no:20 feature name:1_Wavelet_Approximate_Mean (0.005072)\n",
            "53. feature no:156 feature name:18_Wavelet_Approximate_Mean (0.005043)\n",
            "54. feature no:19 feature name:(Delta+Theta)/Alpha (0.005036)\n",
            "55. feature no:149 feature name:17_Wavelet_Approximate_Std_Deviation (0.005033)\n",
            "56. feature no:36 feature name:3_Wavelet_Approximate_Mean (0.004961)\n",
            "57. feature no:213 feature name:25_Wavelet_Approximate_Std_Deviation (0.004955)\n",
            "58. feature no:229 feature name:27_Wavelet_Approximate_Std_Deviation (0.004928)\n",
            "59. feature no:180 feature name:21_Wavelet_Approximate_Mean (0.004910)\n",
            "60. feature no:199 feature name:23_Wavelet_Detailed_Mean (0.004902)\n",
            "61. feature no:212 feature name:25_Wavelet_Approximate_Mean (0.004865)\n",
            "62. feature no:109 feature name:12_Wavelet_Approximate_Std_Deviation (0.004862)\n",
            "63. feature no:240 feature name:28_Wavelet_Detailed_Std _Deviation (0.004834)\n",
            "64. feature no:68 feature name:7_Wavelet_Approximate_Mean (0.004826)\n",
            "65. feature no:31 feature name:2_Wavelet_Detailed_Mean (0.004810)\n",
            "66. feature no:116 feature name:13_Wavelet_Approximate_Mean (0.004777)\n",
            "67. feature no:178 feature name:20_Wavelet_Approximate_Entropy (0.004738)\n",
            "68. feature no:220 feature name:26_Wavelet_Approximate_Mean (0.004727)\n",
            "69. feature no:112 feature name:12_Wavelet_Detailed_Std _Deviation (0.004725)\n",
            "70. feature no:101 feature name:11_Wavelet_Approximate_Std_Deviation (0.004704)\n",
            "71. feature no:140 feature name:16_Wavelet_Approximate_Mean (0.004670)\n",
            "72. feature no:108 feature name:12_Wavelet_Approximate_Mean (0.004651)\n",
            "73. feature no:188 feature name:22_Wavelet_Approximate_Mean (0.004645)\n",
            "74. feature no:236 feature name:28_Wavelet_Approximate_Mean (0.004629)\n",
            "75. feature no:196 feature name:23_Wavelet_Approximate_Mean (0.004625)\n",
            "76. feature no:77 feature name:8_Wavelet_Approximate_Std_Deviation (0.004606)\n",
            "77. feature no:167 feature name:19_Wavelet_Detailed_Mean (0.004583)\n",
            "78. feature no:234 feature name:27_Wavelet_Approximate_Entropy (0.004567)\n",
            "79. feature no:164 feature name:19_Wavelet_Approximate_Mean (0.004545)\n",
            "80. feature no:151 feature name:17_Wavelet_Detailed_Mean (0.004522)\n",
            "81. feature no:175 feature name:20_Wavelet_Detailed_Mean (0.004512)\n",
            "82. feature no:11 feature name:1st_Difference_Max (0.004504)\n",
            "83. feature no:44 feature name:4_Wavelet_Approximate_Mean (0.004502)\n",
            "84. feature no:39 feature name:3_Wavelet_Detailed_Mean (0.004465)\n",
            "85. feature no:17 feature name:Delta/Alpha (0.004398)\n",
            "86. feature no:7 feature name:2nd_Difference_Mean (0.004373)\n",
            "87. feature no:204 feature name:24_Wavelet_Approximate_Mean (0.004342)\n",
            "88. feature no:122 feature name:13_Wavelet_Approximate_Entropy (0.004318)\n",
            "89. feature no:79 feature name:8_Wavelet_Detailed_Mean (0.004270)\n",
            "90. feature no:55 feature name:5_Wavelet_Detailed_Mean (0.004266)\n",
            "91. feature no:218 feature name:25_Wavelet_Approximate_Entropy (0.004257)\n",
            "92. feature no:172 feature name:20_Wavelet_Approximate_Mean (0.004246)\n",
            "93. feature no:135 feature name:15_Wavelet_Detailed_Mean (0.004212)\n",
            "94. feature no:143 feature name:16_Wavelet_Detailed_Mean (0.004205)\n",
            "95. feature no:231 feature name:27_Wavelet_Detailed_Mean (0.004190)\n",
            "96. feature no:71 feature name:7_Wavelet_Detailed_Mean (0.004185)\n",
            "97. feature no:194 feature name:22_Wavelet_Approximate_Entropy (0.004171)\n",
            "98. feature no:100 feature name:11_Wavelet_Approximate_Mean (0.004159)\n",
            "99. feature no:26 feature name:1_Wavelet_Approximate_Entropy (0.004158)\n",
            "100. feature no:82 feature name:8_Wavelet_Approximate_Entropy (0.004155)\n",
            "101. feature no:47 feature name:4_Wavelet_Detailed_Mean (0.004128)\n",
            "102. feature no:185 feature name:21_Wavelet_Detailed_Energy (0.004120)\n",
            "103. feature no:191 feature name:22_Wavelet_Detailed_Mean (0.004110)\n",
            "104. feature no:3 feature name:Hjorth_Activity (0.004104)\n",
            "105. feature no:144 feature name:16_Wavelet_Detailed_Std _Deviation (0.004092)\n",
            "106. feature no:197 feature name:23_Wavelet_Approximate_Std_Deviation (0.004091)\n",
            "107. feature no:34 feature name:2_Wavelet_Approximate_Entropy (0.004077)\n",
            "108. feature no:50 feature name:4_Wavelet_Approximate_Entropy (0.004067)\n",
            "109. feature no:183 feature name:21_Wavelet_Detailed_Mean (0.004058)\n",
            "110. feature no:53 feature name:5_Wavelet_Approximate_Std_Deviation (0.004054)\n",
            "111. feature no:125 feature name:14_Wavelet_Approximate_Std_Deviation (0.004025)\n",
            "112. feature no:87 feature name:9_Wavelet_Detailed_Mean (0.004001)\n",
            "113. feature no:111 feature name:12_Wavelet_Detailed_Mean (0.003956)\n",
            "114. feature no:103 feature name:11_Wavelet_Detailed_Mean (0.003941)\n",
            "115. feature no:113 feature name:12_Wavelet_Detailed_Energy (0.003917)\n",
            "116. feature no:2 feature name:Variance_of_Vertex_to_Vertex_Slope (0.003906)\n",
            "117. feature no:239 feature name:28_Wavelet_Detailed_Mean (0.003901)\n",
            "118. feature no:142 feature name:16_Wavelet_Approximate_Energy (0.003892)\n",
            "119. feature no:73 feature name:7_Wavelet_Detailed_Energy (0.003881)\n",
            "120. feature no:187 feature name:21_Wavelet_Detailed_Entropy (0.003875)\n",
            "121. feature no:200 feature name:23_Wavelet_Detailed_Std _Deviation (0.003867)\n",
            "122. feature no:85 feature name:9_Wavelet_Approximate_Std_Deviation (0.003861)\n",
            "123. feature no:23 feature name:1_Wavelet_Detailed_Mean (0.003857)\n",
            "124. feature no:184 feature name:21_Wavelet_Detailed_Std _Deviation (0.003847)\n",
            "125. feature no:42 feature name:3_Wavelet_Approximate_Entropy (0.003847)\n",
            "126. feature no:124 feature name:14_Wavelet_Approximate_Mean (0.003839)\n",
            "127. feature no:57 feature name:5_Wavelet_Detailed_Energy (0.003838)\n",
            "128. feature no:223 feature name:26_Wavelet_Detailed_Mean (0.003834)\n",
            "129. feature no:160 feature name:18_Wavelet_Detailed_Std _Deviation (0.003812)\n",
            "130. feature no:27 feature name:1_Wavelet_Detailed_Entropy (0.003802)\n",
            "131. feature no:96 feature name:10_Wavelet_Detailed_Std _Deviation (0.003788)\n",
            "132. feature no:89 feature name:9_Wavelet_Detailed_Energy (0.003761)\n",
            "133. feature no:63 feature name:6_Wavelet_Detailed_Mean (0.003733)\n",
            "134. feature no:207 feature name:24_Wavelet_Detailed_Mean (0.003722)\n",
            "135. feature no:4 feature name:Hjorth_Mobility (0.003691)\n",
            "136. feature no:32 feature name:2_Wavelet_Detailed_Std _Deviation (0.003681)\n",
            "137. feature no:215 feature name:25_Wavelet_Detailed_Mean (0.003675)\n",
            "138. feature no:162 feature name:18_Wavelet_Approximate_Entropy (0.003641)\n",
            "139. feature no:130 feature name:14_Wavelet_Approximate_Entropy (0.003623)\n",
            "140. feature no:201 feature name:23_Wavelet_Detailed_Energy (0.003614)\n",
            "141. feature no:95 feature name:10_Wavelet_Detailed_Mean (0.003613)\n",
            "142. feature no:8 feature name:2nd_Difference_Max (0.003517)\n",
            "143. feature no:161 feature name:18_Wavelet_Detailed_Energy (0.003482)\n",
            "144. feature no:154 feature name:17_Wavelet_Approximate_Entropy (0.003479)\n",
            "145. feature no:43 feature name:3_Wavelet_Detailed_Entropy (0.003452)\n",
            "146. feature no:127 feature name:14_Wavelet_Detailed_Mean (0.003354)\n",
            "147. feature no:170 feature name:19_Wavelet_Approximate_Entropy (0.003330)\n",
            "148. feature no:54 feature name:5_Wavelet_Approximate_Energy (0.003315)\n",
            "149. feature no:233 feature name:27_Wavelet_Detailed_Energy (0.003237)\n",
            "150. feature no:145 feature name:16_Wavelet_Detailed_Energy (0.003224)\n",
            "151. feature no:30 feature name:2_Wavelet_Approximate_Energy (0.003188)\n",
            "152. feature no:66 feature name:6_Wavelet_Approximate_Entropy (0.003176)\n",
            "153. feature no:70 feature name:7_Wavelet_Approximate_Energy (0.003158)\n",
            "154. feature no:102 feature name:11_Wavelet_Approximate_Energy (0.003136)\n",
            "155. feature no:33 feature name:2_Wavelet_Detailed_Energy (0.003118)\n",
            "156. feature no:153 feature name:17_Wavelet_Detailed_Energy (0.003114)\n",
            "157. feature no:222 feature name:26_Wavelet_Approximate_Energy (0.003105)\n",
            "158. feature no:241 feature name:28_Wavelet_Detailed_Energy (0.003096)\n",
            "159. feature no:41 feature name:3_Wavelet_Detailed_Energy (0.003093)\n",
            "160. feature no:24 feature name:1_Wavelet_Detailed_Std_Deviation (0.003091)\n",
            "161. feature no:118 feature name:13_Wavelet_Approximate_Energy (0.003088)\n",
            "162. feature no:35 feature name:2_Wavelet_Detailed_Entropy (0.003079)\n",
            "163. feature no:232 feature name:27_Wavelet_Detailed_Std _Deviation (0.003048)\n",
            "164. feature no:81 feature name:8_Wavelet_Detailed_Energy (0.003046)\n",
            "165. feature no:119 feature name:13_Wavelet_Detailed_Mean (0.003043)\n",
            "166. feature no:94 feature name:10_Wavelet_Approximate_Energy (0.003034)\n",
            "167. feature no:182 feature name:21_Wavelet_Approximate_Energy (0.003021)\n",
            "168. feature no:134 feature name:15_Wavelet_Approximate_Energy (0.003021)\n",
            "169. feature no:146 feature name:16_Wavelet_Approximate_Entropy (0.003013)\n",
            "170. feature no:64 feature name:6_Wavelet_Detailed_Std _Deviation (0.002995)\n",
            "171. feature no:155 feature name:17_Wavelet_Detailed_Entropy (0.002991)\n",
            "172. feature no:46 feature name:4_Wavelet_Approximate_Energy (0.002991)\n",
            "173. feature no:56 feature name:5_Wavelet_Detailed_Std _Deviation (0.002990)\n",
            "174. feature no:80 feature name:8_Wavelet_Detailed_Std _Deviation (0.002977)\n",
            "175. feature no:65 feature name:6_Wavelet_Detailed_Energy (0.002976)\n",
            "176. feature no:121 feature name:13_Wavelet_Detailed_Energy (0.002959)\n",
            "177. feature no:110 feature name:12_Wavelet_Approximate_Energy (0.002953)\n",
            "178. feature no:176 feature name:20_Wavelet_Detailed_Std _Deviation (0.002948)\n",
            "179. feature no:126 feature name:14_Wavelet_Approximate_Energy (0.002936)\n",
            "180. feature no:158 feature name:18_Wavelet_Approximate_Energy (0.002927)\n",
            "181. feature no:90 feature name:9_Wavelet_Approximate_Entropy (0.002917)\n",
            "182. feature no:38 feature name:3_Wavelet_Approximate_Energy (0.002912)\n",
            "183. feature no:88 feature name:9_Wavelet_Detailed_Std _Deviation (0.002902)\n",
            "184. feature no:139 feature name:15_Wavelet_Detailed_Entropy (0.002862)\n",
            "185. feature no:150 feature name:17_Wavelet_Approximate_Energy (0.002820)\n",
            "186. feature no:152 feature name:17_Wavelet_Detailed_Std _Deviation (0.002810)\n",
            "187. feature no:192 feature name:22_Wavelet_Detailed_Std _Deviation (0.002800)\n",
            "188. feature no:193 feature name:22_Wavelet_Detailed_Energy (0.002799)\n",
            "189. feature no:230 feature name:27_Wavelet_Approximate_Energy (0.002787)\n",
            "190. feature no:238 feature name:28_Wavelet_Approximate_Energy (0.002774)\n",
            "191. feature no:86 feature name:9_Wavelet_Approximate_Energy (0.002767)\n",
            "192. feature no:115 feature name:12_Wavelet_Detailed_Entropy (0.002764)\n",
            "193. feature no:120 feature name:13_Wavelet_Detailed_Std _Deviation (0.002689)\n",
            "194. feature no:104 feature name:11_Wavelet_Detailed_Std _Deviation (0.002681)\n",
            "195. feature no:22 feature name:1_Wavelet_Approximate_Energy (0.002668)\n",
            "196. feature no:163 feature name:18_Wavelet_Detailed_Entropy (0.002658)\n",
            "197. feature no:75 feature name:7_Wavelet_Detailed_Entropy (0.002646)\n",
            "198. feature no:51 feature name:4_Wavelet_Detailed_Entropy (0.002646)\n",
            "199. feature no:198 feature name:23_Wavelet_Approximate_Energy (0.002613)\n",
            "200. feature no:203 feature name:23_Wavelet_Detailed_Entropy (0.002607)\n",
            "201. feature no:128 feature name:14_Wavelet_Detailed_Std _Deviation (0.002596)\n",
            "202. feature no:217 feature name:25_Wavelet_Detailed_Energy (0.002593)\n",
            "203. feature no:216 feature name:25_Wavelet_Detailed_Std _Deviation (0.002570)\n",
            "204. feature no:106 feature name:11_Wavelet_Approximate_Entropy (0.002519)\n",
            "205. feature no:214 feature name:25_Wavelet_Approximate_Energy (0.002511)\n",
            "206. feature no:219 feature name:25_Wavelet_Detailed_Entropy (0.002505)\n",
            "207. feature no:83 feature name:8_Wavelet_Detailed_Entropy (0.002454)\n",
            "208. feature no:91 feature name:9_Wavelet_Detailed_Entropy (0.002452)\n",
            "209. feature no:78 feature name:8_Wavelet_Approximate_Energy (0.002451)\n",
            "210. feature no:227 feature name:26_Wavelet_Detailed_Entropy (0.002448)\n",
            "211. feature no:190 feature name:22_Wavelet_Approximate_Energy (0.002442)\n",
            "212. feature no:62 feature name:6_Wavelet_Approximate_Energy (0.002412)\n",
            "213. feature no:171 feature name:19_Wavelet_Detailed_Entropy (0.002376)\n",
            "214. feature no:166 feature name:19_Wavelet_Approximate_Energy (0.002376)\n",
            "215. feature no:235 feature name:27_Wavelet_Detailed_Entropy (0.002367)\n",
            "216. feature no:147 feature name:16_Wavelet_Detailed_Entropy (0.002362)\n",
            "217. feature no:225 feature name:26_Wavelet_Detailed_Energy (0.002308)\n",
            "218. feature no:49 feature name:4_Wavelet_Detailed_Energy (0.002304)\n",
            "219. feature no:59 feature name:5_Wavelet_Detailed_Entropy (0.002275)\n",
            "220. feature no:25 feature name:1_Wavelet_Detailed_Energy (0.002238)\n",
            "221. feature no:137 feature name:15_Wavelet_Detailed_Energy (0.002217)\n",
            "222. feature no:169 feature name:19_Wavelet_Detailed_Energy (0.002213)\n",
            "223. feature no:226 feature name:26_Wavelet_Approximate_Entropy (0.002202)\n",
            "224. feature no:210 feature name:24_Wavelet_Approximate_Entropy (0.002191)\n",
            "225. feature no:107 feature name:11_Wavelet_Detailed_Entropy (0.002172)\n",
            "226. feature no:168 feature name:19_Wavelet_Detailed_Std _Deviation (0.002158)\n",
            "227. feature no:224 feature name:26_Wavelet_Detailed_Std _Deviation (0.002156)\n",
            "228. feature no:138 feature name:15_Wavelet_Approximate_Entropy (0.002154)\n",
            "229. feature no:105 feature name:11_Wavelet_Detailed_Energy (0.002129)\n",
            "230. feature no:131 feature name:14_Wavelet_Detailed_Entropy (0.002118)\n",
            "231. feature no:243 feature name:28_Wavelet_Detailed_Entropy (0.002106)\n",
            "232. feature no:211 feature name:24_Wavelet_Detailed_Entropy (0.002095)\n",
            "233. feature no:40 feature name:3_Wavelet_Detailed_Std _Deviation (0.002068)\n",
            "234. feature no:123 feature name:13_Wavelet_Detailed_Entropy (0.002052)\n",
            "235. feature no:99 feature name:10_Wavelet_Detailed_Entropy (0.001960)\n",
            "236. feature no:195 feature name:22_Wavelet_Detailed_Entropy (0.001957)\n",
            "237. feature no:129 feature name:14_Wavelet_Detailed_Energy (0.001943)\n",
            "238. feature no:67 feature name:6_Wavelet_Detailed_Entropy (0.001914)\n",
            "239. feature no:208 feature name:24_Wavelet_Detailed_Std _Deviation (0.001889)\n",
            "240. feature no:209 feature name:24_Wavelet_Detailed_Energy (0.001860)\n",
            "241. feature no:174 feature name:20_Wavelet_Approximate_Energy (0.001822)\n",
            "242. feature no:177 feature name:20_Wavelet_Detailed_Energy (0.001752)\n",
            "243. feature no:206 feature name:24_Wavelet_Approximate_Energy (0.001751)\n",
            "244. feature no:136 feature name:15_Wavelet_Detailed_Std _Deviation (0.001667)\n",
            "245. feature no:179 feature name:20_Wavelet_Detailed_Entropy (0.001562)\n",
            "246. feature no:48 feature name:4_Wavelet_Detailed_Std _Deviation (0.001497)\n"
          ]
        },
        {
          "output_type": "display_data",
          "data": {
            "text/plain": [
              "<Figure size 432x288 with 1 Axes>"
            ],
            "image/png": "[encoded data removed]"
          },
          "metadata": {
            "needs_background": "light"
          }
        }
      ],
      "source": [
        "model = gbt_importance(X_train=X_train,y_train=y_train,\n",
        "                             max_depth=10,top_n=10)"
      ]
    },
    {
      "cell_type": "code",
      "execution_count": null,
      "metadata": {
        "id": "1gEsTFJuu3d7",
        "outputId": "c85a7215-87e6-4dfd-dd73-2f2923b6da1a",
        "colab": {
          "base_uri": "https://localhost:8080/"
        }
      },
      "outputs": [
        {
          "output_type": "execute_result",
          "data": {
            "text/plain": [
              "Index(['Delta/Theta', '9_Wavelet_Approximate_Mean', 'Permutation_Entropy'], dtype='object')"
            ]
          },
          "metadata": {},
          "execution_count": 16
        }
      ],
      "source": [
        "# select features whose importance > threshold\n",
        "\n",
        "# only 8 features have importance > 0.01\n",
        "feature_selection = SelectFromModel(model, threshold=0.01,prefit=True) \n",
        "selected_feat = X_train.columns[(feature_selection.get_support())]\n",
        "selected_feat"
      ]
    },
    {
      "cell_type": "code",
      "execution_count": null,
      "metadata": {
        "collapsed": true,
        "id": "mKG_j_L4u3d8"
      },
      "outputs": [],
      "source": [
        "#import pandas as pd\n",
        "import numpy as np\n",
        "\n",
        "import matplotlib.pyplot as plt\n",
        "#import seaborn as sns\n",
        "#from sklearn.model_selection import train_test_split\n",
        "\n",
        "from sklearn.ensemble import RandomForestClassifier, GradientBoostingClassifier #RandomForestRegressor\n",
        "#from sklearn.feature_selection import SelectFromModel\n",
        "\n",
        "# 2018.11.27 Created by Eamon.Zhang\n",
        "\n",
        "def rf_importance(X_train,y_train,max_depth=10,class_weight=None,top_n=15,n_estimators=50,random_state=0):\n",
        "    \n",
        "    model = RandomForestClassifier(n_estimators=n_estimators,max_depth=max_depth,\n",
        "                                    random_state=random_state,class_weight=class_weight,\n",
        "                                    n_jobs=-1)\n",
        "    model.fit(X_train, y_train)\n",
        "    importances = model.feature_importances_\n",
        "    indices = np.argsort(importances)[::-1]\n",
        "    feat_labels = X_train.columns\n",
        "    std = np.std([tree.feature_importances_ for tree in model.estimators_],\n",
        "                 axis=0) #  inter-trees variability. \n",
        "    print(\"Feature ranking:\") \n",
        "#    l1,l2,l3,l4 = [],[],[],[]\n",
        "    for f in range(X_train.shape[1]):\n",
        "        print(\"%d. feature no:%d feature name:%s (%f)\" % (f + 1, indices[f], feat_labels[indices[f]], importances[indices[f]]))\n",
        "#        l1.append(f+1)\n",
        "#        l2.append(indices[f])\n",
        "#        l3.append(feat_labels[indices[f]])\n",
        "#        l4.append(importances[indices[f]])\n",
        "    #feature_rank = pd.Dataframe(zip(l1,l2,l3,l4),columns=['id','indice','feature','importances'])\n",
        "    \n",
        "    # plotting\n",
        "    indices = indices[0:top_n]\n",
        "    plt.figure()\n",
        "    plt.title(\"Feature importances top %d\" % top_n)\n",
        "    plt.bar(range(top_n), importances[indices],\n",
        "           color=\"r\", yerr=std[indices], align=\"center\")\n",
        "    plt.xticks(range(top_n), indices)\n",
        "    plt.xlim([-1,top_n])\n",
        "    plt.show() \n",
        "    \n",
        "    return model\n",
        "\n",
        "\n",
        "def gbt_importance(X_train,y_train,max_depth=10,top_n=15,n_estimators=50,random_state=0):\n",
        "    \n",
        "    model = GradientBoostingClassifier(n_estimators=n_estimators,max_depth=max_depth,\n",
        "                                       random_state=random_state)\n",
        "    model.fit(X_train, y_train)\n",
        "    importances = model.feature_importances_\n",
        "    indices = np.argsort(importances)[::-1]\n",
        "    feat_labels = X_train.columns\n",
        "    std = np.std([tree[0].feature_importances_ for tree in model.estimators_],\n",
        "                 axis=0) #  inter-trees variability. \n",
        "    print(\"Feature ranking:\")   \n",
        "#    l1,l2,l3,l4 = [],[],[],[]\n",
        "    for f in range(X_train.shape[1]):\n",
        "        print(\"%d. feature no:%d feature name:%s (%f)\" % (f + 1, indices[f], feat_labels[indices[f]], importances[indices[f]]))\n",
        "#        l1.append(f+1)\n",
        "#        l2.append(indices[f])\n",
        "#        l3.append(feat_labels[indices[f]])\n",
        "#        l4.append(importances[indices[f]])\n",
        "#    feature_rank = pd.Dataframe(zip(l1,l2,l3,l4),columns=['id','indice','feature','importances'])   \n",
        "    # plotting\n",
        "    indices = indices[0:top_n]\n",
        "    plt.figure()\n",
        "    plt.title(\"Feature importances top %d\" % top_n)\n",
        "    plt.bar(range(top_n), importances[indices],\n",
        "           color=\"r\", yerr=std[indices], align=\"center\")\n",
        "    plt.xticks(range(top_n), indices)\n",
        "    plt.xlim([-1,top_n])\n",
        "    plt.show() \n",
        "    \n",
        "    return model"
      ]
    }
  ],
  "metadata": {
    "kernelspec": {
      "display_name": "Python 3",
      "language": "python",
      "name": "python3"
    },
    "language_info": {
      "codemirror_mode": {
        "name": "ipython",
        "version": 3
      },
      "file_extension": ".py",
      "mimetype": "text/x-python",
      "name": "python",
      "nbconvert_exporter": "python",
      "pygments_lexer": "ipython3",
      "version": "3.6.1"
    },
    "colab": {
      "provenance": [],
      "include_colab_link": true
    }
  },
  "nbformat": 4,
  "nbformat_minor": 0
}