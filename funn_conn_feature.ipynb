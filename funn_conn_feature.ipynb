{
  "nbformat": 4,
  "nbformat_minor": 0,
  "metadata": {
    "colab": {
      "provenance": [],
      "authorship_tag": "ABX9TyPsNP+BVp9d6rCOTU2j4v4g",
      "include_colab_link": true
    },
    "kernelspec": {
      "name": "python3",
      "display_name": "Python 3"
    },
    "language_info": {
      "name": "python"
    }
  },
  "cells": [
    {
      "cell_type": "markdown",
      "metadata": {
        "id": "view-in-github",
        "colab_type": "text"
      },
      "source": [
        "<a href=\"https://colab.research.google.com/github/ayushi15092002/mental-health-workload/blob/main/funn_conn_feature.ipynb\" target=\"_parent\"><img src=\"https://colab.research.google.com/assets/colab-badge.svg\" alt=\"Open In Colab\"/></a>"
      ]
    },
    {
      "cell_type": "code",
      "execution_count": null,
      "metadata": {
        "id": "aVb3LqLldbqe"
      },
      "outputs": [],
      "source": [
        "# Load the Drive helper and mount\n",
        "from google.colab import drive\n",
        "\n",
        "# This will prompt for authorization.\n",
        "drive.mount('/content/drive')"
      ]
    },
    {
      "cell_type": "code",
      "source": [
        "pip install mne"
      ],
      "metadata": {
        "id": "WdmdztL0gJi8"
      },
      "execution_count": null,
      "outputs": []
    },
    {
      "cell_type": "code",
      "source": [
        "pip install mne_connectivity"
      ],
      "metadata": {
        "id": "MByTxhOEr1Yu"
      },
      "execution_count": null,
      "outputs": []
    },
    {
      "cell_type": "code",
      "source": [
        "import numpy as np\n",
        "import pandas as pd\n",
        "import mne\n",
        "from scipy.signal import hilbert\n",
        "from scipy.signal import coherence\n",
        "from mne_connectivity import spectral_connectivity_epochs"
      ],
      "metadata": {
        "id": "w667rWyggJeL"
      },
      "execution_count": 6,
      "outputs": []
    },
    {
      "cell_type": "code",
      "source": [
        "clean_data_dir = \"/content/drive/My Drive/drdo/cleanData_new/0_back/VP001_3.fif\"\n",
        "# add_features(clean_data_dir,3)\n",
        "x = []\n",
        "# Load the epoched EEG data\n",
        "\n",
        "epochs = mne.read_epochs(clean_data_dir)\n",
        "print(\"epochs \", epochs)\n",
        "\n",
        "# Define the frequency range\n",
        "freqs = np.arange(1, 100, 1)\n",
        "\n",
        "# Calculate the coherence\n",
        "# coh = spectral_connectivity_epochs(epochs, method='coh', sfreq=epochs.info['sfreq'], fmin=freqs[0], fmax=freqs[-1], faverage=True, tmin=None, tmax=None)\n",
        "coh = spectral_connectivity_epochs(epochs, method='phcoh', sfreq=epochs.info['sfreq'], fmin=freqs[0], fmax=freqs[-1], faverage=True, tmin=None, tmax=None)\n",
        "# imcoh = spectral_connectivity_epochs(epochs, method='imcoh', sfreq=epochs.info['sfreq'], fmin=freqs[0], fmax=freqs[-1], faverage=True, tmin=None, tmax=None)\n",
        "# plv = spectral_connectivity_epochs(epochs, method='plv', sfreq=epochs.info['sfreq'], fmin=freqs[0], fmax=freqs[-1], faverage=True, tmin=None, tmax=None)\n",
        "# ciplv = spectral_connectivity_epochs(epochs, method='ciplv', sfreq=epochs.info['sfreq'], fmin=freqs[0], fmax=freqs[-1], faverage=True, tmin=None, tmax=None)\n",
        "# ppc = spectral_connectivity_epochs(epochs, method='ppc', sfreq=epochs.info['sfreq'], fmin=freqs[0], fmax=freqs[-1], faverage=True, tmin=None, tmax=None)\n",
        "# pli = spectral_connectivity_epochs(epochs, method='pli', sfreq=epochs.info['sfreq'], fmin=freqs[0], fmax=freqs[-1], faverage=True, tmin=None, tmax=None)\n",
        "# dpli = spectral_connectivity_epochs(epochs, method='dpli', sfreq=epochs.info['sfreq'], fmin=freqs[0], fmax=freqs[-1], faverage=True, tmin=None, tmax=None)\n",
        "# wpli = spectral_connectivity_epochs(epochs, method='wpli', sfreq=epochs.info['sfreq'], fmin=freqs[0], fmax=freqs[-1], faverage=True, tmin=None, tmax=None)\n",
        "# wpli2_debiased = spectral_connectivity_epochs(epochs, method='wpli2_debiased', sfreq=epochs.info['sfreq'], fmin=freqs[0], fmax=freqs[-1], faverage=True, tmin=None, tmax=None)\n",
        "\n",
        "coh_values = coh.xarray.data\n",
        "# imcoh_values = imcoh.xarray.data\n",
        "# plv_values = plv.xarray.data\n",
        "# ciplv_values = ciplv.xarray.data\n",
        "# ppc_values = ppc.xarray.data\n",
        "# pli_values = pli.xarray.data\n",
        "# dpli_values = dpli.xarray.data\n",
        "# wpli_values = wpli.xarray.data\n",
        "# wpli2_debiased_values = wpli2_debiased.xarray.data\n",
        "\n",
        "# names = ['Coherence', 'Imaginary coherence','Phase-Locking Value (PLV)','corrected imaginary PLV (icPLV)','Pairwise Phase Consistency (PPC)','Phase Lag Index (PLI)','Unbiased estimator of squared PLI','Directed Phase Lag Index (DPLI)','Weighted Phase Lag Index (WPLI)','Debiased estimator of squared WPLI']\n",
        "# x.append(names)\n",
        "for i in range(0,len(coh_values)):\n",
        "  feature =[]\n",
        "  feature.append(float(coh_values[i]))\n",
        "  # feature.append(float(imcoh_values[i]))\n",
        "  # feature.append(float(plv_values[i]))\n",
        "  # feature.append(float(ciplv_values[i]))\n",
        "  # feature.append(float(ppc_values[i]))\n",
        "  # feature.append(float(pli_values[i]))\n",
        "  # feature.append(float(dpli_values[i]))\n",
        "  # feature.append(float(wpli_values[i]))\n",
        "  # feature.append(float(wpli2_debiased_values[i]))\n",
        "  x.append(feature)\n",
        "\n",
        "print(\"x\",x)\n",
        "\n",
        "\n",
        "# x=np.array(x)\n",
        "df=pd.DataFrame(x)\n",
        "df.to_csv(r'/content/drive/My Drive/drdo/spectral_analysis/func_conn_features.xlsx',index=False)"
      ],
      "metadata": {
        "colab": {
          "base_uri": "https://localhost:8080/",
          "height": 696
        },
        "id": "07aEMAoTKpCE",
        "outputId": "b2c07720-e5e3-45a6-e089-c2ff098ebd03"
      },
      "execution_count": 10,
      "outputs": [
        {
          "output_type": "stream",
          "name": "stdout",
          "text": [
            "Reading /content/drive/My Drive/drdo/cleanData_new/0_back/VP001_3.fif ...\n",
            "    Found the data of interest:\n",
            "        t =       0.00 ...    2000.00 ms\n",
            "        0 CTF compensation matrices available\n",
            "Not setting metadata\n",
            "63 matching events found\n",
            "No baseline correction applied\n",
            "0 projection items activated\n",
            "epochs  <EpochsFIF |  63 events (all good), 0 - 2 sec, baseline off, ~5.8 MB, data loaded,\n",
            " '1': 63>\n"
          ]
        },
        {
          "output_type": "stream",
          "name": "stderr",
          "text": [
            "<ipython-input-10-119f4389035e>:6: RuntimeWarning: This filename (/content/drive/My Drive/drdo/cleanData_new/0_back/VP001_3.fif) does not conform to MNE naming conventions. All epochs files should end with -epo.fif, -epo.fif.gz, _epo.fif or _epo.fif.gz\n",
            "  epochs = mne.read_epochs(clean_data_dir)\n"
          ]
        },
        {
          "output_type": "error",
          "ename": "ValueError",
          "evalue": "ignored",
          "traceback": [
            "\u001b[0;31m---------------------------------------------------------------------------\u001b[0m",
            "\u001b[0;31mValueError\u001b[0m                                Traceback (most recent call last)",
            "\u001b[0;32m<ipython-input-10-119f4389035e>\u001b[0m in \u001b[0;36m<module>\u001b[0;34m\u001b[0m\n\u001b[1;32m     12\u001b[0m \u001b[0;31m# Calculate the coherence\u001b[0m\u001b[0;34m\u001b[0m\u001b[0;34m\u001b[0m\u001b[0;34m\u001b[0m\u001b[0m\n\u001b[1;32m     13\u001b[0m \u001b[0;31m# coh = spectral_connectivity_epochs(epochs, method='coh', sfreq=epochs.info['sfreq'], fmin=freqs[0], fmax=freqs[-1], faverage=True, tmin=None, tmax=None)\u001b[0m\u001b[0;34m\u001b[0m\u001b[0;34m\u001b[0m\u001b[0;34m\u001b[0m\u001b[0m\n\u001b[0;32m---> 14\u001b[0;31m \u001b[0mcoh\u001b[0m \u001b[0;34m=\u001b[0m \u001b[0mspectral_connectivity_epochs\u001b[0m\u001b[0;34m(\u001b[0m\u001b[0mepochs\u001b[0m\u001b[0;34m,\u001b[0m \u001b[0mmethod\u001b[0m\u001b[0;34m=\u001b[0m\u001b[0;34m'phcoh'\u001b[0m\u001b[0;34m,\u001b[0m \u001b[0msfreq\u001b[0m\u001b[0;34m=\u001b[0m\u001b[0mepochs\u001b[0m\u001b[0;34m.\u001b[0m\u001b[0minfo\u001b[0m\u001b[0;34m[\u001b[0m\u001b[0;34m'sfreq'\u001b[0m\u001b[0;34m]\u001b[0m\u001b[0;34m,\u001b[0m \u001b[0mfmin\u001b[0m\u001b[0;34m=\u001b[0m\u001b[0mfreqs\u001b[0m\u001b[0;34m[\u001b[0m\u001b[0;36m0\u001b[0m\u001b[0;34m]\u001b[0m\u001b[0;34m,\u001b[0m \u001b[0mfmax\u001b[0m\u001b[0;34m=\u001b[0m\u001b[0mfreqs\u001b[0m\u001b[0;34m[\u001b[0m\u001b[0;34m-\u001b[0m\u001b[0;36m1\u001b[0m\u001b[0;34m]\u001b[0m\u001b[0;34m,\u001b[0m \u001b[0mfaverage\u001b[0m\u001b[0;34m=\u001b[0m\u001b[0;32mTrue\u001b[0m\u001b[0;34m,\u001b[0m \u001b[0mtmin\u001b[0m\u001b[0;34m=\u001b[0m\u001b[0;32mNone\u001b[0m\u001b[0;34m,\u001b[0m \u001b[0mtmax\u001b[0m\u001b[0;34m=\u001b[0m\u001b[0;32mNone\u001b[0m\u001b[0;34m)\u001b[0m\u001b[0;34m\u001b[0m\u001b[0;34m\u001b[0m\u001b[0m\n\u001b[0m\u001b[1;32m     15\u001b[0m \u001b[0;31m# imcoh = spectral_connectivity_epochs(epochs, method='imcoh', sfreq=epochs.info['sfreq'], fmin=freqs[0], fmax=freqs[-1], faverage=True, tmin=None, tmax=None)\u001b[0m\u001b[0;34m\u001b[0m\u001b[0;34m\u001b[0m\u001b[0;34m\u001b[0m\u001b[0m\n\u001b[1;32m     16\u001b[0m \u001b[0;31m# plv = spectral_connectivity_epochs(epochs, method='plv', sfreq=epochs.info['sfreq'], fmin=freqs[0], fmax=freqs[-1], faverage=True, tmin=None, tmax=None)\u001b[0m\u001b[0;34m\u001b[0m\u001b[0;34m\u001b[0m\u001b[0;34m\u001b[0m\u001b[0m\n",
            "\u001b[0;32m<decorator-gen-724>\u001b[0m in \u001b[0;36mspectral_connectivity_epochs\u001b[0;34m(data, names, method, indices, sfreq, mode, fmin, fmax, fskip, faverage, tmin, tmax, mt_bandwidth, mt_adaptive, mt_low_bias, cwt_freqs, cwt_n_cycles, block_size, n_jobs, verbose)\u001b[0m\n",
            "\u001b[0;32m/usr/local/lib/python3.8/dist-packages/mne_connectivity/spectral/epochs.py\u001b[0m in \u001b[0;36mspectral_connectivity_epochs\u001b[0;34m(data, names, method, indices, sfreq, mode, fmin, fmax, fskip, faverage, tmin, tmax, mt_bandwidth, mt_adaptive, mt_low_bias, cwt_freqs, cwt_n_cycles, block_size, n_jobs, verbose)\u001b[0m\n\u001b[1;32m    994\u001b[0m     \u001b[0;31m# handle connectivity estimators\u001b[0m\u001b[0;34m\u001b[0m\u001b[0;34m\u001b[0m\u001b[0;34m\u001b[0m\u001b[0m\n\u001b[1;32m    995\u001b[0m     (con_method_types, n_methods, accumulate_psd,\n\u001b[0;32m--> 996\u001b[0;31m      n_comp_args) = _check_estimators(method=method, mode=mode)\n\u001b[0m\u001b[1;32m    997\u001b[0m \u001b[0;34m\u001b[0m\u001b[0m\n\u001b[1;32m    998\u001b[0m     \u001b[0mevents\u001b[0m \u001b[0;34m=\u001b[0m \u001b[0;32mNone\u001b[0m\u001b[0;34m\u001b[0m\u001b[0;34m\u001b[0m\u001b[0m\n",
            "\u001b[0;32m/usr/local/lib/python3.8/dist-packages/mne_connectivity/spectral/epochs.py\u001b[0m in \u001b[0;36m_check_estimators\u001b[0;34m(method, mode)\u001b[0m\n\u001b[1;32m    739\u001b[0m             \u001b[0mcon_method_types\u001b[0m\u001b[0;34m.\u001b[0m\u001b[0mappend\u001b[0m\u001b[0;34m(\u001b[0m\u001b[0m_CON_METHOD_MAP\u001b[0m\u001b[0;34m[\u001b[0m\u001b[0mthis_method\u001b[0m\u001b[0;34m]\u001b[0m\u001b[0;34m)\u001b[0m\u001b[0;34m\u001b[0m\u001b[0;34m\u001b[0m\u001b[0m\n\u001b[1;32m    740\u001b[0m         \u001b[0;32melif\u001b[0m \u001b[0misinstance\u001b[0m\u001b[0;34m(\u001b[0m\u001b[0mthis_method\u001b[0m\u001b[0;34m,\u001b[0m \u001b[0mstr\u001b[0m\u001b[0;34m)\u001b[0m\u001b[0;34m:\u001b[0m\u001b[0;34m\u001b[0m\u001b[0;34m\u001b[0m\u001b[0m\n\u001b[0;32m--> 741\u001b[0;31m             raise ValueError('%s is not a valid connectivity method' %\n\u001b[0m\u001b[1;32m    742\u001b[0m                              this_method)\n\u001b[1;32m    743\u001b[0m         \u001b[0;32melse\u001b[0m\u001b[0;34m:\u001b[0m\u001b[0;34m\u001b[0m\u001b[0;34m\u001b[0m\u001b[0m\n",
            "\u001b[0;31mValueError\u001b[0m: phcoh is not a valid connectivity method"
          ]
        }
      ]
    },
    {
      "cell_type": "code",
      "source": [
        "34444444444444444444444444444444444444444444444444444444444/*- ndef add_features(path, n_back):\n",
        "  epochs = mne.read_epochs(fname=path,verbose=False)\n",
        "  nchans = epochs.info['nchan']\n",
        "  dat = []\n",
        "  for i in epochs:\n",
        "    dat.append(np.array(i))\n",
        "  \n",
        "  dat = np.array(dat)\n",
        "  # print(\"dat.shape\", dat.shape)\n",
        "  # print(\"dat.shape\",dat.shape[2])\n",
        "  tr = dat.shape[1]\n",
        "  # x=[]\n",
        "  # x.append(names)\n",
        "  for i in dat:\n",
        "\n",
        "    features=[]\n",
        "    # Fractal Dimension\n",
        "    features.append(phase_coherence(i))\n",
        "\n",
        "    \n",
        "  #   x.append(features)\n",
        "\n",
        "\n",
        "  # x=np.array(x)      \n",
        "  "
      ],
      "metadata": {
        "id": "kCv3yjZggJp_"
      },
      "execution_count": null,
      "outputs": []
    },
    {
      "cell_type": "code",
      "source": [
        "def coherence_feature(data):\n",
        "\n",
        "  data_len = len(data)\n",
        "  coherence_values = []\n",
        "\n",
        "  for i in range(0,data_len):\n",
        "    for j in range(i,data_len):\n",
        "      # Calculate coherence between channels\n",
        "      freqs,coh = coherence(data[i,:], data[j,:], fs=200)\n",
        "      # print(\"coh \",coh)\n",
        "      print(np.mean(coh))\n",
        "      print(\">>>>>>>>>>>>>>>>>>>>>>>>>>>>>>>>>>>>>>>>>>>>>\")\n",
        "      coherence_values.append(np.mean(coh))\n",
        "\n",
        "\n",
        "  print(\"coherence \",np.mean(coherence_values))\n",
        "\n",
        "\n",
        "  # Print coherence values\n",
        "  # print(coh)\n",
        "  "
      ],
      "metadata": {
        "id": "wy4Ypur2gzcT"
      },
      "execution_count": null,
      "outputs": []
    },
    {
      "cell_type": "code",
      "source": [
        "def partial_coherence(data):\n",
        "\n",
        "  data_len = len(data)\n",
        "  coherence_values = []\n",
        "\n",
        "  for i in range(0,data_len):\n",
        "    for j in range(i,data_len):\n",
        "      # Define the frequency range\n",
        "      freqs = np.arange(1, 100, 1)\n",
        "\n",
        "      # Define the method to use for partial coherence\n",
        "      method = 'partial'\n",
        "\n",
        "      # Calculate the partial coherence\n",
        "      coh, _, _, _, _, _ = spectral_connectivity(data, method=method, mode='multitaper', sfreq=epochs.info['sfreq'], fmin=freqs[0], fmax=freqs[-1], faverage=True, tmin=None, tmax=None, mt_adaptive=False, n_jobs=1)\n",
        "      print(np.mean(coh))\n",
        "      print(\">>>>>>>>>>>>>>>>>>>>>>>>>>>>>>>>>>>>>>>>>>>>>\")\n",
        "      coherence_values.append(np.mean(coh))\n",
        "\n",
        "\n",
        "  print(\"coherence \",np.mean(coherence_values))\n",
        "\n",
        "\n",
        "  # Print coherence values\n",
        "  # print(coh)"
      ],
      "metadata": {
        "id": "BXxO_NutQa_w"
      },
      "execution_count": null,
      "outputs": []
    }
  ]
}